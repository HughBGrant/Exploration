{
 "cells": [
  {
   "cell_type": "markdown",
   "id": "e8b96470",
   "metadata": {},
   "source": [
    "# 0. 영화리뷰 텍스트 감성분석하기"
   ]
  },
  {
   "cell_type": "markdown",
   "id": "5101e68a",
   "metadata": {},
   "source": [
    "네이버 영화리뷰의 텍스트를 감성분석해보자(긍정 부정 분류)"
   ]
  },
  {
   "cell_type": "markdown",
   "id": "2d1bca19",
   "metadata": {},
   "source": [
    "# 1. 데이터 준비와 확인"
   ]
  },
  {
   "cell_type": "markdown",
   "id": "78c5aa57",
   "metadata": {},
   "source": [
    "이 프로젝트를 진행하기 위해서는 konlpy.tag의 Mecab 함수가 필요한데  \n",
    "로컬에서 평범하게 kolnpy 라이브러리를 설치하면 Mecab 함수가 제대로 작동이 안되고 수동으로 깔으라고 사이트를 안내해준다.  \n",
    "하지만 안내해준대로 따라해도 실행이 안돼서 구글링을 하던 중 실행이 가능하게 만들어준 블로그를 발견했다.  \n",
    "장장 이틀에 걸친 도전이었다."
   ]
  },
  {
   "cell_type": "markdown",
   "id": "5bc61ae6",
   "metadata": {},
   "source": [
    "윈도우에서 mecab 깔기(feat. VSCode)\n",
    "\n",
    "1\\. 가상환경 생성\n",
    "1) conda create -n konlpy python=3.7.0 # 다른 버전의 파이썬을 설치하면 안될수도\n",
    "2) conda activate konlpy\n",
    "3) pip install ipykernel\n",
    "4) python -m ipykernel install --user --name konlpy"
   ]
  },
  {
   "cell_type": "markdown",
   "id": "323b9ff0",
   "metadata": {},
   "source": [
    "2\\. c 드라이브에 Macab 파일 설치  \n",
    "https://joyhong.tistory.com/m/127\n",
    "\n",
    "1) mecab-ko-msvc-x64.zip 설치 및 압축 풀기  \n",
    "https://github.com/Pusnow/mecab-ko-msvc/releases/tag/release-0.9.2-msvc-3\n",
    "2) mecab-ko-dic-msvc.zip 설치 및 압축 풀기  \n",
    "https://github.com/Pusnow/mecab-ko-dic-msvc/releases/tag/mecab-ko-dic-2.1.1-20180720-msvc-2\n",
    "3) mecab_python-0.996_ko_0.9.2_msvc-cp37-cp37m-win_amd64.whl 설치(버전3.7을 잘 확인)  \n",
    "https://github.com/Pusnow/mecab-python-msvc/releases/tag/mecab_python-0.996_ko_0.9.2_msvc-2\n",
    "4) mecab 폴더를 만든 후 해당 폴더로 1, 2번 폴더의 파일들과 3번 파일 이동시키기(아래 사진처럼)\n",
    "![](data/Mecab_dir.JPG)"
   ]
  },
  {
   "cell_type": "markdown",
   "id": "85d3c799",
   "metadata": {},
   "source": [
    "3\\. 라이브러리 불러오기\n",
    "1) pip install mecab_python-0.996_ko_0.9.2_msvc-cp37-cp37m-win_amd64.whl # 해당 폴더로 이동한 후 불러오기\n",
    "2) pip install konlpy"
   ]
  },
  {
   "cell_type": "code",
   "execution_count": 203,
   "id": "ca909c5c",
   "metadata": {},
   "outputs": [],
   "source": [
    "import numpy as np\n",
    "import pandas as pd\n",
    "import matplotlib.pyplot as plt\n",
    "\n",
    "import tensorflow as tf\n",
    "from konlpy.tag import Mecab\n",
    "from gensim.models.keyedvectors import Word2VecKeyedVectors\n",
    "from collections import Counter"
   ]
  },
  {
   "cell_type": "markdown",
   "id": "a592c9fa",
   "metadata": {},
   "source": [
    "https://github.com/e9t/nsmc  \n",
    "네이버 영화리뷰 파일 주소에서 해당 파일 다운로드."
   ]
  },
  {
   "cell_type": "code",
   "execution_count": 204,
   "id": "fadd8ac4",
   "metadata": {},
   "outputs": [
    {
     "data": {
      "text/html": [
       "<div>\n",
       "<style scoped>\n",
       "    .dataframe tbody tr th:only-of-type {\n",
       "        vertical-align: middle;\n",
       "    }\n",
       "\n",
       "    .dataframe tbody tr th {\n",
       "        vertical-align: top;\n",
       "    }\n",
       "\n",
       "    .dataframe thead th {\n",
       "        text-align: right;\n",
       "    }\n",
       "</style>\n",
       "<table border=\"1\" class=\"dataframe\">\n",
       "  <thead>\n",
       "    <tr style=\"text-align: right;\">\n",
       "      <th></th>\n",
       "      <th>id</th>\n",
       "      <th>document</th>\n",
       "      <th>label</th>\n",
       "    </tr>\n",
       "  </thead>\n",
       "  <tbody>\n",
       "    <tr>\n",
       "      <th>0</th>\n",
       "      <td>9976970</td>\n",
       "      <td>아 더빙.. 진짜 짜증나네요 목소리</td>\n",
       "      <td>0</td>\n",
       "    </tr>\n",
       "    <tr>\n",
       "      <th>1</th>\n",
       "      <td>3819312</td>\n",
       "      <td>흠...포스터보고 초딩영화줄....오버연기조차 가볍지 않구나</td>\n",
       "      <td>1</td>\n",
       "    </tr>\n",
       "    <tr>\n",
       "      <th>2</th>\n",
       "      <td>10265843</td>\n",
       "      <td>너무재밓었다그래서보는것을추천한다</td>\n",
       "      <td>0</td>\n",
       "    </tr>\n",
       "    <tr>\n",
       "      <th>3</th>\n",
       "      <td>9045019</td>\n",
       "      <td>교도소 이야기구먼 ..솔직히 재미는 없다..평점 조정</td>\n",
       "      <td>0</td>\n",
       "    </tr>\n",
       "    <tr>\n",
       "      <th>4</th>\n",
       "      <td>6483659</td>\n",
       "      <td>사이몬페그의 익살스런 연기가 돋보였던 영화!스파이더맨에서 늙어보이기만 했던 커스틴 ...</td>\n",
       "      <td>1</td>\n",
       "    </tr>\n",
       "  </tbody>\n",
       "</table>\n",
       "</div>"
      ],
      "text/plain": [
       "         id                                           document  label\n",
       "0   9976970                                아 더빙.. 진짜 짜증나네요 목소리      0\n",
       "1   3819312                  흠...포스터보고 초딩영화줄....오버연기조차 가볍지 않구나      1\n",
       "2  10265843                                  너무재밓었다그래서보는것을추천한다      0\n",
       "3   9045019                      교도소 이야기구먼 ..솔직히 재미는 없다..평점 조정      0\n",
       "4   6483659  사이몬페그의 익살스런 연기가 돋보였던 영화!스파이더맨에서 늙어보이기만 했던 커스틴 ...      1"
      ]
     },
     "execution_count": 204,
     "metadata": {},
     "output_type": "execute_result"
    }
   ],
   "source": [
    "train = pd.read_table('data/ratings_train.txt')\n",
    "test = pd.read_table('data/ratings_test.txt')\n",
    "\n",
    "train.head()"
   ]
  },
  {
   "cell_type": "markdown",
   "id": "c6824ab3",
   "metadata": {},
   "source": [
    "Feature는 User id, 리뷰 두 개의 변수로 되어있고 Target은 평가(부정-0, 긍정-1)로 구성되어 있다.  \n",
    "우리는 이제부터 리뷰의 내용을 보고 평가를 예측해 보도록 하겠다."
   ]
  },
  {
   "cell_type": "markdown",
   "id": "32c6dd5d",
   "metadata": {},
   "source": [
    "# 2. 데이터로더 구성"
   ]
  },
  {
   "cell_type": "code",
   "execution_count": 205,
   "id": "dc582fe9",
   "metadata": {},
   "outputs": [],
   "source": [
    "tokenizer = Mecab('C:\\mecab\\mecab-ko-dic') # 한국어 토크나이저 생성.\n",
    "stopwords = ['의','가','이','은','들','는','좀','잘','걍','과','도','를','으로','자','에','와','한','하다'] # 불용어 리스트.\n",
    "vocab_size = 10000 # 사전 단어 개수 10000개로 지정."
   ]
  },
  {
   "cell_type": "code",
   "execution_count": 206,
   "id": "1394f7f5",
   "metadata": {},
   "outputs": [],
   "source": [
    "def load_data(train, test, num_words=vocab_size):\n",
    "    # document 변수만 추출.\n",
    "    train.drop_duplicates(subset=['document'], inplace=True)\n",
    "    train = train.dropna(how='any') \n",
    "    test.drop_duplicates(subset=['document'], inplace=True)\n",
    "    test = test.dropna(how='any') \n",
    "    \n",
    "    train_X = []\n",
    "    for sentence in train['document']:\n",
    "        temp_X = tokenizer.morphs(sentence)\n",
    "        temp_X = [word for word in temp_X if not word in stopwords]\n",
    "        train_X.append(temp_X)\n",
    "\n",
    "    test_X = []\n",
    "    for sentence in test['document']:\n",
    "        temp_X = tokenizer.morphs(sentence)\n",
    "        temp_X = [word for word in temp_X if not word in stopwords]\n",
    "        test_X.append(temp_X)\n",
    "    \n",
    "    words = np.concatenate(train_X).tolist()\n",
    "    counter = Counter(words)\n",
    "    vocab = ['<PAD>', '<BOS>', '<UNK>', '<UNUSED>']\n",
    "    counter = counter.most_common(num_words - len(vocab))\n",
    "    vocab += [key for key, _ in counter]\n",
    "    word_to_index = {word: index for index, word in enumerate(vocab)}\n",
    "        \n",
    "    def wordlist_to_indexlist(wordlist):\n",
    "        return [word_to_index[word] if word in word_to_index else word_to_index['<UNK>'] for word in wordlist]\n",
    "        \n",
    "    train_X = list(map(wordlist_to_indexlist, train_X))\n",
    "    test_X = list(map(wordlist_to_indexlist, test_X))\n",
    "        \n",
    "    return train_X, np.array(list(train['label'])), test_X, np.array(list(test['label'])), word_to_index"
   ]
  },
  {
   "cell_type": "markdown",
   "id": "786877b4",
   "metadata": {},
   "source": [
    "1. 데이터 중복 제거\n",
    "2. NaN 결측치 제거\n",
    "3. 한국어 토크나이저로 토큰화\n",
    "4. 불용어(Stopwords) 제거\n",
    "5. 사전word_to_index 구성\n",
    "6. 텍스트 스트링을 사전 인덱스 스트링으로 변환\n",
    "7. 마지막으로 train_X, train_y, test_X, test_y, word_to_index 리턴\n",
    "\n",
    "을 한꺼번에 해주는 로드 데이터 함수 생성."
   ]
  },
  {
   "cell_type": "code",
   "execution_count": 207,
   "id": "4ae80e41",
   "metadata": {},
   "outputs": [
    {
     "name": "stdout",
     "output_type": "stream",
     "text": [
      "훈련 샘플 개수: 146182, 테스트 개수: 49157\n"
     ]
    }
   ],
   "source": [
    "train_X, train_y, test_X, test_y, word_to_index = load_data(train, test)\n",
    "print(\"훈련 샘플 개수: {}, 테스트 개수: {}\".format(len(train_X), len(test_X)))"
   ]
  },
  {
   "cell_type": "code",
   "execution_count": 208,
   "id": "df67db49",
   "metadata": {},
   "outputs": [
    {
     "name": "stdout",
     "output_type": "stream",
     "text": [
      "[32, 74, 919, 4, 4, 39, 228, 20, 33, 748]\n",
      "라벨:  0\n",
      "1번째 리뷰 문장 길이:  10\n",
      "2번째 리뷰 문장 길이:  17\n"
     ]
    }
   ],
   "source": [
    "print(train_X[0])\n",
    "print('라벨: ', train_y[0])\n",
    "print('1번째 리뷰 문장 길이: ', len(train_X[0]))\n",
    "print('2번째 리뷰 문장 길이: ', len(train_X[1]))"
   ]
  },
  {
   "cell_type": "code",
   "execution_count": 209,
   "id": "d79a705c",
   "metadata": {
    "scrolled": true
   },
   "outputs": [
    {
     "name": "stdout",
     "output_type": "stream",
     "text": [
      "<BOS>\n",
      "4\n",
      ".\n"
     ]
    }
   ],
   "source": [
    "index_to_word = {index: word for word, index in word_to_index.items()}\n",
    "\n",
    "print(index_to_word[1])\n",
    "print(word_to_index['.'])\n",
    "print(index_to_word[4])"
   ]
  },
  {
   "cell_type": "code",
   "execution_count": 210,
   "id": "3c6ec23a",
   "metadata": {},
   "outputs": [],
   "source": [
    "def get_encoded_sentence(sentence, word_to_index):\n",
    "    return [word_to_index['<BOS>']] + [word_to_index[word] if word in word_to_index else word_to_index['<UNK>'] for word in sentence.split()]\n",
    "\n",
    "def get_encoded_sentences(sentences, word_to_index):\n",
    "    return [get_encoded_sentence(sentence, word_to_index) for sentence in sentences]\n",
    "\n",
    "def get_decoded_sentence(encoded_sentence, index_to_word):\n",
    "    return ' '.join(index_to_word[index] if index in index_to_word else '<UNK>' for index in encoded_sentence[1: ])\n",
    "\n",
    "def get_decoded_sentences(encoded_sentences, index_to_word):\n",
    "    return [get_decoded_sentence(encoded_sentence, index_to_word) for encoded_sentence in encoded_sentences]"
   ]
  },
  {
   "cell_type": "markdown",
   "id": "b4011440",
   "metadata": {},
   "source": [
    "word를 index로 바꿔주는 인코딩 함수와 index를 word로 바꿔주는 디코딩 함수 생성.  "
   ]
  },
  {
   "cell_type": "code",
   "execution_count": 211,
   "id": "773b9a0e",
   "metadata": {},
   "outputs": [
    {
     "name": "stdout",
     "output_type": "stream",
     "text": [
      "[32, 74, 919, 4, 4, 39, 228, 20, 33, 748]\n",
      "더 빙 . . 진짜 짜증 나 네요 목소리\n",
      "라벨:  0\n"
     ]
    }
   ],
   "source": [
    "print(train_X[0])\n",
    "print(get_decoded_sentence(train_X[0], index_to_word))\n",
    "print('라벨: ', train_y[0])"
   ]
  },
  {
   "cell_type": "markdown",
   "id": "09f6dca3",
   "metadata": {},
   "source": [
    "# 3. 모델 구성을 위한 데이터 분석 및 가공"
   ]
  },
  {
   "cell_type": "code",
   "execution_count": 212,
   "id": "510a7380",
   "metadata": {},
   "outputs": [
    {
     "name": "stdout",
     "output_type": "stream",
     "text": [
      "문장길이 평균 :  15.969376315021577\n",
      "문장길이 최대 :  116\n",
      "문장길이 표준편차 :  12.843535456326455\n",
      "pad_sequences maxlen :  41\n",
      "전체 문장의 0.9342988343341575%가 maxlen 설정값 이내에 포함됩니다. \n"
     ]
    }
   ],
   "source": [
    "X = list(train_X) + list(test_X)\n",
    "num_tokens = [len(tokens) for tokens in X]\n",
    "num_tokens = np.array(num_tokens)\n",
    "print('문장길이 평균 : ', np.mean(num_tokens))\n",
    "print('문장길이 최대 : ', np.max(num_tokens))\n",
    "print('문장길이 표준편차 : ', np.std(num_tokens))\n",
    "\n",
    "max_tokens = np.mean(num_tokens) + 2 * np.std(num_tokens)\n",
    "maxlen = int(max_tokens)\n",
    "print('pad_sequences maxlen : ', maxlen)\n",
    "print('전체 문장의 {}%가 maxlen 설정값 이내에 포함됩니다. '.format(np.sum(num_tokens < max_tokens) / len(num_tokens)))"
   ]
  },
  {
   "cell_type": "markdown",
   "id": "48a47b92",
   "metadata": {},
   "source": [
    "길이가 너무 긴 문장을 사용하면 나머지 다른 문장들의 패딩이 많아져서 학습이 제대로 이루어지지  \n",
    "않을 확률이 높으므로 적당한 사이즈로 자르기."
   ]
  },
  {
   "cell_type": "code",
   "execution_count": 213,
   "id": "e5d00f15",
   "metadata": {},
   "outputs": [
    {
     "name": "stdout",
     "output_type": "stream",
     "text": [
      "(146182, 41)\n"
     ]
    }
   ],
   "source": [
    "train_X = tf.keras.preprocessing.sequence.pad_sequences(train_X,\n",
    "                                                        value=word_to_index[\"<PAD>\"],\n",
    "                                                        maxlen=maxlen)\n",
    "\n",
    "test_X = tf.keras.preprocessing.sequence.pad_sequences(test_X,\n",
    "                                                       value=word_to_index[\"<PAD>\"],\n",
    "                                                       maxlen=maxlen)\n",
    "\n",
    "print(train_X.shape)"
   ]
  },
  {
   "cell_type": "markdown",
   "id": "14a498b8",
   "metadata": {},
   "source": [
    "# 4. 모델 구성 및 validation set 구성"
   ]
  },
  {
   "cell_type": "code",
   "execution_count": 214,
   "id": "0a592af3",
   "metadata": {},
   "outputs": [],
   "source": [
    "word_vector_dim = 16"
   ]
  },
  {
   "cell_type": "markdown",
   "id": "f3e6cd5d",
   "metadata": {},
   "source": [
    "## 4.1. LSTM Model 생성"
   ]
  },
  {
   "cell_type": "markdown",
   "id": "a059f9df",
   "metadata": {},
   "source": [
    "NLP의 대표적인 모델인 LSTM 생성"
   ]
  },
  {
   "cell_type": "code",
   "execution_count": 215,
   "id": "0d110ebd",
   "metadata": {},
   "outputs": [
    {
     "name": "stdout",
     "output_type": "stream",
     "text": [
      "Model: \"sequential_28\"\n",
      "_________________________________________________________________\n",
      " Layer (type)                Output Shape              Param #   \n",
      "=================================================================\n",
      " embedding_28 (Embedding)    (None, None, 16)          160000    \n",
      "                                                                 \n",
      " lstm_16 (LSTM)              (None, 8)                 800       \n",
      "                                                                 \n",
      " dense_50 (Dense)            (None, 4)                 36        \n",
      "                                                                 \n",
      " dense_51 (Dense)            (None, 1)                 5         \n",
      "                                                                 \n",
      "=================================================================\n",
      "Total params: 160,841\n",
      "Trainable params: 160,841\n",
      "Non-trainable params: 0\n",
      "_________________________________________________________________\n"
     ]
    }
   ],
   "source": [
    "model_lstm = tf.keras.Sequential()\n",
    "model_lstm.add(tf.keras.layers.Embedding(vocab_size, word_vector_dim, input_shape=(None, )))\n",
    "model_lstm.add(tf.keras.layers.LSTM(8))\n",
    "model_lstm.add(tf.keras.layers.Dense(4, activation='relu'))\n",
    "model_lstm.add(tf.keras.layers.Dense(1, activation='sigmoid'))\n",
    "\n",
    "model_lstm.summary()"
   ]
  },
  {
   "cell_type": "markdown",
   "id": "f3e6cd5d",
   "metadata": {},
   "source": [
    "## 4.2. CNN Model 생성"
   ]
  },
  {
   "cell_type": "markdown",
   "id": "518a01ed",
   "metadata": {},
   "source": [
    "CNN으로도 NLP 분석을 할 수 있다는 것을 확인하기 위해 CNN 생성."
   ]
  },
  {
   "cell_type": "code",
   "execution_count": 216,
   "id": "69b340f7",
   "metadata": {},
   "outputs": [
    {
     "name": "stdout",
     "output_type": "stream",
     "text": [
      "Model: \"sequential_29\"\n",
      "_________________________________________________________________\n",
      " Layer (type)                Output Shape              Param #   \n",
      "=================================================================\n",
      " embedding_29 (Embedding)    (None, None, 16)          160000    \n",
      "                                                                 \n",
      " conv1d_10 (Conv1D)          (None, None, 16)          1808      \n",
      "                                                                 \n",
      " max_pooling1d_5 (MaxPooling  (None, None, 16)         0         \n",
      " 1D)                                                             \n",
      "                                                                 \n",
      " conv1d_11 (Conv1D)          (None, None, 16)          1808      \n",
      "                                                                 \n",
      " global_max_pooling1d_10 (Gl  (None, 16)               0         \n",
      " obalMaxPooling1D)                                               \n",
      "                                                                 \n",
      " dense_52 (Dense)            (None, 8)                 136       \n",
      "                                                                 \n",
      " dense_53 (Dense)            (None, 1)                 9         \n",
      "                                                                 \n",
      "=================================================================\n",
      "Total params: 163,761\n",
      "Trainable params: 163,761\n",
      "Non-trainable params: 0\n",
      "_________________________________________________________________\n"
     ]
    }
   ],
   "source": [
    "model_cnn = tf.keras.Sequential()\n",
    "model_cnn.add(tf.keras.layers.Embedding(vocab_size, word_vector_dim, input_shape=(None, )))\n",
    "model_cnn.add(tf.keras.layers.Conv1D(16, 7, activation='relu'))\n",
    "model_cnn.add(tf.keras.layers.MaxPooling1D(5))\n",
    "model_cnn.add(tf.keras.layers.Conv1D(16, 7, activation='relu'))\n",
    "model_cnn.add(tf.keras.layers.GlobalMaxPooling1D())\n",
    "model_cnn.add(tf.keras.layers.Dense(8, activation='relu'))\n",
    "model_cnn.add(tf.keras.layers.Dense(1, activation='sigmoid'))\n",
    "\n",
    "model_cnn.summary()"
   ]
  },
  {
   "cell_type": "markdown",
   "id": "f3e6cd5d",
   "metadata": {},
   "source": [
    "## 4.3. GMP(?) Model 생성"
   ]
  },
  {
   "cell_type": "markdown",
   "id": "7d547922",
   "metadata": {},
   "source": [
    "의외로 가장 중요한 딱 한 개의 단어만으로 예측했을 때 결과가 은근히 잘나오는 것을 확인하기 위해 GlobalMaxPooling1D 레이어 하나만을 이용한 모델 생성."
   ]
  },
  {
   "cell_type": "code",
   "execution_count": 217,
   "id": "69426fe0",
   "metadata": {},
   "outputs": [
    {
     "name": "stdout",
     "output_type": "stream",
     "text": [
      "Model: \"sequential_30\"\n",
      "_________________________________________________________________\n",
      " Layer (type)                Output Shape              Param #   \n",
      "=================================================================\n",
      " embedding_30 (Embedding)    (None, None, 16)          160000    \n",
      "                                                                 \n",
      " global_max_pooling1d_11 (Gl  (None, 16)               0         \n",
      " obalMaxPooling1D)                                               \n",
      "                                                                 \n",
      " dense_54 (Dense)            (None, 8)                 136       \n",
      "                                                                 \n",
      " dense_55 (Dense)            (None, 1)                 9         \n",
      "                                                                 \n",
      "=================================================================\n",
      "Total params: 160,145\n",
      "Trainable params: 160,145\n",
      "Non-trainable params: 0\n",
      "_________________________________________________________________\n"
     ]
    }
   ],
   "source": [
    "model_gmp = tf.keras.Sequential()\n",
    "model_gmp.add(tf.keras.layers.Embedding(vocab_size, word_vector_dim, input_shape=(None, )))\n",
    "model_gmp.add(tf.keras.layers.GlobalMaxPooling1D())\n",
    "model_gmp.add(tf.keras.layers.Dense(8, activation='relu'))\n",
    "model_gmp.add(tf.keras.layers.Dense(1, activation='sigmoid'))\n",
    "\n",
    "model_gmp.summary()"
   ]
  },
  {
   "cell_type": "markdown",
   "id": "7f038af9",
   "metadata": {},
   "source": [
    "## 4.4. validation set 구성"
   ]
  },
  {
   "cell_type": "code",
   "execution_count": 218,
   "id": "05cecf49",
   "metadata": {},
   "outputs": [
    {
     "name": "stdout",
     "output_type": "stream",
     "text": [
      "(136182, 41)\n",
      "(136182,)\n"
     ]
    }
   ],
   "source": [
    "X_val = train_X[: vocab_size]   \n",
    "y_val = train_y[: vocab_size]\n",
    "\n",
    "X_train = train_X[vocab_size: ]  \n",
    "y_train = train_y[vocab_size: ]\n",
    "\n",
    "print(X_train.shape)\n",
    "print(y_train.shape)"
   ]
  },
  {
   "cell_type": "markdown",
   "id": "38857589",
   "metadata": {},
   "source": [
    "모델 학습이 잘 되는지 확인하기 위해 쓰일 validation set 분리."
   ]
  },
  {
   "cell_type": "markdown",
   "id": "25d989b2",
   "metadata": {},
   "source": [
    "# 5. 모델 훈련 개시"
   ]
  },
  {
   "cell_type": "markdown",
   "id": "0b603617",
   "metadata": {},
   "source": [
    "## 5.1. LSTM Model Trainning"
   ]
  },
  {
   "cell_type": "code",
   "execution_count": 219,
   "id": "85a5223c",
   "metadata": {},
   "outputs": [
    {
     "name": "stdout",
     "output_type": "stream",
     "text": [
      "Epoch 1/10\n",
      "266/266 [==============================] - 11s 33ms/step - loss: 0.5121 - accuracy: 0.7680 - val_loss: 0.3667 - val_accuracy: 0.8452\n",
      "Epoch 2/10\n",
      "266/266 [==============================] - 9s 33ms/step - loss: 0.3435 - accuracy: 0.8566 - val_loss: 0.3425 - val_accuracy: 0.8547\n",
      "Epoch 3/10\n",
      "266/266 [==============================] - 8s 30ms/step - loss: 0.3181 - accuracy: 0.8684 - val_loss: 0.3428 - val_accuracy: 0.8529\n",
      "Epoch 4/10\n",
      "266/266 [==============================] - 8s 30ms/step - loss: 0.3060 - accuracy: 0.8744 - val_loss: 0.3443 - val_accuracy: 0.8551\n",
      "Epoch 5/10\n",
      "266/266 [==============================] - 8s 31ms/step - loss: 0.2944 - accuracy: 0.8807 - val_loss: 0.3462 - val_accuracy: 0.8533\n",
      "Epoch 6/10\n",
      "266/266 [==============================] - 8s 29ms/step - loss: 0.2850 - accuracy: 0.8849 - val_loss: 0.3492 - val_accuracy: 0.8539\n",
      "Epoch 7/10\n",
      "266/266 [==============================] - 8s 31ms/step - loss: 0.2763 - accuracy: 0.8899 - val_loss: 0.3484 - val_accuracy: 0.8538\n",
      "Epoch 8/10\n",
      "266/266 [==============================] - 8s 31ms/step - loss: 0.2684 - accuracy: 0.8941 - val_loss: 0.3547 - val_accuracy: 0.8506\n",
      "Epoch 9/10\n",
      "266/266 [==============================] - 8s 30ms/step - loss: 0.2611 - accuracy: 0.8977 - val_loss: 0.3584 - val_accuracy: 0.8508\n",
      "Epoch 10/10\n",
      "266/266 [==============================] - 8s 31ms/step - loss: 0.2537 - accuracy: 0.9012 - val_loss: 0.3649 - val_accuracy: 0.8513\n"
     ]
    }
   ],
   "source": [
    "model_lstm.compile(optimizer='adam',\n",
    "              loss='binary_crossentropy',\n",
    "              metrics=['accuracy'])\n",
    "              \n",
    "epochs_lstm = 10\n",
    "\n",
    "history_lstm = model_lstm.fit(X_train,\n",
    "                    y_train,\n",
    "                    epochs=epochs_lstm,\n",
    "                    batch_size=512,\n",
    "                    validation_data=(X_val, y_val),\n",
    "                    verbose=1)"
   ]
  },
  {
   "cell_type": "markdown",
   "id": "72a65956",
   "metadata": {},
   "source": [
    "val_accuracy가 85% 언저리로 일정한 모습."
   ]
  },
  {
   "cell_type": "code",
   "execution_count": 220,
   "id": "8f843998",
   "metadata": {},
   "outputs": [
    {
     "name": "stdout",
     "output_type": "stream",
     "text": [
      "1537/1537 - 6s - loss: 0.3788 - accuracy: 0.8451 - 6s/epoch - 4ms/step\n",
      "[0.37879127264022827, 0.8450678586959839]\n"
     ]
    }
   ],
   "source": [
    "results_lstm = model_lstm.evaluate(test_X, test_y, verbose=2)\n",
    "\n",
    "print(results_lstm)"
   ]
  },
  {
   "cell_type": "markdown",
   "id": "2df96546",
   "metadata": {},
   "source": [
    "epoch 10을 돌린 후 test set으로 최종 평가를 했을 때 정확도 84.65%"
   ]
  },
  {
   "cell_type": "markdown",
   "id": "0b603617",
   "metadata": {},
   "source": [
    "## 5.2. CNN Model Trainning"
   ]
  },
  {
   "cell_type": "code",
   "execution_count": 221,
   "id": "85a5223c",
   "metadata": {},
   "outputs": [
    {
     "name": "stdout",
     "output_type": "stream",
     "text": [
      "Epoch 1/10\n",
      "266/266 [==============================] - 6s 19ms/step - loss: 0.4768 - accuracy: 0.7632 - val_loss: 0.3472 - val_accuracy: 0.8507\n",
      "Epoch 2/10\n",
      "266/266 [==============================] - 5s 17ms/step - loss: 0.3225 - accuracy: 0.8630 - val_loss: 0.3359 - val_accuracy: 0.8562\n",
      "Epoch 3/10\n",
      "266/266 [==============================] - 5s 17ms/step - loss: 0.2890 - accuracy: 0.8799 - val_loss: 0.3321 - val_accuracy: 0.8594\n",
      "Epoch 4/10\n",
      "266/266 [==============================] - 5s 18ms/step - loss: 0.2599 - accuracy: 0.8941 - val_loss: 0.3392 - val_accuracy: 0.8563\n",
      "Epoch 5/10\n",
      "266/266 [==============================] - 5s 18ms/step - loss: 0.2297 - accuracy: 0.9096 - val_loss: 0.3618 - val_accuracy: 0.8518\n",
      "Epoch 6/10\n",
      "266/266 [==============================] - 5s 18ms/step - loss: 0.1977 - accuracy: 0.9259 - val_loss: 0.3866 - val_accuracy: 0.8482\n",
      "Epoch 7/10\n",
      "266/266 [==============================] - 6s 22ms/step - loss: 0.1674 - accuracy: 0.9397 - val_loss: 0.4118 - val_accuracy: 0.8439\n",
      "Epoch 8/10\n",
      "266/266 [==============================] - 5s 20ms/step - loss: 0.1410 - accuracy: 0.9518 - val_loss: 0.4568 - val_accuracy: 0.8404\n",
      "Epoch 9/10\n",
      "266/266 [==============================] - 5s 19ms/step - loss: 0.1182 - accuracy: 0.9617 - val_loss: 0.5009 - val_accuracy: 0.8355\n",
      "Epoch 10/10\n",
      "266/266 [==============================] - 5s 18ms/step - loss: 0.1004 - accuracy: 0.9689 - val_loss: 0.5265 - val_accuracy: 0.8318\n"
     ]
    }
   ],
   "source": [
    "model_cnn.compile(optimizer='adam',\n",
    "              loss='binary_crossentropy',\n",
    "              metrics=['accuracy'])\n",
    "              \n",
    "epochs_cnn = 10\n",
    "\n",
    "hustory_cnn = model_cnn.fit(X_train,\n",
    "                    y_train,\n",
    "                    epochs=epochs_cnn,\n",
    "                    batch_size=512,\n",
    "                    validation_data=(X_val, y_val),\n",
    "                    verbose=1)"
   ]
  },
  {
   "cell_type": "markdown",
   "id": "72a65956",
   "metadata": {},
   "source": [
    "epoch 4 ~ 5 기준으로 val_accuracy가 점점 떨어지는 모습."
   ]
  },
  {
   "cell_type": "code",
   "execution_count": 222,
   "id": "8f843998",
   "metadata": {},
   "outputs": [
    {
     "name": "stdout",
     "output_type": "stream",
     "text": [
      "1537/1537 - 3s - loss: 0.5283 - accuracy: 0.8332 - 3s/epoch - 2ms/step\n",
      "[0.5283150672912598, 0.8331671953201294]\n"
     ]
    }
   ],
   "source": [
    "results_cnn = model_cnn.evaluate(test_X, test_y, verbose=2)\n",
    "\n",
    "print(results_cnn)"
   ]
  },
  {
   "cell_type": "markdown",
   "id": "2df96546",
   "metadata": {},
   "source": [
    "epoch 10을 돌린 후 test set으로 최종 평가를 했을 때 정확도 82.88%"
   ]
  },
  {
   "cell_type": "markdown",
   "id": "0b603617",
   "metadata": {},
   "source": [
    "## 5.3. GMP(?) Model Trainning"
   ]
  },
  {
   "cell_type": "code",
   "execution_count": 223,
   "id": "85a5223c",
   "metadata": {},
   "outputs": [
    {
     "name": "stdout",
     "output_type": "stream",
     "text": [
      "Epoch 1/10\n",
      "266/266 [==============================] - 4s 11ms/step - loss: 0.5869 - accuracy: 0.7453 - val_loss: 0.4299 - val_accuracy: 0.8263\n",
      "Epoch 2/10\n",
      "266/266 [==============================] - 2s 8ms/step - loss: 0.3758 - accuracy: 0.8410 - val_loss: 0.3566 - val_accuracy: 0.8432\n",
      "Epoch 3/10\n",
      "266/266 [==============================] - 2s 9ms/step - loss: 0.3248 - accuracy: 0.8629 - val_loss: 0.3469 - val_accuracy: 0.8466\n",
      "Epoch 4/10\n",
      "266/266 [==============================] - 2s 9ms/step - loss: 0.2984 - accuracy: 0.8765 - val_loss: 0.3478 - val_accuracy: 0.8475\n",
      "Epoch 5/10\n",
      "266/266 [==============================] - 2s 8ms/step - loss: 0.2794 - accuracy: 0.8852 - val_loss: 0.3518 - val_accuracy: 0.8475\n",
      "Epoch 6/10\n",
      "266/266 [==============================] - 2s 7ms/step - loss: 0.2642 - accuracy: 0.8932 - val_loss: 0.3584 - val_accuracy: 0.8456\n",
      "Epoch 7/10\n",
      "266/266 [==============================] - 2s 8ms/step - loss: 0.2512 - accuracy: 0.8989 - val_loss: 0.3658 - val_accuracy: 0.8429\n",
      "Epoch 8/10\n",
      "266/266 [==============================] - 2s 8ms/step - loss: 0.2400 - accuracy: 0.9044 - val_loss: 0.3739 - val_accuracy: 0.8455\n",
      "Epoch 9/10\n",
      "266/266 [==============================] - 2s 8ms/step - loss: 0.2297 - accuracy: 0.9099 - val_loss: 0.3824 - val_accuracy: 0.8431\n",
      "Epoch 10/10\n",
      "266/266 [==============================] - 2s 8ms/step - loss: 0.2205 - accuracy: 0.9148 - val_loss: 0.3929 - val_accuracy: 0.8423\n"
     ]
    }
   ],
   "source": [
    "model_gmp.compile(optimizer='adam',\n",
    "              loss='binary_crossentropy',\n",
    "              metrics=['accuracy'])\n",
    "              \n",
    "epochs_gmp = 10\n",
    "\n",
    "history_gmp = model_gmp.fit(X_train,\n",
    "                    y_train,\n",
    "                    epochs=epochs_gmp,\n",
    "                    batch_size=512,\n",
    "                    validation_data=(X_val, y_val),\n",
    "                    verbose=1)"
   ]
  },
  {
   "cell_type": "markdown",
   "id": "72a65956",
   "metadata": {},
   "source": [
    "epoch 5 기준으로 val_accuracy가 점점 떨어지는 모습."
   ]
  },
  {
   "cell_type": "code",
   "execution_count": 224,
   "id": "8f843998",
   "metadata": {},
   "outputs": [
    {
     "name": "stdout",
     "output_type": "stream",
     "text": [
      "1537/1537 - 2s - loss: 0.4097 - accuracy: 0.8378 - 2s/epoch - 1ms/step\n",
      "[0.4096871316432953, 0.8378053903579712]\n"
     ]
    }
   ],
   "source": [
    "results_gmp = model_gmp.evaluate(test_X, test_y, verbose=2)\n",
    "\n",
    "print(results_gmp)"
   ]
  },
  {
   "cell_type": "markdown",
   "id": "2df96546",
   "metadata": {},
   "source": [
    "epoch 10을 돌린 후 test set으로 최종 평가를 했을 때 정확도 83.94%"
   ]
  },
  {
   "cell_type": "markdown",
   "id": "785b26ff",
   "metadata": {},
   "source": [
    "# 6. Loss, Accuracy 그래프 시각화"
   ]
  },
  {
   "cell_type": "markdown",
   "id": "0d4950f9",
   "metadata": {},
   "source": [
    "epoch가 지날수록 training set과 validation set의 loss와 accuracy가 어떻게 변화하는지 시각화."
   ]
  },
  {
   "cell_type": "markdown",
   "id": "ff1b766f",
   "metadata": {},
   "source": [
    "## 6.1. LSTM Model Loss, Accuracy 그래프"
   ]
  },
  {
   "cell_type": "code",
   "execution_count": 225,
   "id": "00992f7c",
   "metadata": {},
   "outputs": [
    {
     "name": "stdout",
     "output_type": "stream",
     "text": [
      "dict_keys(['loss', 'accuracy', 'val_loss', 'val_accuracy'])\n"
     ]
    }
   ],
   "source": [
    "history_lstm_dict = history_lstm.history\n",
    "print(history_lstm_dict.keys())"
   ]
  },
  {
   "cell_type": "code",
   "execution_count": 226,
   "id": "cd86c3fe",
   "metadata": {},
   "outputs": [
    {
     "data": {
      "image/png": "[encoded data removed]",
      "text/plain": [
       "<Figure size 640x480 with 1 Axes>"
      ]
     },
     "metadata": {},
     "output_type": "display_data"
    }
   ],
   "source": [
    "acc_lstm = history_lstm_dict['accuracy']\n",
    "val_acc_lstm = history_lstm_dict['val_accuracy']\n",
    "loss_lstm = history_lstm_dict['loss']\n",
    "val_loss_lstm = history_lstm_dict['val_loss']\n",
    "\n",
    "epochs_lstm = range(1, len(acc_lstm) + 1)\n",
    "\n",
    "plt.plot(epochs_lstm, loss_lstm, 'r', label='Training loss')\n",
    "plt.plot(epochs_lstm, val_loss_lstm, 'b', label='Validation loss')\n",
    "plt.title('Training and validation loss')\n",
    "plt.xlabel('Epochs')\n",
    "plt.ylabel('Loss')\n",
    "plt.legend()\n",
    "\n",
    "plt.show()"
   ]
  },
  {
   "cell_type": "code",
   "execution_count": 227,
   "id": "ea2429ee",
   "metadata": {},
   "outputs": [
    {
     "data": {
      "image/png": "[encoded data removed]",
      "text/plain": [
       "<Figure size 640x480 with 1 Axes>"
      ]
     },
     "metadata": {},
     "output_type": "display_data"
    }
   ],
   "source": [
    "plt.clf()\n",
    "\n",
    "plt.plot(epochs_lstm, acc_lstm, 'r', label='Training acc')\n",
    "plt.plot(epochs_lstm, val_acc_lstm, 'b', label='Validation acc')\n",
    "plt.title('Training and validation accuracy')\n",
    "plt.xlabel('Epochs')\n",
    "plt.ylabel('Accuracy')\n",
    "plt.legend()\n",
    "\n",
    "plt.show()"
   ]
  },
  {
   "cell_type": "markdown",
   "id": "ff1b766f",
   "metadata": {},
   "source": [
    "## 6.2. CNN Model Loss, Accuracy 그래프"
   ]
  },
  {
   "cell_type": "code",
   "execution_count": 228,
   "id": "00992f7c",
   "metadata": {},
   "outputs": [
    {
     "name": "stdout",
     "output_type": "stream",
     "text": [
      "dict_keys(['loss', 'accuracy', 'val_loss', 'val_accuracy'])\n"
     ]
    }
   ],
   "source": [
    "history_cnn_dict = hustory_cnn.history\n",
    "print(history_cnn_dict.keys())"
   ]
  },
  {
   "cell_type": "code",
   "execution_count": 229,
   "id": "cd86c3fe",
   "metadata": {},
   "outputs": [
    {
     "data": {
      "image/png": "[encoded data removed]",
      "text/plain": [
       "<Figure size 640x480 with 1 Axes>"
      ]
     },
     "metadata": {},
     "output_type": "display_data"
    }
   ],
   "source": [
    "acc_cnn = history_cnn_dict['accuracy']\n",
    "val_acc_cnn = history_cnn_dict['val_accuracy']\n",
    "loss_cnn = history_cnn_dict['loss']\n",
    "val_loss_cnn = history_cnn_dict['val_loss']\n",
    "\n",
    "epochs_cnn = range(1, len(acc_cnn) + 1)\n",
    "\n",
    "plt.plot(epochs_cnn, loss_cnn, 'r', label='Training loss')\n",
    "plt.plot(epochs_cnn, val_loss_cnn, 'b', label='Validation loss')\n",
    "plt.title('Training and validation loss')\n",
    "plt.xlabel('Epochs')\n",
    "plt.ylabel('Loss')\n",
    "plt.legend()\n",
    "\n",
    "plt.show()"
   ]
  },
  {
   "cell_type": "code",
   "execution_count": 230,
   "id": "ea2429ee",
   "metadata": {},
   "outputs": [
    {
     "data": {
      "image/png": "[encoded data removed]",
      "text/plain": [
       "<Figure size 640x480 with 1 Axes>"
      ]
     },
     "metadata": {},
     "output_type": "display_data"
    }
   ],
   "source": [
    "plt.clf()\n",
    "\n",
    "plt.plot(epochs_cnn, acc_cnn, 'bo', label='Training acc')\n",
    "plt.plot(epochs_cnn, val_acc_cnn, 'b', label='Validation acc')\n",
    "plt.title('Training and validation accuracy')\n",
    "plt.xlabel('Epochs')\n",
    "plt.ylabel('Accuracy')\n",
    "plt.legend()\n",
    "\n",
    "plt.show()"
   ]
  },
  {
   "cell_type": "markdown",
   "id": "ff1b766f",
   "metadata": {},
   "source": [
    "## 6.3. GMP(?) Model Loss, Accuracy 그래프"
   ]
  },
  {
   "cell_type": "code",
   "execution_count": 231,
   "id": "00992f7c",
   "metadata": {},
   "outputs": [
    {
     "name": "stdout",
     "output_type": "stream",
     "text": [
      "dict_keys(['loss', 'accuracy', 'val_loss', 'val_accuracy'])\n"
     ]
    }
   ],
   "source": [
    "history_gmp_dict = history_gmp.history\n",
    "print(history_gmp_dict.keys())"
   ]
  },
  {
   "cell_type": "code",
   "execution_count": 232,
   "id": "cd86c3fe",
   "metadata": {},
   "outputs": [
    {
     "data": {
      "image/png": "[encoded data removed]",
      "text/plain": [
       "<Figure size 640x480 with 1 Axes>"
      ]
     },
     "metadata": {},
     "output_type": "display_data"
    }
   ],
   "source": [
    "acc_gmp = history_gmp_dict['accuracy']\n",
    "val_acc_gmp = history_gmp_dict['val_accuracy']\n",
    "loss_gmp = history_gmp_dict['loss']\n",
    "val_loss_gmp = history_gmp_dict['val_loss']\n",
    "\n",
    "epochs_gmp = range(1, len(acc_gmp) + 1)\n",
    "\n",
    "plt.plot(epochs_gmp, loss_gmp, 'bo', label='Training loss')\n",
    "plt.plot(epochs_gmp, val_loss_gmp, 'b', label='Validation loss')\n",
    "plt.title('Training and validation loss')\n",
    "plt.xlabel('Epochs')\n",
    "plt.ylabel('Loss')\n",
    "plt.legend()\n",
    "\n",
    "plt.show()"
   ]
  },
  {
   "cell_type": "code",
   "execution_count": 233,
   "id": "ea2429ee",
   "metadata": {},
   "outputs": [
    {
     "data": {
      "image/png": "[encoded data removed]",
      "text/plain": [
       "<Figure size 640x480 with 1 Axes>"
      ]
     },
     "metadata": {},
     "output_type": "display_data"
    }
   ],
   "source": [
    "plt.clf()\n",
    "\n",
    "plt.plot(epochs_gmp, acc_gmp, 'bo', label='Training acc')\n",
    "plt.plot(epochs_gmp, val_acc_gmp, 'b', label='Validation acc')\n",
    "plt.title('Training and validation accuracy')\n",
    "plt.xlabel('Epochs')\n",
    "plt.ylabel('Accuracy')\n",
    "plt.legend()\n",
    "\n",
    "plt.show()"
   ]
  },
  {
   "cell_type": "markdown",
   "id": "4c6e3a5a",
   "metadata": {},
   "source": [
    "세 모델 모두 accuracy를 정확도가 높지도 않은 상태인데 오버피팅마저 발생하고 있다.  \n",
    "모델을 더 복잡하게 만들면서도 규제를 적용해야 하겠다.\n"
   ]
  },
  {
   "cell_type": "markdown",
   "id": "d0e294a3",
   "metadata": {},
   "source": [
    "# 7. 학습된 Embedding 레이어 분석"
   ]
  },
  {
   "cell_type": "markdown",
   "id": "ae2ab2bb",
   "metadata": {},
   "source": [
    "가장 정확도가 높았던 LSTM Model Embedding 레이어 분석."
   ]
  },
  {
   "cell_type": "code",
   "execution_count": 234,
   "id": "1ad4e595",
   "metadata": {},
   "outputs": [
    {
     "name": "stdout",
     "output_type": "stream",
     "text": [
      "(10000, 16)\n"
     ]
    }
   ],
   "source": [
    "embedding_layer = model_lstm.layers[0]\n",
    "weights = embedding_layer.get_weights()[0]\n",
    "print(weights.shape)"
   ]
  },
  {
   "cell_type": "code",
   "execution_count": 235,
   "id": "640be3f8",
   "metadata": {},
   "outputs": [],
   "source": [
    "word2vec_file_path = 'data/word2vec.txt'\n",
    "f = open(word2vec_file_path, 'w')\n",
    "f.write('{} {}\\n'.format(vocab_size - 4, word_vector_dim))\n",
    "\n",
    "vectors = model_lstm.get_weights()[0]\n",
    "\n",
    "for i in range(4, vocab_size):\n",
    "    f.write('{} {}\\n'.format(index_to_word[i], ' '.join(map(str, list(vectors[i, : ])))))\n",
    "f.close()"
   ]
  },
  {
   "cell_type": "markdown",
   "id": "9f5c1bb1",
   "metadata": {},
   "source": [
    "embedding layer의 학습된 퍼래머더들을 txt파일에 저장."
   ]
  },
  {
   "cell_type": "code",
   "execution_count": 236,
   "id": "00f79fda",
   "metadata": {},
   "outputs": [
    {
     "data": {
      "text/plain": [
       "array([ 0.23937039,  0.03366238,  0.03842146, -0.13385805, -0.00873902,\n",
       "        0.07509922,  0.00273135,  0.01901034, -0.01667288, -0.05788379,\n",
       "       -0.2328094 ,  0.02061916,  0.00653053, -0.02942078,  0.17892234,\n",
       "        0.04981962], dtype=float32)"
      ]
     },
     "execution_count": 236,
     "metadata": {},
     "output_type": "execute_result"
    }
   ],
   "source": [
    "word_vectors = Word2VecKeyedVectors.load_word2vec_format(word2vec_file_path, encoding='cp949', binary=False)\n",
    "vector = word_vectors['컴퓨터']\n",
    "vector"
   ]
  },
  {
   "cell_type": "markdown",
   "id": "406a5a45",
   "metadata": {},
   "source": [
    "'컴퓨터'라는 단어를 임베딩 레이어에 넣었을 때 출력되는 값."
   ]
  },
  {
   "cell_type": "code",
   "execution_count": 237,
   "id": "518dd93c",
   "metadata": {},
   "outputs": [
    {
     "data": {
      "text/plain": [
       "[('미소', 0.9803286790847778),\n",
       " ('소름', 0.9699195027351379),\n",
       " ('이민정', 0.967185914516449),\n",
       " ('감수성', 0.9663164615631104),\n",
       " ('보너스', 0.9654918313026428),\n",
       " ('애교', 0.9652990102767944),\n",
       " ('잠기', 0.9643710255622864),\n",
       " ('소장', 0.9641450643539429),\n",
       " ('일품', 0.9625588655471802),\n",
       " ('디테일', 0.9614966511726379)]"
      ]
     },
     "execution_count": 237,
     "metadata": {},
     "output_type": "execute_result"
    }
   ],
   "source": [
    "word_vectors.similar_by_word(\"사랑\")"
   ]
  },
  {
   "cell_type": "markdown",
   "id": "e458a03c",
   "metadata": {},
   "source": [
    "사랑과 가장 유사하다고 생각되는 10개의 단어들 불러오기.  \n",
    "하지만 모델이 형편없어서 유사한 단어들을 제대로 추출하지 못하는 것  같다."
   ]
  },
  {
   "cell_type": "markdown",
   "id": "4692eb95",
   "metadata": {},
   "source": [
    "# 8. 한국어 Word2Vec 임베딩 활용하여 성능 개선"
   ]
  },
  {
   "cell_type": "markdown",
   "id": "4c6e3a5a",
   "metadata": {},
   "source": [
    "사전학습된 word2vec_ko 임베딩을 불러와보자."
   ]
  },
  {
   "cell_type": "code",
   "execution_count": 238,
   "id": "29467878",
   "metadata": {},
   "outputs": [
    {
     "data": {
      "text/plain": [
       "array([ 1.038851  , -1.1634965 ,  2.2386286 ,  0.8971453 , -2.088168  ,\n",
       "       -4.1942534 , -0.02519768, -0.69813883, -0.2908033 , -1.4651134 ,\n",
       "       -2.6863668 ,  0.7999443 , -0.6957915 , -0.5018775 ,  3.5025773 ,\n",
       "        0.21326113, -0.6588098 , -1.1900496 ,  0.61399573,  2.1247969 ,\n",
       "        0.1549463 ,  3.0840218 ,  3.1680267 , -3.9143991 ,  3.6073153 ,\n",
       "        0.5315545 , -0.3511633 , -1.107248  ,  1.7767181 , -0.95981866,\n",
       "        2.6072454 , -0.00697957, -3.27628   ,  1.558644  ,  0.81922376,\n",
       "        1.9231955 ,  3.7026553 , -0.53824735, -0.4920138 ,  2.4657123 ,\n",
       "       -2.620749  , -0.08950733,  0.61453176,  1.8866426 ,  0.257866  ,\n",
       "       -2.7827141 ,  2.9129577 , -0.6313133 ,  2.0387425 , -4.222685  ,\n",
       "       -2.7560544 ,  1.7903243 , -1.3080189 , -2.5531402 , -0.43849912,\n",
       "       -3.1073573 , -0.29090825,  5.1817617 ,  1.9604833 , -5.1421604 ,\n",
       "       -0.71431434,  4.5624633 , -0.55525815, -3.3019137 ,  1.6761336 ,\n",
       "       -1.9606539 , -0.2726863 ,  0.2465995 ,  1.2685091 ,  1.6055685 ,\n",
       "        1.8344896 ,  1.2752469 ,  0.99503314, -2.3348706 , -0.9290329 ,\n",
       "       -1.5920266 ,  5.693834  ,  1.1132814 , -0.9603875 , -1.970055  ,\n",
       "       -1.0120267 , -2.7289615 , -2.7759619 ,  3.214084  ,  1.8573734 ,\n",
       "       -1.3495721 , -0.10321241,  3.434593  , -2.8573685 , -1.9004927 ,\n",
       "       -1.6801298 , -2.805677  ,  1.7723105 , -0.41865307, -2.310913  ,\n",
       "       -6.2761464 , -0.8376036 ,  2.4590037 ,  2.1697695 , -4.440443  ],\n",
       "      dtype=float32)"
      ]
     },
     "execution_count": 238,
     "metadata": {},
     "output_type": "execute_result"
    }
   ],
   "source": [
    "word2vec_file_path = 'data/word2vec_ko.model'\n",
    "word_vectors = Word2VecKeyedVectors.load(word2vec_file_path)\n",
    "vector = word_vectors.wv['끝']\n",
    "vector"
   ]
  },
  {
   "cell_type": "code",
   "execution_count": 239,
   "id": "e35bdf12",
   "metadata": {},
   "outputs": [
    {
     "data": {
      "text/plain": [
       "[('이별', 0.7626414895057678),\n",
       " ('행복', 0.7550068497657776),\n",
       " ('슬픔', 0.7381505966186523),\n",
       " ('유혹', 0.7238055467605591),\n",
       " ('그리움', 0.7167419195175171),\n",
       " ('추억', 0.7143999338150024),\n",
       " ('꿈', 0.7089294195175171),\n",
       " ('애정', 0.7066588997840881),\n",
       " ('포옹', 0.7034594416618347),\n",
       " ('마음', 0.6972615718841553)]"
      ]
     },
     "execution_count": 239,
     "metadata": {},
     "output_type": "execute_result"
    }
   ],
   "source": [
    "word_vectors.wv.similar_by_word(\"사랑\")"
   ]
  },
  {
   "cell_type": "markdown",
   "id": "4651e0bb",
   "metadata": {},
   "source": [
    "자체학습한 임베딩보다 딱봐도 훨씬 더 잘 유사한 단어를 잘 찾는 모습.(이민정은 뭐지?)\n",
    "\n",
    "[('미소', 0.9803286790847778),  \n",
    " ('소름', 0.9699195027351379),  \n",
    " ('이민정', 0.967185914516449),  \n",
    " ('감수성', 0.9663164615631104),  \n",
    " ('보너스', 0.9654918313026428),  \n",
    " ('애교', 0.9652990102767944),  \n",
    " ('잠기', 0.9643710255622864),  \n",
    " ('소장', 0.9641450643539429),  \n",
    " ('일품', 0.9625588655471802),  \n",
    " ('디테일', 0.9614966511726379)]\n"
   ]
  },
  {
   "cell_type": "code",
   "execution_count": 240,
   "id": "0e63a39f",
   "metadata": {},
   "outputs": [],
   "source": [
    "word_vector_dim = 100\n",
    "embedding_matrix = np.random.rand(vocab_size, word_vector_dim)\n",
    "\n",
    "for i in range(4, vocab_size):\n",
    "    if index_to_word[i] in word_vectors.wv:\n",
    "        embedding_matrix[i] = word_vectors.wv[index_to_word[i]]"
   ]
  },
  {
   "cell_type": "markdown",
   "id": "8e83179d",
   "metadata": {},
   "source": [
    "ndarray에 word2vec 워드 벡터를 단어 하나씩마다 카피."
   ]
  },
  {
   "cell_type": "code",
   "execution_count": 241,
   "id": "4675bb8d",
   "metadata": {},
   "outputs": [
    {
     "name": "stdout",
     "output_type": "stream",
     "text": [
      "Model: \"sequential_31\"\n",
      "_________________________________________________________________\n",
      " Layer (type)                Output Shape              Param #   \n",
      "=================================================================\n",
      " embedding_31 (Embedding)    (None, 41, 100)           1000000   \n",
      "                                                                 \n",
      " lstm_17 (LSTM)              (None, 8)                 3488      \n",
      "                                                                 \n",
      " dense_56 (Dense)            (None, 4)                 36        \n",
      "                                                                 \n",
      " dense_57 (Dense)            (None, 1)                 5         \n",
      "                                                                 \n",
      "=================================================================\n",
      "Total params: 1,003,529\n",
      "Trainable params: 1,003,529\n",
      "Non-trainable params: 0\n",
      "_________________________________________________________________\n"
     ]
    }
   ],
   "source": [
    "model = tf.keras.Sequential()\n",
    "model.add(tf.keras.layers.Embedding(vocab_size, \n",
    "                                 word_vector_dim, \n",
    "                                 embeddings_initializer=tf.keras.initializers.Constant(embedding_matrix),\n",
    "                                 input_length=maxlen, \n",
    "                                 trainable=True))\n",
    "                                 \n",
    "model.add(tf.keras.layers.LSTM(8))\n",
    "model.add(tf.keras.layers.Dense(4, activation='relu'))\n",
    "model.add(tf.keras.layers.Dense(1, activation='sigmoid'))\n",
    "\n",
    "model.summary()"
   ]
  },
  {
   "cell_type": "markdown",
   "id": "6c2d3bb9",
   "metadata": {},
   "source": [
    "위에서 카피한 embedding matrix를 embedding 레이어에 삽입."
   ]
  },
  {
   "cell_type": "code",
   "execution_count": 242,
   "id": "e71c1e7d",
   "metadata": {},
   "outputs": [
    {
     "name": "stdout",
     "output_type": "stream",
     "text": [
      "Epoch 1/10\n",
      "266/266 [==============================] - 21s 70ms/step - loss: 0.5789 - accuracy: 0.6897 - val_loss: 0.4538 - val_accuracy: 0.7917\n",
      "Epoch 2/10\n",
      "266/266 [==============================] - 18s 69ms/step - loss: 0.4154 - accuracy: 0.8141 - val_loss: 0.3815 - val_accuracy: 0.8296\n",
      "Epoch 3/10\n",
      "266/266 [==============================] - 18s 69ms/step - loss: 0.3648 - accuracy: 0.8436 - val_loss: 0.3594 - val_accuracy: 0.8409\n",
      "Epoch 4/10\n",
      "266/266 [==============================] - 18s 66ms/step - loss: 0.3385 - accuracy: 0.8568 - val_loss: 0.3539 - val_accuracy: 0.8438\n",
      "Epoch 5/10\n",
      "266/266 [==============================] - 18s 68ms/step - loss: 0.3211 - accuracy: 0.8657 - val_loss: 0.3502 - val_accuracy: 0.8488\n",
      "Epoch 6/10\n",
      "266/266 [==============================] - 18s 66ms/step - loss: 0.3081 - accuracy: 0.8721 - val_loss: 0.3507 - val_accuracy: 0.8465\n",
      "Epoch 7/10\n",
      "266/266 [==============================] - 18s 70ms/step - loss: 0.2981 - accuracy: 0.8775 - val_loss: 0.3497 - val_accuracy: 0.8503\n",
      "Epoch 8/10\n",
      "266/266 [==============================] - 18s 69ms/step - loss: 0.2892 - accuracy: 0.8815 - val_loss: 0.3554 - val_accuracy: 0.8498\n",
      "Epoch 9/10\n",
      "266/266 [==============================] - 19s 71ms/step - loss: 0.2805 - accuracy: 0.8859 - val_loss: 0.3522 - val_accuracy: 0.8489\n",
      "Epoch 10/10\n",
      "266/266 [==============================] - 19s 71ms/step - loss: 0.2728 - accuracy: 0.8903 - val_loss: 0.3539 - val_accuracy: 0.8497\n"
     ]
    }
   ],
   "source": [
    "model.compile(optimizer='adam',\n",
    "              loss='binary_crossentropy',\n",
    "              metrics=['accuracy'])\n",
    "              \n",
    "epochs=10\n",
    "\n",
    "history = model.fit(X_train,\n",
    "                    y_train,\n",
    "                    epochs=epochs,\n",
    "                    batch_size=512,\n",
    "                    validation_data=(X_val, y_val),\n",
    "                    verbose=1)"
   ]
  },
  {
   "cell_type": "code",
   "execution_count": 243,
   "id": "3c474ebe",
   "metadata": {},
   "outputs": [
    {
     "name": "stdout",
     "output_type": "stream",
     "text": [
      "1537/1537 - 7s - loss: 0.3689 - accuracy: 0.8436 - 7s/epoch - 5ms/step\n",
      "[0.3688688278198242, 0.8436235189437866]\n"
     ]
    }
   ],
   "source": [
    "results = model.evaluate(test_X, test_y, verbose=2)\n",
    "\n",
    "print(results)"
   ]
  },
  {
   "cell_type": "markdown",
   "id": "14c2fceb",
   "metadata": {},
   "source": [
    "word2vec 임베딩을 사용해도 accuracy는 거의 차이가 없었다."
   ]
  },
  {
   "cell_type": "code",
   "execution_count": 244,
   "id": "00992f7c",
   "metadata": {},
   "outputs": [
    {
     "name": "stdout",
     "output_type": "stream",
     "text": [
      "dict_keys(['loss', 'accuracy', 'val_loss', 'val_accuracy'])\n"
     ]
    }
   ],
   "source": [
    "history_dict = history.history\n",
    "print(history_dict.keys())"
   ]
  },
  {
   "cell_type": "code",
   "execution_count": 245,
   "id": "cd86c3fe",
   "metadata": {},
   "outputs": [
    {
     "data": {
      "image/png": "[encoded data removed]",
      "text/plain": [
       "<Figure size 640x480 with 1 Axes>"
      ]
     },
     "metadata": {},
     "output_type": "display_data"
    }
   ],
   "source": [
    "acc = history_dict['accuracy']\n",
    "val_acc = history_dict['val_accuracy']\n",
    "loss = history_dict['loss']\n",
    "val_loss = history_dict['val_loss']\n",
    "\n",
    "epochs = range(1, len(acc) + 1)\n",
    "\n",
    "plt.plot(epochs, loss, 'bo', label='Training loss')\n",
    "plt.plot(epochs, val_loss, 'b', label='Validation loss')\n",
    "plt.title('Training and validation loss')\n",
    "plt.xlabel('Epochs')\n",
    "plt.ylabel('Loss')\n",
    "plt.legend()\n",
    "\n",
    "plt.show()"
   ]
  },
  {
   "cell_type": "code",
   "execution_count": 246,
   "id": "ea2429ee",
   "metadata": {},
   "outputs": [
    {
     "data": {
      "image/png": "[encoded data removed]",
      "text/plain": [
       "<Figure size 640x480 with 1 Axes>"
      ]
     },
     "metadata": {},
     "output_type": "display_data"
    }
   ],
   "source": [
    "plt.clf()\n",
    "\n",
    "plt.plot(epochs, acc, 'bo', label='Training acc')\n",
    "plt.plot(epochs, val_acc, 'b', label='Validation acc')\n",
    "plt.title('Training and validation accuracy')\n",
    "plt.xlabel('Epochs')\n",
    "plt.ylabel('Accuracy')\n",
    "plt.legend()\n",
    "\n",
    "plt.show()"
   ]
  },
  {
   "cell_type": "markdown",
   "id": "27bf5f48",
   "metadata": {},
   "source": [
    "lstm과 dense의 차원수가 낮아서 성능이 제대로 안나온 것 같고  \n",
    "batch size와 epoch가 높아서 일반화 성능이 낮은 것 같으므로  \n",
    "조치를 취한 최종 모델을 학습한다."
   ]
  },
  {
   "cell_type": "markdown",
   "id": "04136e65",
   "metadata": {},
   "source": [
    "# 9. 최종 모델 학습 및 평가"
   ]
  },
  {
   "cell_type": "code",
   "execution_count": 247,
   "id": "4675bb8d",
   "metadata": {},
   "outputs": [
    {
     "name": "stdout",
     "output_type": "stream",
     "text": [
      "Model: \"sequential_32\"\n",
      "_________________________________________________________________\n",
      " Layer (type)                Output Shape              Param #   \n",
      "=================================================================\n",
      " embedding_32 (Embedding)    (None, 41, 100)           1000000   \n",
      "                                                                 \n",
      " lstm_18 (LSTM)              (None, 64)                42240     \n",
      "                                                                 \n",
      " dense_58 (Dense)            (None, 8)                 520       \n",
      "                                                                 \n",
      " dense_59 (Dense)            (None, 1)                 9         \n",
      "                                                                 \n",
      "=================================================================\n",
      "Total params: 1,042,769\n",
      "Trainable params: 1,042,769\n",
      "Non-trainable params: 0\n",
      "_________________________________________________________________\n"
     ]
    }
   ],
   "source": [
    "model = tf.keras.Sequential()\n",
    "model.add(tf.keras.layers.Embedding(vocab_size,\n",
    "                                 word_vector_dim,\n",
    "                                 embeddings_initializer=tf.keras.initializers.Constant(embedding_matrix),\n",
    "                                 input_length=maxlen,\n",
    "                                 trainable=True))\n",
    "                                 \n",
    "model.add(tf.keras.layers.LSTM(64))\n",
    "model.add(tf.keras.layers.Dense(8, activation='relu'))\n",
    "model.add(tf.keras.layers.Dense(1, activation='sigmoid'))\n",
    "\n",
    "model.summary()"
   ]
  },
  {
   "cell_type": "code",
   "execution_count": 248,
   "id": "e71c1e7d",
   "metadata": {},
   "outputs": [
    {
     "name": "stdout",
     "output_type": "stream",
     "text": [
      "Epoch 1/5\n",
      "4256/4256 [==============================] - 218s 51ms/step - loss: 0.3951 - accuracy: 0.8181 - val_loss: 0.3366 - val_accuracy: 0.8493\n",
      "Epoch 2/5\n",
      "4256/4256 [==============================] - 199s 47ms/step - loss: 0.3031 - accuracy: 0.8703 - val_loss: 0.3115 - val_accuracy: 0.8645\n",
      "Epoch 3/5\n",
      "4256/4256 [==============================] - 198s 46ms/step - loss: 0.2686 - accuracy: 0.8880 - val_loss: 0.3127 - val_accuracy: 0.8695\n",
      "Epoch 4/5\n",
      "4256/4256 [==============================] - 196s 46ms/step - loss: 0.2410 - accuracy: 0.9010 - val_loss: 0.3132 - val_accuracy: 0.8670\n",
      "Epoch 5/5\n",
      "4256/4256 [==============================] - 189s 44ms/step - loss: 0.2151 - accuracy: 0.9131 - val_loss: 0.3233 - val_accuracy: 0.8655\n"
     ]
    }
   ],
   "source": [
    "model.compile(optimizer='adam',\n",
    "              loss='binary_crossentropy',\n",
    "              metrics=['accuracy'])\n",
    "              \n",
    "epochs=5\n",
    "\n",
    "history = model.fit(X_train,\n",
    "                    y_train,\n",
    "                    epochs=epochs,\n",
    "                    batch_size=32,\n",
    "                    validation_data=(X_val, y_val),\n",
    "                    verbose=1)"
   ]
  },
  {
   "cell_type": "markdown",
   "id": "3573cd8d",
   "metadata": {},
   "source": [
    "accuracy와 val_accuracy가 차이가 좀 나서 오버피팅이 의심스럽지만  \n",
    "우선 테스트 데이터 셋 평가로 넘어가보자."
   ]
  },
  {
   "cell_type": "code",
   "execution_count": 249,
   "id": "3c474ebe",
   "metadata": {},
   "outputs": [
    {
     "name": "stdout",
     "output_type": "stream",
     "text": [
      "1537/1537 - 19s - loss: 0.3337 - accuracy: 0.8617 - 19s/epoch - 12ms/step\n",
      "[0.3337443172931671, 0.8617287278175354]\n"
     ]
    }
   ],
   "source": [
    "results = model.evaluate(test_X, test_y, verbose=2)\n",
    "\n",
    "print(results)"
   ]
  },
  {
   "cell_type": "markdown",
   "id": "14fb463b",
   "metadata": {},
   "source": [
    "정확도를 85%를 넘기는 모습이다."
   ]
  },
  {
   "cell_type": "markdown",
   "id": "a1d86776",
   "metadata": {},
   "source": [
    "# 10. 회고하기"
   ]
  },
  {
   "cell_type": "markdown",
   "id": "e74eac6d",
   "metadata": {
    "id": "84703da4-024f-441e-8092-3995c327fdb6"
   },
   "source": [
    "## 10.1. 이번 프로젝트에서 어려웠던 점"
   ]
  },
  {
   "cell_type": "markdown",
   "id": "6858cf91",
   "metadata": {},
   "source": [
    "로컬에서 Mecab 함수를 불러오는 것이 가장 어려웠다.  \n",
    "주말에 편의점 알바를 하며 노트북으로 구글링해서 겨우겨우 해결하였다.  \n",
    "그래도 덕분에 가상환경 설정 및 pip와 conda의 차이등을 알 수 있어서 좋았다."
   ]
  },
  {
   "cell_type": "markdown",
   "id": "28a24123",
   "metadata": {
    "id": "6141f6f1-d1a3-4e09-ba28-27729f313152"
   },
   "source": [
    "## 10.2. 프로젝트를 진행하면서 알아낸 점 혹은 아직 모호한 점"
   ]
  },
  {
   "cell_type": "markdown",
   "id": "2e846fa7",
   "metadata": {},
   "source": [
    "CNN 모델을 이용해서 NLP 분석을 할 수 있다는 것이 신기했다.  \n",
    "CV와 NLP의 경계가 모호해 진다는 게 이것인건가?  \n",
    "다만 아직 LSTM이 내부적으로 어떻게 돌아가는지는 정확히 알지는 못했다."
   ]
  },
  {
   "cell_type": "markdown",
   "id": "d3a64740",
   "metadata": {
    "id": "ba3637ac-2680-4892-8945-00f993730099"
   },
   "source": [
    "## 10.3. 루브릭 평가 지표를 맞추기 위해 시도한 것들"
   ]
  },
  {
   "cell_type": "markdown",
   "id": "2e846fa7",
   "metadata": {},
   "source": [
    "노드를 따라가다보면 평가문항 1, 2번은 자연스레 달성이 되는데  \n",
    "3번 문항의 정확도 85% 달성 미션은 모델을 조금 수정해야 달성할 수 있었다.  \n",
    "LSTM의 dim이 8로 아주 낮길래 64로 올렸고 Dense의 dim을 8로 올렸더니 달성되었다."
   ]
  },
  {
   "cell_type": "markdown",
   "id": "c3dd1cf3",
   "metadata": {
    "id": "b0fa0bdb-f362-428b-af91-df653b3d4632"
   },
   "source": [
    "## 10.4. 만약에 루브릭 평가 관련 지표를 달성 하지 못했을 때, 이유에 관한 추정"
   ]
  },
  {
   "cell_type": "markdown",
   "id": "2e846fa7",
   "metadata": {},
   "source": [
    "루브릭 평가 지표를 달성하기는 쉬웠지만 나처럼 로컬에서 프로젝트를 진행했으면  \n",
    "환경 설정에만 아주 많은 시간을 할당하느라 프로젝트 제출을 못햇을 수도 있다."
   ]
  },
  {
   "cell_type": "markdown",
   "id": "d6e22b9d",
   "metadata": {
    "id": "5acff079-52f7-499f-a3bf-4ebb5927efa7"
   },
   "source": [
    "## 10.5. 회상 혹은 자기 다짐"
   ]
  },
  {
   "cell_type": "markdown",
   "id": "2e846fa7",
   "metadata": {},
   "source": [
    "다른 그루들의 프로젝트와 비교시 나는 너무 딱 하라는 것만 하는 편인 것 같다.  \n",
    "그래서 별점은 높지만 뭔가 텅빈듯한 느낌이다.  \n",
    "사실 예전부터 뭐든지 느릿하게 하는 편이라 프로젝트에서 해보고 싶은 것들을 해보기는 커녕  \n",
    "진도 따라가기도 벅찬 상황이다.  \n",
    "블로그를 하루 빨리 시작해서 구글링하는 시간을 조금이라도 단축시켜야겠다."
   ]
  }
 ],
 "metadata": {
  "kernelspec": {
   "display_name": "Python 3.7.0 ('konlpy')",
   "language": "python",
   "name": "python3"
  },
  "language_info": {
   "codemirror_mode": {
    "name": "ipython",
    "version": 3
   },
   "file_extension": ".py",
   "mimetype": "text/x-python",
   "name": "python",
   "nbconvert_exporter": "python",
   "pygments_lexer": "ipython3",
   "version": "3.7.0"
  },
  "vscode": {
   "interpreter": {
    "hash": "0acfbb7f0699f11c725cbd9a0f34c1de1c0e45e06137491467ca99a9162f9382"
   }
  }
 },
 "nbformat": 4,
 "nbformat_minor": 5
}
