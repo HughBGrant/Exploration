{
 "cells": [
  {
   "cell_type": "markdown",
   "id": "78017aa7-036d-47f1-a0fb-f29db005d44d",
   "metadata": {
    "tags": []
   },
   "source": [
    "# 0. 모듈 불러오기!"
   ]
  },
  {
   "cell_type": "code",
   "execution_count": 156,
   "id": "82cf6326-4bb6-4ad7-8b08-6d5a392a7ea9",
   "metadata": {
    "tags": []
   },
   "outputs": [],
   "source": [
    "# 기본 모듈\n",
    "import numpy as np\n",
    "import pandas as pd\n",
    "import matplotlib.pyplot as plt\n",
    "import seaborn as sns\n",
    "\n",
    "# load_diabetes 데이터 호출 모듈\n",
    "from sklearn.datasets import load_diabetes #diabetes 데이터 불러오기\n",
    "\n",
    "# 데이터 호출 도우미 모듈\n",
    "import os\n",
    "from os.path import join\n",
    "\n",
    "# 데이터 분리 모듈\n",
    "from sklearn.model_selection import train_test_split # train, test 데이터 분리하기\n",
    "\n",
    "# 데이터 학습\n",
    "from sklearn.linear_model import LinearRegression # 로지스틱 회귀분석\n",
    "\n",
    "# 데이터 평가\n",
    "from sklearn.metrics import mean_squared_error # 손실함수 MSE"
   ]
  },
  {
   "cell_type": "markdown",
   "id": "80ff7dd7-9ca1-4a1a-99d8-34cd141565c5",
   "metadata": {
    "tags": []
   },
   "source": [
    "# 1. 당뇨병 수치를 맞춰보기!"
   ]
  },
  {
   "cell_type": "markdown",
   "id": "0a383e7b-085f-4389-9827-19bbffae90a2",
   "metadata": {},
   "source": [
    "## 1.1 데이터 가져오기!\n"
   ]
  },
  {
   "cell_type": "code",
   "execution_count": 157,
   "id": "1d4f062b-1203-487f-9bf8-65064cd546dd",
   "metadata": {},
   "outputs": [
    {
     "data": {
      "text/plain": [
       "dict_keys(['data', 'target', 'frame', 'DESCR', 'feature_names', 'data_filename', 'target_filename', 'data_module'])"
      ]
     },
     "execution_count": 157,
     "metadata": {},
     "output_type": "execute_result"
    }
   ],
   "source": [
    "diabetes = load_diabetes() # 데이터 불러오기\n",
    "diabetes.keys() # 데이터 키 종류 확인하기"
   ]
  },
  {
   "cell_type": "code",
   "execution_count": 158,
   "id": "55ea091b-d4ee-41ab-849a-9d9cc77dc29e",
   "metadata": {},
   "outputs": [
    {
     "data": {
      "text/plain": [
       "(442, 10)"
      ]
     },
     "execution_count": 158,
     "metadata": {},
     "output_type": "execute_result"
    }
   ],
   "source": [
    "df_X = diabetes.data # feature 데이터 저장하기\n",
    "df_X.shape"
   ]
  },
  {
   "cell_type": "code",
   "execution_count": 159,
   "id": "ca765812-2b94-4e85-9939-68e59e32883b",
   "metadata": {},
   "outputs": [
    {
     "data": {
      "text/plain": [
       "(442,)"
      ]
     },
     "execution_count": 159,
     "metadata": {},
     "output_type": "execute_result"
    }
   ],
   "source": [
    "df_y = diabetes.target # label 데이터 저장하기\n",
    "df_y.shape"
   ]
  },
  {
   "cell_type": "code",
   "execution_count": 160,
   "id": "7ada5528-4b87-4ebf-8ec1-62add30f65ec",
   "metadata": {
    "tags": []
   },
   "outputs": [
    {
     "data": {
      "text/plain": [
       "['age', 'sex', 'bmi', 'bp', 's1', 's2', 's3', 's4', 's5', 's6']"
      ]
     },
     "execution_count": 160,
     "metadata": {},
     "output_type": "execute_result"
    }
   ],
   "source": [
    "feature_names = diabetes.feature_names # feature 데이터 이름 확인하기\n",
    "feature_names"
   ]
  },
  {
   "cell_type": "code",
   "execution_count": 161,
   "id": "a0d0bb8b-51a8-4f37-935b-2beb1cd12ff4",
   "metadata": {},
   "outputs": [
    {
     "name": "stdout",
     "output_type": "stream",
     "text": [
      ".. _diabetes_dataset:\n",
      "\n",
      "Diabetes dataset\n",
      "----------------\n",
      "\n",
      "Ten baseline variables, age, sex, body mass index, average blood\n",
      "pressure, and six blood serum measurements were obtained for each of n =\n",
      "442 diabetes patients, as well as the response of interest, a\n",
      "quantitative measure of disease progression one year after baseline.\n",
      "\n",
      "**Data Set Characteristics:**\n",
      "\n",
      "  :Number of Instances: 442\n",
      "\n",
      "  :Number of Attributes: First 10 columns are numeric predictive values\n",
      "\n",
      "  :Target: Column 11 is a quantitative measure of disease progression one year after baseline\n",
      "\n",
      "  :Attribute Information:\n",
      "      - age     age in years\n",
      "      - sex\n",
      "      - bmi     body mass index\n",
      "      - bp      average blood pressure\n",
      "      - s1      tc, total serum cholesterol\n",
      "      - s2      ldl, low-density lipoproteins\n",
      "      - s3      hdl, high-density lipoproteins\n",
      "      - s4      tch, total cholesterol / HDL\n",
      "      - s5      ltg, possibly log of serum triglycerides level\n",
      "      - s6      glu, blood sugar level\n",
      "\n",
      "Note: Each of these 10 feature variables have been mean centered and scaled by the standard deviation times the square root of `n_samples` (i.e. the sum of squares of each column totals 1).\n",
      "\n",
      "Source URL:\n",
      "https://www4.stat.ncsu.edu/~boos/var.select/diabetes.html\n",
      "\n",
      "For more information see:\n",
      "Bradley Efron, Trevor Hastie, Iain Johnstone and Robert Tibshirani (2004) \"Least Angle Regression,\" Annals of Statistics (with discussion), 407-499.\n",
      "(https://web.stanford.edu/~hastie/Papers/LARS/LeastAngle_2002.pdf)\n",
      "\n"
     ]
    }
   ],
   "source": [
    "print(diabetes.DESCR) # 설명 확인하기"
   ]
  },
  {
   "cell_type": "markdown",
   "id": "9a851a91-5724-4bdf-819f-a1cf0bc909bf",
   "metadata": {},
   "source": [
    "Feature 정보\n",
    "1. age: 나이\n",
    "2. sex: 성별\n",
    "3. bmi: 체질량 지수\n",
    "4. bp: 평균 혈압\n",
    "5. s1: tc, 총 혈청 콜레스테롤\n",
    "6. s2: ldl, 저밀도 지질단백질\n",
    "7. s3: hdl, 고밀도 지질단백질\n",
    "8. s4: tch, 총 콜레스테롤 / HDL\n",
    "9. s5: ltg, 아마도 혈청 트리글리세리드 수준의 로그일 것이다.\n",
    "10. s6: glu, 혈당치\n",
    "\n",
    "Label 정보  \n",
    "1년 후 질병 진행에 대한 정량적 척도"
   ]
  },
  {
   "cell_type": "markdown",
   "id": "fbc5e925-8a32-4999-8176-681ae8fd9f2d",
   "metadata": {
    "tags": []
   },
   "source": [
    "## 1.2 모델에 입력할 데이터 X 준비하기!"
   ]
  },
  {
   "cell_type": "code",
   "execution_count": 162,
   "id": "baa15d0e-b3ab-4626-99de-3f6638e8d658",
   "metadata": {},
   "outputs": [
    {
     "data": {
      "text/plain": [
       "numpy.ndarray"
      ]
     },
     "execution_count": 162,
     "metadata": {},
     "output_type": "execute_result"
    }
   ],
   "source": [
    "type(df_X) # 데이터 타입 확인하기\n",
    "# df_X = np.array(df_X) # 이미 numpy array로 변환되어 있었음"
   ]
  },
  {
   "cell_type": "markdown",
   "id": "2ed2bbd9-eebe-44be-8e9c-0dcc0fff0517",
   "metadata": {},
   "source": [
    "## 1.3 모델에 예측할 데이터 y 준비하기!"
   ]
  },
  {
   "cell_type": "code",
   "execution_count": 163,
   "id": "8997553c-aa9e-4909-96ee-9884e8d36553",
   "metadata": {},
   "outputs": [
    {
     "data": {
      "text/plain": [
       "numpy.ndarray"
      ]
     },
     "execution_count": 163,
     "metadata": {},
     "output_type": "execute_result"
    }
   ],
   "source": [
    "type(df_y) # 데이터 타입 확인하기\n",
    "# df_y = np.array(df_y) # 이미 numpy array로 변환되어 있었음"
   ]
  },
  {
   "cell_type": "markdown",
   "id": "7f98edd3-d669-44a3-ad99-1bfb52b651cc",
   "metadata": {},
   "source": [
    "## 1.4 train 데이터와 test 데이터로 분리하기!\n"
   ]
  },
  {
   "cell_type": "code",
   "execution_count": 164,
   "id": "175c4c4b-5469-410a-973d-676b7969a50d",
   "metadata": {},
   "outputs": [
    {
     "name": "stdout",
     "output_type": "stream",
     "text": [
      "(353, 10) (89, 10) (353,) (89,)\n"
     ]
    }
   ],
   "source": [
    "# train, test 데이터 분리하기\n",
    "X_train, X_test, y_train, y_test = train_test_split(df_X, df_y, test_size=0.2, random_state=9)\n",
    "print(X_train.shape, X_test.shape, y_train.shape, y_test.shape)"
   ]
  },
  {
   "cell_type": "markdown",
   "id": "4a448888-74f0-4f17-81e4-2393c60b8e67",
   "metadata": {},
   "source": [
    "## 1.5 모델 준비하기!"
   ]
  },
  {
   "cell_type": "code",
   "execution_count": 165,
   "id": "590e53d8-0ac0-49d7-843a-352d6471b8fa",
   "metadata": {},
   "outputs": [
    {
     "name": "stdout",
     "output_type": "stream",
     "text": [
      "W: [0.3975499  0.46904987 0.57469774 0.4243031  0.5564203  0.94458468\n",
      " 0.37374525 0.49374618 0.87164937 0.05138845]\n",
      "b: 0.19285855262711782\n"
     ]
    }
   ],
   "source": [
    "# W, b 초기값 할당해보기\n",
    "W = np.random.rand(df_X.shape[1]) # feature 개수만큼 random 수 생성하기\n",
    "b = np.random.rand()\n",
    "print('W:', W)\n",
    "print('b:', b)"
   ]
  },
  {
   "cell_type": "code",
   "execution_count": 166,
   "id": "d02daa45-2827-4cfb-9a6e-d2bb65375197",
   "metadata": {},
   "outputs": [],
   "source": [
    "def model(X, W, b): # 선형 회귀 분석\n",
    "    y_pred = 0 # label 예측 변수\n",
    "    \n",
    "    for i in range(len(W)):\n",
    "        y_pred += X[:, i] * W[i] # + WX\n",
    "        \n",
    "    y_pred += b # + b\n",
    "    return y_pred"
   ]
  },
  {
   "cell_type": "code",
   "execution_count": 167,
   "id": "acbcd82a-4f5b-47c4-b98b-0fbd11814cf3",
   "metadata": {},
   "outputs": [
    {
     "name": "stdout",
     "output_type": "stream",
     "text": [
      "y_train:\n",
      "[270. 306. 178. 109. 180.]\n",
      "y_pred:\n",
      "[ 0.30339877  0.45497536 -0.0192586   0.26689344  0.42253768]\n"
     ]
    }
   ],
   "source": [
    "# 학습하기 전 예측값 구해보기\n",
    "y_pred = model(X_train, W, b)\n",
    "print('y_train:', y_train[:5], 'y_pred:', y_pred[:5], sep='\\n')"
   ]
  },
  {
   "cell_type": "markdown",
   "id": "33acee3b-d2b6-43f3-94df-8733ebc828a4",
   "metadata": {},
   "source": [
    "## 1.6 손실함수 loss 정의하기!"
   ]
  },
  {
   "cell_type": "code",
   "execution_count": 168,
   "id": "5ec62f42-3c99-493b-bfca-3437b6449187",
   "metadata": {},
   "outputs": [],
   "source": [
    "def MSE(y_test, y_pred): # MSE\n",
    "    mse = ((y_test - y_pred) ** 2).mean() # 편차의 제곱의 평균\n",
    "    return mse"
   ]
  },
  {
   "cell_type": "code",
   "execution_count": 169,
   "id": "61bf5b53-6d74-4136-8ce7-a800d22dd058",
   "metadata": {},
   "outputs": [],
   "source": [
    "def loss(X, W, b, y): # 손실 함수\n",
    "    y_pred = model(X, W, b) # label 예측값 계산하기\n",
    "    L = MSE(y_pred, y) # MSE 계산하기\n",
    "    return L"
   ]
  },
  {
   "cell_type": "code",
   "execution_count": 170,
   "id": "e8d600df-f129-4d5d-ac2e-dbd38a6adabd",
   "metadata": {},
   "outputs": [
    {
     "data": {
      "text/plain": [
       "28984.61418907599"
      ]
     },
     "execution_count": 170,
     "metadata": {},
     "output_type": "execute_result"
    }
   ],
   "source": [
    "# 학습하기 전 loss값 구해보기\n",
    "W = np.random.rand(df_X.shape[1])\n",
    "b = np.random.rand()\n",
    "loss(df_X, W, b, df_y)"
   ]
  },
  {
   "cell_type": "markdown",
   "id": "3190ae99-c01c-496c-92e2-e2dcf0c90069",
   "metadata": {},
   "source": [
    "## 1.7 기울기를 구하는 gradient 함수 구현하기!"
   ]
  },
  {
   "cell_type": "code",
   "execution_count": 171,
   "id": "e7689c59-2338-408c-9e93-9953c898897d",
   "metadata": {},
   "outputs": [],
   "source": [
    "def gradient(X, W, b, y): # 경사\n",
    "    M = len(X) # 데이터의 개수\n",
    "    y_pred = model(X, W, b) # 예측값 계산하기\n",
    "    dW = 1 / M * 2 * X.T.dot(y_pred - y) # W 경사 계산하기\n",
    "    db = 2 * (y_pred - y).mean() # b 경사 계산하기\n",
    "    return dW, db"
   ]
  },
  {
   "cell_type": "code",
   "execution_count": 172,
   "id": "f78a27c4-faa0-47d9-862b-8cf5fe9574ad",
   "metadata": {},
   "outputs": [
    {
     "name": "stdout",
     "output_type": "stream",
     "text": [
      "dW: [-1.36918515 -0.3099584  -4.28775252 -3.22507422 -1.54555806 -1.26868542\n",
      "  2.88835965 -3.14570903 -4.13617338 -2.79482599]\n",
      "db: -302.3768864376316\n"
     ]
    }
   ],
   "source": [
    "# 경사 구해보기\n",
    "W = np.random.rand(df_X.shape[1])\n",
    "b = np.random.rand()\n",
    "dW, db = gradient(df_X, W, b, df_y)\n",
    "print(\"dW:\", dW)\n",
    "print(\"db:\", db)"
   ]
  },
  {
   "cell_type": "markdown",
   "id": "661752a1-5c12-42f0-a910-e1570d3b313b",
   "metadata": {},
   "source": [
    "## 1.8 하이퍼 파라미터인 학습률 설정하기!"
   ]
  },
  {
   "cell_type": "code",
   "execution_count": 173,
   "id": "6d50a52a-600d-4e6b-9e76-e34a00c5bc0b",
   "metadata": {},
   "outputs": [],
   "source": [
    "LEARNING_RATE = 0.0001 # 학습률 설정하기"
   ]
  },
  {
   "cell_type": "markdown",
   "id": "24802369-fdd8-41c5-83c6-ea505ffdf4f0",
   "metadata": {},
   "source": [
    "## 1.9 모델 학습하기!"
   ]
  },
  {
   "cell_type": "code",
   "execution_count": 174,
   "id": "6f063949-fa09-4941-95c0-fdb30d7b556f",
   "metadata": {},
   "outputs": [
    {
     "data": {
      "text/html": [
       "<div>\n",
       "<style scoped>\n",
       "    .dataframe tbody tr th:only-of-type {\n",
       "        vertical-align: middle;\n",
       "    }\n",
       "\n",
       "    .dataframe tbody tr th {\n",
       "        vertical-align: top;\n",
       "    }\n",
       "\n",
       "    .dataframe thead th {\n",
       "        text-align: right;\n",
       "    }\n",
       "</style>\n",
       "<table border=\"1\" class=\"dataframe\">\n",
       "  <thead>\n",
       "    <tr style=\"text-align: right;\">\n",
       "      <th></th>\n",
       "      <th>age</th>\n",
       "      <th>sex</th>\n",
       "      <th>bmi</th>\n",
       "      <th>bp</th>\n",
       "      <th>s1</th>\n",
       "      <th>s2</th>\n",
       "      <th>s3</th>\n",
       "      <th>s4</th>\n",
       "      <th>s5</th>\n",
       "      <th>s6</th>\n",
       "      <th>y</th>\n",
       "    </tr>\n",
       "  </thead>\n",
       "  <tbody>\n",
       "    <tr>\n",
       "      <th>age</th>\n",
       "      <td>1.000000</td>\n",
       "      <td>0.173737</td>\n",
       "      <td>0.185085</td>\n",
       "      <td>0.335428</td>\n",
       "      <td>0.260061</td>\n",
       "      <td>0.219243</td>\n",
       "      <td>-0.075181</td>\n",
       "      <td>0.203841</td>\n",
       "      <td>0.270774</td>\n",
       "      <td>0.301731</td>\n",
       "      <td>0.187889</td>\n",
       "    </tr>\n",
       "    <tr>\n",
       "      <th>sex</th>\n",
       "      <td>0.173737</td>\n",
       "      <td>1.000000</td>\n",
       "      <td>0.088161</td>\n",
       "      <td>0.241010</td>\n",
       "      <td>0.035277</td>\n",
       "      <td>0.142637</td>\n",
       "      <td>-0.379090</td>\n",
       "      <td>0.332115</td>\n",
       "      <td>0.149916</td>\n",
       "      <td>0.208133</td>\n",
       "      <td>0.043062</td>\n",
       "    </tr>\n",
       "    <tr>\n",
       "      <th>bmi</th>\n",
       "      <td>0.185085</td>\n",
       "      <td>0.088161</td>\n",
       "      <td>1.000000</td>\n",
       "      <td>0.395411</td>\n",
       "      <td>0.249777</td>\n",
       "      <td>0.261170</td>\n",
       "      <td>-0.366811</td>\n",
       "      <td>0.413807</td>\n",
       "      <td>0.446157</td>\n",
       "      <td>0.388680</td>\n",
       "      <td>0.586450</td>\n",
       "    </tr>\n",
       "    <tr>\n",
       "      <th>bp</th>\n",
       "      <td>0.335428</td>\n",
       "      <td>0.241010</td>\n",
       "      <td>0.395411</td>\n",
       "      <td>1.000000</td>\n",
       "      <td>0.242464</td>\n",
       "      <td>0.185548</td>\n",
       "      <td>-0.178762</td>\n",
       "      <td>0.257650</td>\n",
       "      <td>0.393480</td>\n",
       "      <td>0.390430</td>\n",
       "      <td>0.441482</td>\n",
       "    </tr>\n",
       "    <tr>\n",
       "      <th>s1</th>\n",
       "      <td>0.260061</td>\n",
       "      <td>0.035277</td>\n",
       "      <td>0.249777</td>\n",
       "      <td>0.242464</td>\n",
       "      <td>1.000000</td>\n",
       "      <td>0.896663</td>\n",
       "      <td>0.051519</td>\n",
       "      <td>0.542207</td>\n",
       "      <td>0.515503</td>\n",
       "      <td>0.325717</td>\n",
       "      <td>0.212022</td>\n",
       "    </tr>\n",
       "    <tr>\n",
       "      <th>s2</th>\n",
       "      <td>0.219243</td>\n",
       "      <td>0.142637</td>\n",
       "      <td>0.261170</td>\n",
       "      <td>0.185548</td>\n",
       "      <td>0.896663</td>\n",
       "      <td>1.000000</td>\n",
       "      <td>-0.196455</td>\n",
       "      <td>0.659817</td>\n",
       "      <td>0.318357</td>\n",
       "      <td>0.290600</td>\n",
       "      <td>0.174054</td>\n",
       "    </tr>\n",
       "    <tr>\n",
       "      <th>s3</th>\n",
       "      <td>-0.075181</td>\n",
       "      <td>-0.379090</td>\n",
       "      <td>-0.366811</td>\n",
       "      <td>-0.178762</td>\n",
       "      <td>0.051519</td>\n",
       "      <td>-0.196455</td>\n",
       "      <td>1.000000</td>\n",
       "      <td>-0.738493</td>\n",
       "      <td>-0.398577</td>\n",
       "      <td>-0.273697</td>\n",
       "      <td>-0.394789</td>\n",
       "    </tr>\n",
       "    <tr>\n",
       "      <th>s4</th>\n",
       "      <td>0.203841</td>\n",
       "      <td>0.332115</td>\n",
       "      <td>0.413807</td>\n",
       "      <td>0.257650</td>\n",
       "      <td>0.542207</td>\n",
       "      <td>0.659817</td>\n",
       "      <td>-0.738493</td>\n",
       "      <td>1.000000</td>\n",
       "      <td>0.617859</td>\n",
       "      <td>0.417212</td>\n",
       "      <td>0.430453</td>\n",
       "    </tr>\n",
       "    <tr>\n",
       "      <th>s5</th>\n",
       "      <td>0.270774</td>\n",
       "      <td>0.149916</td>\n",
       "      <td>0.446157</td>\n",
       "      <td>0.393480</td>\n",
       "      <td>0.515503</td>\n",
       "      <td>0.318357</td>\n",
       "      <td>-0.398577</td>\n",
       "      <td>0.617859</td>\n",
       "      <td>1.000000</td>\n",
       "      <td>0.464669</td>\n",
       "      <td>0.565883</td>\n",
       "    </tr>\n",
       "    <tr>\n",
       "      <th>s6</th>\n",
       "      <td>0.301731</td>\n",
       "      <td>0.208133</td>\n",
       "      <td>0.388680</td>\n",
       "      <td>0.390430</td>\n",
       "      <td>0.325717</td>\n",
       "      <td>0.290600</td>\n",
       "      <td>-0.273697</td>\n",
       "      <td>0.417212</td>\n",
       "      <td>0.464669</td>\n",
       "      <td>1.000000</td>\n",
       "      <td>0.382483</td>\n",
       "    </tr>\n",
       "    <tr>\n",
       "      <th>y</th>\n",
       "      <td>0.187889</td>\n",
       "      <td>0.043062</td>\n",
       "      <td>0.586450</td>\n",
       "      <td>0.441482</td>\n",
       "      <td>0.212022</td>\n",
       "      <td>0.174054</td>\n",
       "      <td>-0.394789</td>\n",
       "      <td>0.430453</td>\n",
       "      <td>0.565883</td>\n",
       "      <td>0.382483</td>\n",
       "      <td>1.000000</td>\n",
       "    </tr>\n",
       "  </tbody>\n",
       "</table>\n",
       "</div>"
      ],
      "text/plain": [
       "          age       sex       bmi        bp        s1        s2        s3  \\\n",
       "age  1.000000  0.173737  0.185085  0.335428  0.260061  0.219243 -0.075181   \n",
       "sex  0.173737  1.000000  0.088161  0.241010  0.035277  0.142637 -0.379090   \n",
       "bmi  0.185085  0.088161  1.000000  0.395411  0.249777  0.261170 -0.366811   \n",
       "bp   0.335428  0.241010  0.395411  1.000000  0.242464  0.185548 -0.178762   \n",
       "s1   0.260061  0.035277  0.249777  0.242464  1.000000  0.896663  0.051519   \n",
       "s2   0.219243  0.142637  0.261170  0.185548  0.896663  1.000000 -0.196455   \n",
       "s3  -0.075181 -0.379090 -0.366811 -0.178762  0.051519 -0.196455  1.000000   \n",
       "s4   0.203841  0.332115  0.413807  0.257650  0.542207  0.659817 -0.738493   \n",
       "s5   0.270774  0.149916  0.446157  0.393480  0.515503  0.318357 -0.398577   \n",
       "s6   0.301731  0.208133  0.388680  0.390430  0.325717  0.290600 -0.273697   \n",
       "y    0.187889  0.043062  0.586450  0.441482  0.212022  0.174054 -0.394789   \n",
       "\n",
       "           s4        s5        s6         y  \n",
       "age  0.203841  0.270774  0.301731  0.187889  \n",
       "sex  0.332115  0.149916  0.208133  0.043062  \n",
       "bmi  0.413807  0.446157  0.388680  0.586450  \n",
       "bp   0.257650  0.393480  0.390430  0.441482  \n",
       "s1   0.542207  0.515503  0.325717  0.212022  \n",
       "s2   0.659817  0.318357  0.290600  0.174054  \n",
       "s3  -0.738493 -0.398577 -0.273697 -0.394789  \n",
       "s4   1.000000  0.617859  0.417212  0.430453  \n",
       "s5   0.617859  1.000000  0.464669  0.565883  \n",
       "s6   0.417212  0.464669  1.000000  0.382483  \n",
       "y    0.430453  0.565883  0.382483  1.000000  "
      ]
     },
     "execution_count": 174,
     "metadata": {},
     "output_type": "execute_result"
    }
   ],
   "source": [
    "# feature와 label의 상관계수 파악하기\n",
    "pd.DataFrame(np.concatenate((df_X, df_y.reshape(-1, 1)), axis=1), columns=[*feature_names, 'y']).corr()\n"
   ]
  },
  {
   "cell_type": "code",
   "execution_count": 175,
   "id": "68ed3e6a-8738-477d-b299-9ad636596368",
   "metadata": {},
   "outputs": [
    {
     "data": {
      "text/plain": [
       "(353, 9)"
      ]
     },
     "execution_count": 175,
     "metadata": {},
     "output_type": "execute_result"
    }
   ],
   "source": [
    "del_icol = [1] # 제거할 feature index 지정하기\n",
    "X_train = np.delete(X_train, del_icol, axis=1) # del_icol 제거하기\n",
    "X_train.shape"
   ]
  },
  {
   "cell_type": "code",
   "execution_count": 176,
   "id": "b871dec2-aa19-4ff9-adcd-2e8d58fae30a",
   "metadata": {},
   "outputs": [],
   "source": [
    "def Learn(LEARNING_RATE = 0.3, rate_down=True, n = 10000):\n",
    "    '''\n",
    "    LEARNING_RATE(초기 학습률): 0.3\n",
    "    rate_down(학습률 하강): True\n",
    "    n(학습 횟수): 10000\n",
    "    '''\n",
    "    W = np.random.rand(X_train.shape[1]) # 초기값 설정하기\n",
    "    b = np.random.rand() # 초기값 설정하기\n",
    "    losses = [] # loss 저장 변수\n",
    "    losses.append(loss(X_train, W, b, y_train)) # 최초 loss\n",
    "    print(f'최초 Iteration 0 : Loss {losses[-1]:0.0f}')\n",
    "\n",
    "    for i in range(1, n + 1): # n회 만큼 학습하기\n",
    "        dW, db = gradient(X_train, W, b, y_train) # 경사 구하기\n",
    "        W -= LEARNING_RATE * dW # W 업데이트하기\n",
    "        b -= LEARNING_RATE * db # b 업데이트하기\n",
    "        if rate_down: # 학습률 하강시키기\n",
    "            LEARNING_RATE /= 1.0001\n",
    "        L = loss(X_train, W, b, y_train) # loss 계산하기\n",
    "        losses.append(L) # loss 저장하기\n",
    "        \n",
    "        if i % (n / 10) == 0: # 1000회마다 진행률 표시하기\n",
    "            print(f'  Iteration {i} : Loss {losses[-1]:0.0f}')\n",
    "        # loss값의 변화율이 매우 낮으면 break\n",
    "        if len(losses) > 1 and (losses[-2] / losses[-1]) < 1.000001:\n",
    "                break\n",
    "                \n",
    "    print(f'최후 Iteration {i} : Loss {losses[-1]:0.0f}')\n",
    "    return losses, W, b # losses, W, b return 받기"
   ]
  },
  {
   "cell_type": "markdown",
   "id": "0be3cca9-b826-48dc-8da8-eb940286dabb",
   "metadata": {},
   "source": [
    "## 1.10 test 데이터에 대한 성능 확인하기!"
   ]
  },
  {
   "cell_type": "code",
   "execution_count": 177,
   "id": "f64c99ba-8303-4e16-9762-3a081ba4affd",
   "metadata": {},
   "outputs": [
    {
     "data": {
      "text/plain": [
       "(89, 9)"
      ]
     },
     "execution_count": 177,
     "metadata": {},
     "output_type": "execute_result"
    }
   ],
   "source": [
    "X_test = np.delete(X_test, del_icol, axis=1) # del_icol 제거하기\n",
    "X_test.shape"
   ]
  },
  {
   "cell_type": "code",
   "execution_count": 178,
   "id": "2a7217bd-cbbe-44ad-b215-192d27a8bffc",
   "metadata": {},
   "outputs": [
    {
     "name": "stdout",
     "output_type": "stream",
     "text": [
      "최초 Iteration 0 : Loss 29444\n",
      "  Iteration 1000 : Loss 3279\n",
      "  Iteration 2000 : Loss 3210\n",
      "  Iteration 3000 : Loss 3198\n",
      "최후 Iteration 3608 : Loss 3195\n"
     ]
    }
   ],
   "source": [
    "losses, W, b = Learn() # 학습된 W, b 받아오기"
   ]
  },
  {
   "cell_type": "code",
   "execution_count": 179,
   "id": "971d04f8-7e2e-4f17-ac5b-b70a1258dd7a",
   "metadata": {},
   "outputs": [
    {
     "data": {
      "image/png": "[encoded data removed]",
      "text/plain": [
       "<Figure size 640x480 with 1 Axes>"
      ]
     },
     "metadata": {},
     "output_type": "display_data"
    }
   ],
   "source": [
    "plt.plot(losses) # loss 그래프 확인하기\n",
    "plt.show()"
   ]
  },
  {
   "cell_type": "code",
   "execution_count": 180,
   "id": "aa6a07ee-05de-4f80-b7f2-accd1e23175f",
   "metadata": {},
   "outputs": [
    {
     "name": "stdout",
     "output_type": "stream",
     "text": [
      "test 데이터에 대한 model 성능(MSE): 2183\n"
     ]
    }
   ],
   "source": [
    "y_pred = model(X_test, W, b) # y_pred 받아오기\n",
    "\n",
    "print(f'test 데이터에 대한 model 성능(MSE): {MSE(y_test, y_pred):.0f}') # 성능 확인하기"
   ]
  },
  {
   "cell_type": "markdown",
   "id": "5611f6fa-1f0f-4cb3-968c-555a0b210e2e",
   "metadata": {},
   "source": [
    "## 1.11 정답 데이터와 예측한 데이터 시각화하기!"
   ]
  },
  {
   "cell_type": "code",
   "execution_count": 181,
   "id": "a6e9be0b-3e46-4de6-869b-6eb858f6ae8f",
   "metadata": {},
   "outputs": [
    {
     "data": {
      "image/png": "[encoded data removed]",
      "text/plain": [
       "<Figure size 640x480 with 1 Axes>"
      ]
     },
     "metadata": {},
     "output_type": "display_data"
    }
   ],
   "source": [
    "# y_test와 y_pred의 값들이 얼마나 가까이 있는지 확인하기\n",
    "plt.scatter(X_test[:, 0], y_test, label=\"true\")\n",
    "plt.scatter(X_test[:, 0], y_pred, label=\"pred\")\n",
    "plt.legend()\n",
    "plt.show()"
   ]
  },
  {
   "cell_type": "code",
   "execution_count": 182,
   "id": "7f728572-bdae-46f3-9b60-3ecfdb3b8d39",
   "metadata": {},
   "outputs": [
    {
     "data": {
      "image/png": "[encoded data removed]",
      "text/plain": [
       "<Figure size 640x480 with 1 Axes>"
      ]
     },
     "metadata": {},
     "output_type": "display_data"
    }
   ],
   "source": [
    "# y_test와 y_pred의 상관 관계 파악하기\n",
    "sns.regplot(x=y_test, y=y_pred)\n",
    "plt.show()"
   ]
  },
  {
   "cell_type": "code",
   "execution_count": 183,
   "id": "4d7ff3b8-eb54-4bbc-8ced-c5420917ddc1",
   "metadata": {},
   "outputs": [
    {
     "data": {
      "text/plain": [
       "array([[1.        , 0.77692989],\n",
       "       [0.77692989, 1.        ]])"
      ]
     },
     "execution_count": 183,
     "metadata": {},
     "output_type": "execute_result"
    }
   ],
   "source": [
    "np.corrcoef(y_test, y_pred) # 상관 계수 구하기"
   ]
  },
  {
   "cell_type": "markdown",
   "id": "521a8c23-0eb7-4f77-b8ce-8ccac1502810",
   "metadata": {},
   "source": [
    "실제값과 예측값의 상관계수: 0.77"
   ]
  },
  {
   "cell_type": "markdown",
   "id": "8c18da96-f5c0-4e51-8a91-1bf98b2a7a5f",
   "metadata": {},
   "source": [
    "# 2. 자전거 대여수 맞춰보기!"
   ]
  },
  {
   "cell_type": "markdown",
   "id": "cc309d35-0f3a-4064-bc89-ccb4829bcb92",
   "metadata": {},
   "source": [
    "## 2.1 데이터 가져오기!"
   ]
  },
  {
   "cell_type": "code",
   "execution_count": 184,
   "id": "57dae980-58b7-480b-a2bc-878ac9066d61",
   "metadata": {
    "_uuid": "df5891d33b4d5f08c0011b712f8796417564ec17",
    "tags": []
   },
   "outputs": [],
   "source": [
    "train_origin = pd.read_csv('~\\OneDrive - 수원대학교\\Office\\AIFFEL\\Workspace\\\\0\\[E-02]\\data\\\\train.csv') # 원본 데이터 저장하기\n",
    "train = train_origin.copy()"
   ]
  },
  {
   "cell_type": "code",
   "execution_count": 185,
   "id": "f7535b53-1212-484a-941c-ca58d8fc0be3",
   "metadata": {
    "_uuid": "df5891d33b4d5f08c0011b712f8796417564ec17",
    "tags": []
   },
   "outputs": [
    {
     "data": {
      "text/plain": [
       "(10886, 12)"
      ]
     },
     "execution_count": 185,
     "metadata": {},
     "output_type": "execute_result"
    }
   ],
   "source": [
    "train.shape"
   ]
  },
  {
   "cell_type": "code",
   "execution_count": 186,
   "id": "a556be45-11c7-443e-b20b-acc5602962fe",
   "metadata": {
    "_uuid": "df5891d33b4d5f08c0011b712f8796417564ec17",
    "tags": []
   },
   "outputs": [
    {
     "data": {
      "text/html": [
       "<div>\n",
       "<style scoped>\n",
       "    .dataframe tbody tr th:only-of-type {\n",
       "        vertical-align: middle;\n",
       "    }\n",
       "\n",
       "    .dataframe tbody tr th {\n",
       "        vertical-align: top;\n",
       "    }\n",
       "\n",
       "    .dataframe thead th {\n",
       "        text-align: right;\n",
       "    }\n",
       "</style>\n",
       "<table border=\"1\" class=\"dataframe\">\n",
       "  <thead>\n",
       "    <tr style=\"text-align: right;\">\n",
       "      <th></th>\n",
       "      <th>datetime</th>\n",
       "      <th>season</th>\n",
       "      <th>holiday</th>\n",
       "      <th>workingday</th>\n",
       "      <th>weather</th>\n",
       "      <th>temp</th>\n",
       "      <th>atemp</th>\n",
       "      <th>humidity</th>\n",
       "      <th>windspeed</th>\n",
       "      <th>casual</th>\n",
       "      <th>registered</th>\n",
       "      <th>count</th>\n",
       "    </tr>\n",
       "  </thead>\n",
       "  <tbody>\n",
       "    <tr>\n",
       "      <th>0</th>\n",
       "      <td>2011-01-01 00:00:00</td>\n",
       "      <td>1</td>\n",
       "      <td>0</td>\n",
       "      <td>0</td>\n",
       "      <td>1</td>\n",
       "      <td>9.84</td>\n",
       "      <td>14.395</td>\n",
       "      <td>81</td>\n",
       "      <td>0.0</td>\n",
       "      <td>3</td>\n",
       "      <td>13</td>\n",
       "      <td>16</td>\n",
       "    </tr>\n",
       "    <tr>\n",
       "      <th>1</th>\n",
       "      <td>2011-01-01 01:00:00</td>\n",
       "      <td>1</td>\n",
       "      <td>0</td>\n",
       "      <td>0</td>\n",
       "      <td>1</td>\n",
       "      <td>9.02</td>\n",
       "      <td>13.635</td>\n",
       "      <td>80</td>\n",
       "      <td>0.0</td>\n",
       "      <td>8</td>\n",
       "      <td>32</td>\n",
       "      <td>40</td>\n",
       "    </tr>\n",
       "    <tr>\n",
       "      <th>2</th>\n",
       "      <td>2011-01-01 02:00:00</td>\n",
       "      <td>1</td>\n",
       "      <td>0</td>\n",
       "      <td>0</td>\n",
       "      <td>1</td>\n",
       "      <td>9.02</td>\n",
       "      <td>13.635</td>\n",
       "      <td>80</td>\n",
       "      <td>0.0</td>\n",
       "      <td>5</td>\n",
       "      <td>27</td>\n",
       "      <td>32</td>\n",
       "    </tr>\n",
       "    <tr>\n",
       "      <th>3</th>\n",
       "      <td>2011-01-01 03:00:00</td>\n",
       "      <td>1</td>\n",
       "      <td>0</td>\n",
       "      <td>0</td>\n",
       "      <td>1</td>\n",
       "      <td>9.84</td>\n",
       "      <td>14.395</td>\n",
       "      <td>75</td>\n",
       "      <td>0.0</td>\n",
       "      <td>3</td>\n",
       "      <td>10</td>\n",
       "      <td>13</td>\n",
       "    </tr>\n",
       "    <tr>\n",
       "      <th>4</th>\n",
       "      <td>2011-01-01 04:00:00</td>\n",
       "      <td>1</td>\n",
       "      <td>0</td>\n",
       "      <td>0</td>\n",
       "      <td>1</td>\n",
       "      <td>9.84</td>\n",
       "      <td>14.395</td>\n",
       "      <td>75</td>\n",
       "      <td>0.0</td>\n",
       "      <td>0</td>\n",
       "      <td>1</td>\n",
       "      <td>1</td>\n",
       "    </tr>\n",
       "  </tbody>\n",
       "</table>\n",
       "</div>"
      ],
      "text/plain": [
       "              datetime  season  holiday  workingday  weather  temp   atemp  \\\n",
       "0  2011-01-01 00:00:00       1        0           0        1  9.84  14.395   \n",
       "1  2011-01-01 01:00:00       1        0           0        1  9.02  13.635   \n",
       "2  2011-01-01 02:00:00       1        0           0        1  9.02  13.635   \n",
       "3  2011-01-01 03:00:00       1        0           0        1  9.84  14.395   \n",
       "4  2011-01-01 04:00:00       1        0           0        1  9.84  14.395   \n",
       "\n",
       "   humidity  windspeed  casual  registered  count  \n",
       "0        81        0.0       3          13     16  \n",
       "1        80        0.0       8          32     40  \n",
       "2        80        0.0       5          27     32  \n",
       "3        75        0.0       3          10     13  \n",
       "4        75        0.0       0           1      1  "
      ]
     },
     "execution_count": 186,
     "metadata": {},
     "output_type": "execute_result"
    }
   ],
   "source": [
    "train.head()"
   ]
  },
  {
   "cell_type": "markdown",
   "id": "078e53e6-baa0-4c8d-8646-58869cc1a87f",
   "metadata": {},
   "source": [
    "<p style=\"font-size:20px\">Data Fields</p>\n",
    "\n",
    "1. datetime: hourly date + timestamp\n",
    "2. season: 1=봄, 2=여름, 3=가을, 4=겨울\n",
    "3. holiday: 1=주말을 제외한 국경일 등의 휴일, 0=휴일이 아닌 날\n",
    "4. workingday: 1=주말 및 휴일이 아닌 주중, 0=주말 및 휴일\n",
    "5. weather:  \n",
    "    1=맑음, 약간 구름 낀 흐림  \n",
    "    2=안개, 안개 + 흐림  \n",
    "    3=가벼운 눈, 가벼운 비 + 천둥  \n",
    "    4=심한 눈/비, 천둥/번개\n",
    "6. temp: 온도(섭씨)\n",
    "7. atemp: 체감온도(섭씨)\n",
    "8. humidity: 상대습도\n",
    "9. windspeed: 풍속\n",
    "10. casual: 사전에 등록되지 않은 사용자가 대여한 횟수\n",
    "11. registered: 사전에 등록된 사용자가 대여한 횟수\n",
    "12. count: 대여 횟수"
   ]
  },
  {
   "cell_type": "code",
   "execution_count": 187,
   "id": "1f26109b-0170-4856-8ae7-0a92484510e1",
   "metadata": {},
   "outputs": [
    {
     "name": "stdout",
     "output_type": "stream",
     "text": [
      "<class 'pandas.core.frame.DataFrame'>\n",
      "RangeIndex: 10886 entries, 0 to 10885\n",
      "Data columns (total 12 columns):\n",
      " #   Column      Non-Null Count  Dtype  \n",
      "---  ------      --------------  -----  \n",
      " 0   datetime    10886 non-null  object \n",
      " 1   season      10886 non-null  int64  \n",
      " 2   holiday     10886 non-null  int64  \n",
      " 3   workingday  10886 non-null  int64  \n",
      " 4   weather     10886 non-null  int64  \n",
      " 5   temp        10886 non-null  float64\n",
      " 6   atemp       10886 non-null  float64\n",
      " 7   humidity    10886 non-null  int64  \n",
      " 8   windspeed   10886 non-null  float64\n",
      " 9   casual      10886 non-null  int64  \n",
      " 10  registered  10886 non-null  int64  \n",
      " 11  count       10886 non-null  int64  \n",
      "dtypes: float64(3), int64(8), object(1)\n",
      "memory usage: 1020.7+ KB\n"
     ]
    }
   ],
   "source": [
    "train.info()"
   ]
  },
  {
   "cell_type": "code",
   "execution_count": 188,
   "id": "c060e26f-07ed-41de-bd60-affa10c2d89e",
   "metadata": {},
   "outputs": [
    {
     "data": {
      "text/html": [
       "<div>\n",
       "<style scoped>\n",
       "    .dataframe tbody tr th:only-of-type {\n",
       "        vertical-align: middle;\n",
       "    }\n",
       "\n",
       "    .dataframe tbody tr th {\n",
       "        vertical-align: top;\n",
       "    }\n",
       "\n",
       "    .dataframe thead th {\n",
       "        text-align: right;\n",
       "    }\n",
       "</style>\n",
       "<table border=\"1\" class=\"dataframe\">\n",
       "  <thead>\n",
       "    <tr style=\"text-align: right;\">\n",
       "      <th></th>\n",
       "      <th>season</th>\n",
       "      <th>holiday</th>\n",
       "      <th>workingday</th>\n",
       "      <th>weather</th>\n",
       "      <th>temp</th>\n",
       "      <th>atemp</th>\n",
       "      <th>humidity</th>\n",
       "      <th>windspeed</th>\n",
       "      <th>casual</th>\n",
       "      <th>registered</th>\n",
       "      <th>count</th>\n",
       "    </tr>\n",
       "  </thead>\n",
       "  <tbody>\n",
       "    <tr>\n",
       "      <th>count</th>\n",
       "      <td>10886.000000</td>\n",
       "      <td>10886.000000</td>\n",
       "      <td>10886.000000</td>\n",
       "      <td>10886.000000</td>\n",
       "      <td>10886.00000</td>\n",
       "      <td>10886.000000</td>\n",
       "      <td>10886.000000</td>\n",
       "      <td>10886.000000</td>\n",
       "      <td>10886.000000</td>\n",
       "      <td>10886.000000</td>\n",
       "      <td>10886.000000</td>\n",
       "    </tr>\n",
       "    <tr>\n",
       "      <th>mean</th>\n",
       "      <td>2.506614</td>\n",
       "      <td>0.028569</td>\n",
       "      <td>0.680875</td>\n",
       "      <td>1.418427</td>\n",
       "      <td>20.23086</td>\n",
       "      <td>23.655084</td>\n",
       "      <td>61.886460</td>\n",
       "      <td>12.799395</td>\n",
       "      <td>36.021955</td>\n",
       "      <td>155.552177</td>\n",
       "      <td>191.574132</td>\n",
       "    </tr>\n",
       "    <tr>\n",
       "      <th>std</th>\n",
       "      <td>1.116174</td>\n",
       "      <td>0.166599</td>\n",
       "      <td>0.466159</td>\n",
       "      <td>0.633839</td>\n",
       "      <td>7.79159</td>\n",
       "      <td>8.474601</td>\n",
       "      <td>19.245033</td>\n",
       "      <td>8.164537</td>\n",
       "      <td>49.960477</td>\n",
       "      <td>151.039033</td>\n",
       "      <td>181.144454</td>\n",
       "    </tr>\n",
       "    <tr>\n",
       "      <th>min</th>\n",
       "      <td>1.000000</td>\n",
       "      <td>0.000000</td>\n",
       "      <td>0.000000</td>\n",
       "      <td>1.000000</td>\n",
       "      <td>0.82000</td>\n",
       "      <td>0.760000</td>\n",
       "      <td>0.000000</td>\n",
       "      <td>0.000000</td>\n",
       "      <td>0.000000</td>\n",
       "      <td>0.000000</td>\n",
       "      <td>1.000000</td>\n",
       "    </tr>\n",
       "    <tr>\n",
       "      <th>25%</th>\n",
       "      <td>2.000000</td>\n",
       "      <td>0.000000</td>\n",
       "      <td>0.000000</td>\n",
       "      <td>1.000000</td>\n",
       "      <td>13.94000</td>\n",
       "      <td>16.665000</td>\n",
       "      <td>47.000000</td>\n",
       "      <td>7.001500</td>\n",
       "      <td>4.000000</td>\n",
       "      <td>36.000000</td>\n",
       "      <td>42.000000</td>\n",
       "    </tr>\n",
       "    <tr>\n",
       "      <th>50%</th>\n",
       "      <td>3.000000</td>\n",
       "      <td>0.000000</td>\n",
       "      <td>1.000000</td>\n",
       "      <td>1.000000</td>\n",
       "      <td>20.50000</td>\n",
       "      <td>24.240000</td>\n",
       "      <td>62.000000</td>\n",
       "      <td>12.998000</td>\n",
       "      <td>17.000000</td>\n",
       "      <td>118.000000</td>\n",
       "      <td>145.000000</td>\n",
       "    </tr>\n",
       "    <tr>\n",
       "      <th>75%</th>\n",
       "      <td>4.000000</td>\n",
       "      <td>0.000000</td>\n",
       "      <td>1.000000</td>\n",
       "      <td>2.000000</td>\n",
       "      <td>26.24000</td>\n",
       "      <td>31.060000</td>\n",
       "      <td>77.000000</td>\n",
       "      <td>16.997900</td>\n",
       "      <td>49.000000</td>\n",
       "      <td>222.000000</td>\n",
       "      <td>284.000000</td>\n",
       "    </tr>\n",
       "    <tr>\n",
       "      <th>max</th>\n",
       "      <td>4.000000</td>\n",
       "      <td>1.000000</td>\n",
       "      <td>1.000000</td>\n",
       "      <td>4.000000</td>\n",
       "      <td>41.00000</td>\n",
       "      <td>45.455000</td>\n",
       "      <td>100.000000</td>\n",
       "      <td>56.996900</td>\n",
       "      <td>367.000000</td>\n",
       "      <td>886.000000</td>\n",
       "      <td>977.000000</td>\n",
       "    </tr>\n",
       "  </tbody>\n",
       "</table>\n",
       "</div>"
      ],
      "text/plain": [
       "             season       holiday    workingday       weather         temp  \\\n",
       "count  10886.000000  10886.000000  10886.000000  10886.000000  10886.00000   \n",
       "mean       2.506614      0.028569      0.680875      1.418427     20.23086   \n",
       "std        1.116174      0.166599      0.466159      0.633839      7.79159   \n",
       "min        1.000000      0.000000      0.000000      1.000000      0.82000   \n",
       "25%        2.000000      0.000000      0.000000      1.000000     13.94000   \n",
       "50%        3.000000      0.000000      1.000000      1.000000     20.50000   \n",
       "75%        4.000000      0.000000      1.000000      2.000000     26.24000   \n",
       "max        4.000000      1.000000      1.000000      4.000000     41.00000   \n",
       "\n",
       "              atemp      humidity     windspeed        casual    registered  \\\n",
       "count  10886.000000  10886.000000  10886.000000  10886.000000  10886.000000   \n",
       "mean      23.655084     61.886460     12.799395     36.021955    155.552177   \n",
       "std        8.474601     19.245033      8.164537     49.960477    151.039033   \n",
       "min        0.760000      0.000000      0.000000      0.000000      0.000000   \n",
       "25%       16.665000     47.000000      7.001500      4.000000     36.000000   \n",
       "50%       24.240000     62.000000     12.998000     17.000000    118.000000   \n",
       "75%       31.060000     77.000000     16.997900     49.000000    222.000000   \n",
       "max       45.455000    100.000000     56.996900    367.000000    886.000000   \n",
       "\n",
       "              count  \n",
       "count  10886.000000  \n",
       "mean     191.574132  \n",
       "std      181.144454  \n",
       "min        1.000000  \n",
       "25%       42.000000  \n",
       "50%      145.000000  \n",
       "75%      284.000000  \n",
       "max      977.000000  "
      ]
     },
     "execution_count": 188,
     "metadata": {},
     "output_type": "execute_result"
    }
   ],
   "source": [
    "train.describe()"
   ]
  },
  {
   "cell_type": "markdown",
   "id": "b2c32990-ce5f-493d-9e17-4af2caa148e1",
   "metadata": {},
   "source": [
    "<p style=\"font-size:20px\">데이터 전처리</p>\n",
    "\n",
    "info를 살펴본 결과 null값은 없지만 object형인 datatime 특성이 있다.  \n",
    "datetime은 년-월-일 시:분:초 문자 형식으로 되어 있어서 각 단위를 분리해서 6개의 특성으로 나눠야 한다.  \n",
    "나누기 위해서는 datetime 타입으로 변경해야한다."
   ]
  },
  {
   "cell_type": "markdown",
   "id": "b6776898-56f1-4468-b28d-a4d1c422d287",
   "metadata": {},
   "source": [
    "## 2.2 datetime 컬럼을 datetime 자료형으로 변환하고 연, 월, 일, 시, 분, 초까지 6가지 컬럼 생성하기!"
   ]
  },
  {
   "cell_type": "code",
   "execution_count": 189,
   "id": "d3fdb324-5688-4092-ac76-090f89f0232d",
   "metadata": {},
   "outputs": [
    {
     "data": {
      "text/html": [
       "<div>\n",
       "<style scoped>\n",
       "    .dataframe tbody tr th:only-of-type {\n",
       "        vertical-align: middle;\n",
       "    }\n",
       "\n",
       "    .dataframe tbody tr th {\n",
       "        vertical-align: top;\n",
       "    }\n",
       "\n",
       "    .dataframe thead th {\n",
       "        text-align: right;\n",
       "    }\n",
       "</style>\n",
       "<table border=\"1\" class=\"dataframe\">\n",
       "  <thead>\n",
       "    <tr style=\"text-align: right;\">\n",
       "      <th></th>\n",
       "      <th>datetime</th>\n",
       "      <th>season</th>\n",
       "      <th>holiday</th>\n",
       "      <th>workingday</th>\n",
       "      <th>weather</th>\n",
       "      <th>temp</th>\n",
       "      <th>atemp</th>\n",
       "      <th>humidity</th>\n",
       "      <th>windspeed</th>\n",
       "      <th>casual</th>\n",
       "      <th>registered</th>\n",
       "      <th>count</th>\n",
       "    </tr>\n",
       "  </thead>\n",
       "  <tbody>\n",
       "    <tr>\n",
       "      <th>0</th>\n",
       "      <td>2011-01-01 00:00:00</td>\n",
       "      <td>1</td>\n",
       "      <td>0</td>\n",
       "      <td>0</td>\n",
       "      <td>1</td>\n",
       "      <td>9.84</td>\n",
       "      <td>14.395</td>\n",
       "      <td>81</td>\n",
       "      <td>0.0</td>\n",
       "      <td>3</td>\n",
       "      <td>13</td>\n",
       "      <td>16</td>\n",
       "    </tr>\n",
       "    <tr>\n",
       "      <th>1</th>\n",
       "      <td>2011-01-01 01:00:00</td>\n",
       "      <td>1</td>\n",
       "      <td>0</td>\n",
       "      <td>0</td>\n",
       "      <td>1</td>\n",
       "      <td>9.02</td>\n",
       "      <td>13.635</td>\n",
       "      <td>80</td>\n",
       "      <td>0.0</td>\n",
       "      <td>8</td>\n",
       "      <td>32</td>\n",
       "      <td>40</td>\n",
       "    </tr>\n",
       "    <tr>\n",
       "      <th>2</th>\n",
       "      <td>2011-01-01 02:00:00</td>\n",
       "      <td>1</td>\n",
       "      <td>0</td>\n",
       "      <td>0</td>\n",
       "      <td>1</td>\n",
       "      <td>9.02</td>\n",
       "      <td>13.635</td>\n",
       "      <td>80</td>\n",
       "      <td>0.0</td>\n",
       "      <td>5</td>\n",
       "      <td>27</td>\n",
       "      <td>32</td>\n",
       "    </tr>\n",
       "    <tr>\n",
       "      <th>3</th>\n",
       "      <td>2011-01-01 03:00:00</td>\n",
       "      <td>1</td>\n",
       "      <td>0</td>\n",
       "      <td>0</td>\n",
       "      <td>1</td>\n",
       "      <td>9.84</td>\n",
       "      <td>14.395</td>\n",
       "      <td>75</td>\n",
       "      <td>0.0</td>\n",
       "      <td>3</td>\n",
       "      <td>10</td>\n",
       "      <td>13</td>\n",
       "    </tr>\n",
       "    <tr>\n",
       "      <th>4</th>\n",
       "      <td>2011-01-01 04:00:00</td>\n",
       "      <td>1</td>\n",
       "      <td>0</td>\n",
       "      <td>0</td>\n",
       "      <td>1</td>\n",
       "      <td>9.84</td>\n",
       "      <td>14.395</td>\n",
       "      <td>75</td>\n",
       "      <td>0.0</td>\n",
       "      <td>0</td>\n",
       "      <td>1</td>\n",
       "      <td>1</td>\n",
       "    </tr>\n",
       "  </tbody>\n",
       "</table>\n",
       "</div>"
      ],
      "text/plain": [
       "             datetime  season  holiday  workingday  weather  temp   atemp  \\\n",
       "0 2011-01-01 00:00:00       1        0           0        1  9.84  14.395   \n",
       "1 2011-01-01 01:00:00       1        0           0        1  9.02  13.635   \n",
       "2 2011-01-01 02:00:00       1        0           0        1  9.02  13.635   \n",
       "3 2011-01-01 03:00:00       1        0           0        1  9.84  14.395   \n",
       "4 2011-01-01 04:00:00       1        0           0        1  9.84  14.395   \n",
       "\n",
       "   humidity  windspeed  casual  registered  count  \n",
       "0        81        0.0       3          13     16  \n",
       "1        80        0.0       8          32     40  \n",
       "2        80        0.0       5          27     32  \n",
       "3        75        0.0       3          10     13  \n",
       "4        75        0.0       0           1      1  "
      ]
     },
     "execution_count": 189,
     "metadata": {},
     "output_type": "execute_result"
    }
   ],
   "source": [
    "# datetime 특성을 datetime 타입으로 변환하기\n",
    "train['datetime'] = pd.to_datetime(train['datetime'])\n",
    "\n",
    "train.head()"
   ]
  },
  {
   "cell_type": "code",
   "execution_count": 190,
   "id": "42d93eb4-26c6-4b4a-b186-1402e86eaed8",
   "metadata": {},
   "outputs": [],
   "source": [
    "# datetime 특성을 각 시간 단위로 분리하기\n",
    "train['year'] = pd.to_datetime(train['datetime']).dt.year\n",
    "train['month'] = pd.to_datetime(train['datetime']).dt.month\n",
    "train['day'] = pd.to_datetime(train['datetime']).dt.day\n",
    "train['hour'] = pd.to_datetime(train['datetime']).dt.hour\n",
    "train['minute'] = pd.to_datetime(train['datetime']).dt.minute\n",
    "train['second'] = pd.to_datetime(train['datetime']).dt.second"
   ]
  },
  {
   "cell_type": "code",
   "execution_count": 191,
   "id": "939dbe27-b8ee-48f9-a18a-987c0aa8a307",
   "metadata": {},
   "outputs": [
    {
     "data": {
      "text/html": [
       "<div>\n",
       "<style scoped>\n",
       "    .dataframe tbody tr th:only-of-type {\n",
       "        vertical-align: middle;\n",
       "    }\n",
       "\n",
       "    .dataframe tbody tr th {\n",
       "        vertical-align: top;\n",
       "    }\n",
       "\n",
       "    .dataframe thead th {\n",
       "        text-align: right;\n",
       "    }\n",
       "</style>\n",
       "<table border=\"1\" class=\"dataframe\">\n",
       "  <thead>\n",
       "    <tr style=\"text-align: right;\">\n",
       "      <th></th>\n",
       "      <th>datetime</th>\n",
       "      <th>season</th>\n",
       "      <th>holiday</th>\n",
       "      <th>workingday</th>\n",
       "      <th>weather</th>\n",
       "      <th>temp</th>\n",
       "      <th>atemp</th>\n",
       "      <th>humidity</th>\n",
       "      <th>windspeed</th>\n",
       "      <th>casual</th>\n",
       "      <th>registered</th>\n",
       "      <th>count</th>\n",
       "      <th>year</th>\n",
       "      <th>month</th>\n",
       "      <th>day</th>\n",
       "      <th>hour</th>\n",
       "      <th>minute</th>\n",
       "      <th>second</th>\n",
       "    </tr>\n",
       "  </thead>\n",
       "  <tbody>\n",
       "    <tr>\n",
       "      <th>0</th>\n",
       "      <td>2011-01-01 00:00:00</td>\n",
       "      <td>1</td>\n",
       "      <td>0</td>\n",
       "      <td>0</td>\n",
       "      <td>1</td>\n",
       "      <td>9.84</td>\n",
       "      <td>14.395</td>\n",
       "      <td>81</td>\n",
       "      <td>0.0</td>\n",
       "      <td>3</td>\n",
       "      <td>13</td>\n",
       "      <td>16</td>\n",
       "      <td>2011</td>\n",
       "      <td>1</td>\n",
       "      <td>1</td>\n",
       "      <td>0</td>\n",
       "      <td>0</td>\n",
       "      <td>0</td>\n",
       "    </tr>\n",
       "    <tr>\n",
       "      <th>1</th>\n",
       "      <td>2011-01-01 01:00:00</td>\n",
       "      <td>1</td>\n",
       "      <td>0</td>\n",
       "      <td>0</td>\n",
       "      <td>1</td>\n",
       "      <td>9.02</td>\n",
       "      <td>13.635</td>\n",
       "      <td>80</td>\n",
       "      <td>0.0</td>\n",
       "      <td>8</td>\n",
       "      <td>32</td>\n",
       "      <td>40</td>\n",
       "      <td>2011</td>\n",
       "      <td>1</td>\n",
       "      <td>1</td>\n",
       "      <td>1</td>\n",
       "      <td>0</td>\n",
       "      <td>0</td>\n",
       "    </tr>\n",
       "    <tr>\n",
       "      <th>2</th>\n",
       "      <td>2011-01-01 02:00:00</td>\n",
       "      <td>1</td>\n",
       "      <td>0</td>\n",
       "      <td>0</td>\n",
       "      <td>1</td>\n",
       "      <td>9.02</td>\n",
       "      <td>13.635</td>\n",
       "      <td>80</td>\n",
       "      <td>0.0</td>\n",
       "      <td>5</td>\n",
       "      <td>27</td>\n",
       "      <td>32</td>\n",
       "      <td>2011</td>\n",
       "      <td>1</td>\n",
       "      <td>1</td>\n",
       "      <td>2</td>\n",
       "      <td>0</td>\n",
       "      <td>0</td>\n",
       "    </tr>\n",
       "    <tr>\n",
       "      <th>3</th>\n",
       "      <td>2011-01-01 03:00:00</td>\n",
       "      <td>1</td>\n",
       "      <td>0</td>\n",
       "      <td>0</td>\n",
       "      <td>1</td>\n",
       "      <td>9.84</td>\n",
       "      <td>14.395</td>\n",
       "      <td>75</td>\n",
       "      <td>0.0</td>\n",
       "      <td>3</td>\n",
       "      <td>10</td>\n",
       "      <td>13</td>\n",
       "      <td>2011</td>\n",
       "      <td>1</td>\n",
       "      <td>1</td>\n",
       "      <td>3</td>\n",
       "      <td>0</td>\n",
       "      <td>0</td>\n",
       "    </tr>\n",
       "    <tr>\n",
       "      <th>4</th>\n",
       "      <td>2011-01-01 04:00:00</td>\n",
       "      <td>1</td>\n",
       "      <td>0</td>\n",
       "      <td>0</td>\n",
       "      <td>1</td>\n",
       "      <td>9.84</td>\n",
       "      <td>14.395</td>\n",
       "      <td>75</td>\n",
       "      <td>0.0</td>\n",
       "      <td>0</td>\n",
       "      <td>1</td>\n",
       "      <td>1</td>\n",
       "      <td>2011</td>\n",
       "      <td>1</td>\n",
       "      <td>1</td>\n",
       "      <td>4</td>\n",
       "      <td>0</td>\n",
       "      <td>0</td>\n",
       "    </tr>\n",
       "  </tbody>\n",
       "</table>\n",
       "</div>"
      ],
      "text/plain": [
       "             datetime  season  holiday  workingday  weather  temp   atemp  \\\n",
       "0 2011-01-01 00:00:00       1        0           0        1  9.84  14.395   \n",
       "1 2011-01-01 01:00:00       1        0           0        1  9.02  13.635   \n",
       "2 2011-01-01 02:00:00       1        0           0        1  9.02  13.635   \n",
       "3 2011-01-01 03:00:00       1        0           0        1  9.84  14.395   \n",
       "4 2011-01-01 04:00:00       1        0           0        1  9.84  14.395   \n",
       "\n",
       "   humidity  windspeed  casual  registered  count  year  month  day  hour  \\\n",
       "0        81        0.0       3          13     16  2011      1    1     0   \n",
       "1        80        0.0       8          32     40  2011      1    1     1   \n",
       "2        80        0.0       5          27     32  2011      1    1     2   \n",
       "3        75        0.0       3          10     13  2011      1    1     3   \n",
       "4        75        0.0       0           1      1  2011      1    1     4   \n",
       "\n",
       "   minute  second  \n",
       "0       0       0  \n",
       "1       0       0  \n",
       "2       0       0  \n",
       "3       0       0  \n",
       "4       0       0  "
      ]
     },
     "execution_count": 191,
     "metadata": {},
     "output_type": "execute_result"
    }
   ],
   "source": [
    "train.head()"
   ]
  },
  {
   "cell_type": "markdown",
   "id": "9431468f-0d46-44a8-b986-019353b6c224",
   "metadata": {},
   "source": [
    "## 2.3 year, month, day, hour, minute, second 데이터 개수 시각화하기!"
   ]
  },
  {
   "cell_type": "code",
   "execution_count": 192,
   "id": "11f5bfe7-5792-474c-a6f0-e92bfcf85e27",
   "metadata": {},
   "outputs": [
    {
     "data": {
      "image/png": "[encoded data removed]",
      "text/plain": [
       "<Figure size 1200x1800 with 6 Axes>"
      ]
     },
     "metadata": {},
     "output_type": "display_data"
    }
   ],
   "source": [
    "# 각 시간 단위마다 countplot 그려보기\n",
    "fig = plt.figure(figsize=(12, 18))\n",
    "plt.subplot(321)\n",
    "sns.countplot(x=train['year'])\n",
    "plt.subplot(322)\n",
    "sns.countplot(x=train['month'])\n",
    "plt.subplot(323)\n",
    "sns.countplot(x=train['day'])\n",
    "plt.subplot(324)\n",
    "sns.countplot(x=train['hour'])\n",
    "plt.subplot(325)\n",
    "sns.countplot(x=train['minute'])\n",
    "plt.subplot(326)\n",
    "sns.countplot(x=train['second'])\n",
    "plt.show()"
   ]
  },
  {
   "cell_type": "markdown",
   "id": "270da4b6-7c06-49b0-94df-a4fe76e470af",
   "metadata": {},
   "source": [
    "## 2.4 X, y 컬럼 선택 및 train/test 데이터 분리하기!"
   ]
  },
  {
   "cell_type": "markdown",
   "id": "bf369dd7-d9d8-47ed-be76-ee5b8efd3848",
   "metadata": {
    "tags": []
   },
   "source": [
    "시각화 결과 minute, second 특성은 단일값이므로 삭제한다.  \n",
    "\n",
    "datetime 특성은 이제 필요 없으므로 삭제해야 한다.  \n",
    "\n",
    "또한 casual 특성은 \"사전에 등록하지 않은 사용자가 대여한 횟수\"이고, registered 특성은 \"사전에 등록된 사용자가 대여한 횟수\"이며, casual + registered = count이기 때문에  \n",
    "casual과 registered 특성이 따로 필요하지는 않다.  \n",
    "애초에 test 데이터셋에는 casual, registered 특성은 존재하지도 않으므로 예측에 사용될 수 없다.  "
   ]
  },
  {
   "cell_type": "code",
   "execution_count": 193,
   "id": "bec8fcab-ef14-4543-a72d-65939577c995",
   "metadata": {},
   "outputs": [
    {
     "data": {
      "text/html": [
       "<div>\n",
       "<style scoped>\n",
       "    .dataframe tbody tr th:only-of-type {\n",
       "        vertical-align: middle;\n",
       "    }\n",
       "\n",
       "    .dataframe tbody tr th {\n",
       "        vertical-align: top;\n",
       "    }\n",
       "\n",
       "    .dataframe thead th {\n",
       "        text-align: right;\n",
       "    }\n",
       "</style>\n",
       "<table border=\"1\" class=\"dataframe\">\n",
       "  <thead>\n",
       "    <tr style=\"text-align: right;\">\n",
       "      <th></th>\n",
       "      <th>season</th>\n",
       "      <th>holiday</th>\n",
       "      <th>workingday</th>\n",
       "      <th>weather</th>\n",
       "      <th>temp</th>\n",
       "      <th>atemp</th>\n",
       "      <th>humidity</th>\n",
       "      <th>windspeed</th>\n",
       "      <th>count</th>\n",
       "      <th>year</th>\n",
       "      <th>month</th>\n",
       "      <th>day</th>\n",
       "      <th>hour</th>\n",
       "    </tr>\n",
       "  </thead>\n",
       "  <tbody>\n",
       "    <tr>\n",
       "      <th>0</th>\n",
       "      <td>1</td>\n",
       "      <td>0</td>\n",
       "      <td>0</td>\n",
       "      <td>1</td>\n",
       "      <td>9.84</td>\n",
       "      <td>14.395</td>\n",
       "      <td>81</td>\n",
       "      <td>0.0</td>\n",
       "      <td>16</td>\n",
       "      <td>2011</td>\n",
       "      <td>1</td>\n",
       "      <td>1</td>\n",
       "      <td>0</td>\n",
       "    </tr>\n",
       "    <tr>\n",
       "      <th>1</th>\n",
       "      <td>1</td>\n",
       "      <td>0</td>\n",
       "      <td>0</td>\n",
       "      <td>1</td>\n",
       "      <td>9.02</td>\n",
       "      <td>13.635</td>\n",
       "      <td>80</td>\n",
       "      <td>0.0</td>\n",
       "      <td>40</td>\n",
       "      <td>2011</td>\n",
       "      <td>1</td>\n",
       "      <td>1</td>\n",
       "      <td>1</td>\n",
       "    </tr>\n",
       "    <tr>\n",
       "      <th>2</th>\n",
       "      <td>1</td>\n",
       "      <td>0</td>\n",
       "      <td>0</td>\n",
       "      <td>1</td>\n",
       "      <td>9.02</td>\n",
       "      <td>13.635</td>\n",
       "      <td>80</td>\n",
       "      <td>0.0</td>\n",
       "      <td>32</td>\n",
       "      <td>2011</td>\n",
       "      <td>1</td>\n",
       "      <td>1</td>\n",
       "      <td>2</td>\n",
       "    </tr>\n",
       "    <tr>\n",
       "      <th>3</th>\n",
       "      <td>1</td>\n",
       "      <td>0</td>\n",
       "      <td>0</td>\n",
       "      <td>1</td>\n",
       "      <td>9.84</td>\n",
       "      <td>14.395</td>\n",
       "      <td>75</td>\n",
       "      <td>0.0</td>\n",
       "      <td>13</td>\n",
       "      <td>2011</td>\n",
       "      <td>1</td>\n",
       "      <td>1</td>\n",
       "      <td>3</td>\n",
       "    </tr>\n",
       "    <tr>\n",
       "      <th>4</th>\n",
       "      <td>1</td>\n",
       "      <td>0</td>\n",
       "      <td>0</td>\n",
       "      <td>1</td>\n",
       "      <td>9.84</td>\n",
       "      <td>14.395</td>\n",
       "      <td>75</td>\n",
       "      <td>0.0</td>\n",
       "      <td>1</td>\n",
       "      <td>2011</td>\n",
       "      <td>1</td>\n",
       "      <td>1</td>\n",
       "      <td>4</td>\n",
       "    </tr>\n",
       "  </tbody>\n",
       "</table>\n",
       "</div>"
      ],
      "text/plain": [
       "   season  holiday  workingday  weather  temp   atemp  humidity  windspeed  \\\n",
       "0       1        0           0        1  9.84  14.395        81        0.0   \n",
       "1       1        0           0        1  9.02  13.635        80        0.0   \n",
       "2       1        0           0        1  9.02  13.635        80        0.0   \n",
       "3       1        0           0        1  9.84  14.395        75        0.0   \n",
       "4       1        0           0        1  9.84  14.395        75        0.0   \n",
       "\n",
       "   count  year  month  day  hour  \n",
       "0     16  2011      1    1     0  \n",
       "1     40  2011      1    1     1  \n",
       "2     32  2011      1    1     2  \n",
       "3     13  2011      1    1     3  \n",
       "4      1  2011      1    1     4  "
      ]
     },
     "execution_count": 193,
     "metadata": {},
     "output_type": "execute_result"
    }
   ],
   "source": [
    "train = train.drop(['datetime', 'casual', 'registered', 'minute', 'second'], axis=1)\n",
    "\n",
    "train.head()"
   ]
  },
  {
   "cell_type": "markdown",
   "id": "6272e461-8d8f-49bd-b46f-a0750ad49015",
   "metadata": {},
   "source": [
    "모델을 학습하기 전에 해야될 사항이 2가지가 있다.\n",
    "1. label의 정규분포화\n",
    "2. categorical feature들의 원핫 인코딩\n",
    "\n",
    "우선 label의 분포를 살펴보자."
   ]
  },
  {
   "cell_type": "code",
   "execution_count": 194,
   "id": "adebf4d5-3804-493e-8474-47c571fe8ab4",
   "metadata": {},
   "outputs": [
    {
     "data": {
      "text/plain": [
       "<seaborn.axisgrid.FacetGrid at 0x2860da85eb0>"
      ]
     },
     "execution_count": 194,
     "metadata": {},
     "output_type": "execute_result"
    },
    {
     "data": {
      "image/png": "[encoded data removed]",
      "text/plain": [
       "<Figure size 500x500 with 1 Axes>"
      ]
     },
     "metadata": {},
     "output_type": "display_data"
    }
   ],
   "source": [
    "sns.displot(train['count'])"
   ]
  },
  {
   "cell_type": "markdown",
   "id": "76914df4-8c20-45e5-988d-4a076a459cb7",
   "metadata": {},
   "source": [
    "무슨 분포인지는 모르겠지만 정규분포는 아니다. 따라서 log를 씌워서 정규분포와 가까운 모양으로 만들어야 한다."
   ]
  },
  {
   "cell_type": "code",
   "execution_count": 195,
   "id": "d6ad500d-0a6c-4214-a2d0-4473032ab04e",
   "metadata": {},
   "outputs": [],
   "source": [
    "train['count'] = np.log1p(train['count'])"
   ]
  },
  {
   "cell_type": "code",
   "execution_count": 196,
   "id": "aca80042-8bf4-40f0-8ce8-557c8d096008",
   "metadata": {},
   "outputs": [
    {
     "data": {
      "text/plain": [
       "<seaborn.axisgrid.FacetGrid at 0x2860fab01f0>"
      ]
     },
     "execution_count": 196,
     "metadata": {},
     "output_type": "execute_result"
    },
    {
     "data": {
      "image/png": "[encoded data removed]",
      "text/plain": [
       "<Figure size 500x500 with 1 Axes>"
      ]
     },
     "metadata": {},
     "output_type": "display_data"
    }
   ],
   "source": [
    "sns.displot(train['count'])"
   ]
  },
  {
   "cell_type": "markdown",
   "id": "2e8360c2-c37d-43ce-a9e5-941542e41866",
   "metadata": {},
   "source": [
    "이번에는 categorical feature들을 원핫 인코딩하기 위해 plot을 그려보자."
   ]
  },
  {
   "cell_type": "markdown",
   "id": "73f15349-3b92-4e69-a132-631e81549fa9",
   "metadata": {},
   "source": [
    "season, holiday, workingday, weather, year, month, day, hour 8개의 특성이 카테고리 타입이므로 이 특성들을 원핫 인코딩한다."
   ]
  },
  {
   "cell_type": "code",
   "execution_count": 197,
   "id": "b704ce8b-aa26-4005-be99-5015f6938388",
   "metadata": {},
   "outputs": [
    {
     "data": {
      "text/plain": [
       "(10886, 74)"
      ]
     },
     "execution_count": 197,
     "metadata": {},
     "output_type": "execute_result"
    }
   ],
   "source": [
    "train = pd.get_dummies(train, columns=['season', 'holiday', 'workingday', 'weather',\n",
    "                                       'year', 'month', 'day', 'hour'])\n",
    "train.shape"
   ]
  },
  {
   "cell_type": "code",
   "execution_count": 198,
   "id": "d2f760b8-910c-4798-8971-afb6db22876e",
   "metadata": {},
   "outputs": [
    {
     "data": {
      "text/html": [
       "<div>\n",
       "<style scoped>\n",
       "    .dataframe tbody tr th:only-of-type {\n",
       "        vertical-align: middle;\n",
       "    }\n",
       "\n",
       "    .dataframe tbody tr th {\n",
       "        vertical-align: top;\n",
       "    }\n",
       "\n",
       "    .dataframe thead th {\n",
       "        text-align: right;\n",
       "    }\n",
       "</style>\n",
       "<table border=\"1\" class=\"dataframe\">\n",
       "  <thead>\n",
       "    <tr style=\"text-align: right;\">\n",
       "      <th></th>\n",
       "      <th>temp</th>\n",
       "      <th>atemp</th>\n",
       "      <th>humidity</th>\n",
       "      <th>windspeed</th>\n",
       "      <th>season_1</th>\n",
       "      <th>season_2</th>\n",
       "      <th>season_3</th>\n",
       "      <th>season_4</th>\n",
       "      <th>holiday_0</th>\n",
       "      <th>holiday_1</th>\n",
       "      <th>...</th>\n",
       "      <th>hour_14</th>\n",
       "      <th>hour_15</th>\n",
       "      <th>hour_16</th>\n",
       "      <th>hour_17</th>\n",
       "      <th>hour_18</th>\n",
       "      <th>hour_19</th>\n",
       "      <th>hour_20</th>\n",
       "      <th>hour_21</th>\n",
       "      <th>hour_22</th>\n",
       "      <th>hour_23</th>\n",
       "    </tr>\n",
       "  </thead>\n",
       "  <tbody>\n",
       "    <tr>\n",
       "      <th>0</th>\n",
       "      <td>9.84</td>\n",
       "      <td>14.395</td>\n",
       "      <td>81</td>\n",
       "      <td>0.0</td>\n",
       "      <td>1</td>\n",
       "      <td>0</td>\n",
       "      <td>0</td>\n",
       "      <td>0</td>\n",
       "      <td>1</td>\n",
       "      <td>0</td>\n",
       "      <td>...</td>\n",
       "      <td>0</td>\n",
       "      <td>0</td>\n",
       "      <td>0</td>\n",
       "      <td>0</td>\n",
       "      <td>0</td>\n",
       "      <td>0</td>\n",
       "      <td>0</td>\n",
       "      <td>0</td>\n",
       "      <td>0</td>\n",
       "      <td>0</td>\n",
       "    </tr>\n",
       "    <tr>\n",
       "      <th>1</th>\n",
       "      <td>9.02</td>\n",
       "      <td>13.635</td>\n",
       "      <td>80</td>\n",
       "      <td>0.0</td>\n",
       "      <td>1</td>\n",
       "      <td>0</td>\n",
       "      <td>0</td>\n",
       "      <td>0</td>\n",
       "      <td>1</td>\n",
       "      <td>0</td>\n",
       "      <td>...</td>\n",
       "      <td>0</td>\n",
       "      <td>0</td>\n",
       "      <td>0</td>\n",
       "      <td>0</td>\n",
       "      <td>0</td>\n",
       "      <td>0</td>\n",
       "      <td>0</td>\n",
       "      <td>0</td>\n",
       "      <td>0</td>\n",
       "      <td>0</td>\n",
       "    </tr>\n",
       "    <tr>\n",
       "      <th>2</th>\n",
       "      <td>9.02</td>\n",
       "      <td>13.635</td>\n",
       "      <td>80</td>\n",
       "      <td>0.0</td>\n",
       "      <td>1</td>\n",
       "      <td>0</td>\n",
       "      <td>0</td>\n",
       "      <td>0</td>\n",
       "      <td>1</td>\n",
       "      <td>0</td>\n",
       "      <td>...</td>\n",
       "      <td>0</td>\n",
       "      <td>0</td>\n",
       "      <td>0</td>\n",
       "      <td>0</td>\n",
       "      <td>0</td>\n",
       "      <td>0</td>\n",
       "      <td>0</td>\n",
       "      <td>0</td>\n",
       "      <td>0</td>\n",
       "      <td>0</td>\n",
       "    </tr>\n",
       "    <tr>\n",
       "      <th>3</th>\n",
       "      <td>9.84</td>\n",
       "      <td>14.395</td>\n",
       "      <td>75</td>\n",
       "      <td>0.0</td>\n",
       "      <td>1</td>\n",
       "      <td>0</td>\n",
       "      <td>0</td>\n",
       "      <td>0</td>\n",
       "      <td>1</td>\n",
       "      <td>0</td>\n",
       "      <td>...</td>\n",
       "      <td>0</td>\n",
       "      <td>0</td>\n",
       "      <td>0</td>\n",
       "      <td>0</td>\n",
       "      <td>0</td>\n",
       "      <td>0</td>\n",
       "      <td>0</td>\n",
       "      <td>0</td>\n",
       "      <td>0</td>\n",
       "      <td>0</td>\n",
       "    </tr>\n",
       "    <tr>\n",
       "      <th>4</th>\n",
       "      <td>9.84</td>\n",
       "      <td>14.395</td>\n",
       "      <td>75</td>\n",
       "      <td>0.0</td>\n",
       "      <td>1</td>\n",
       "      <td>0</td>\n",
       "      <td>0</td>\n",
       "      <td>0</td>\n",
       "      <td>1</td>\n",
       "      <td>0</td>\n",
       "      <td>...</td>\n",
       "      <td>0</td>\n",
       "      <td>0</td>\n",
       "      <td>0</td>\n",
       "      <td>0</td>\n",
       "      <td>0</td>\n",
       "      <td>0</td>\n",
       "      <td>0</td>\n",
       "      <td>0</td>\n",
       "      <td>0</td>\n",
       "      <td>0</td>\n",
       "    </tr>\n",
       "  </tbody>\n",
       "</table>\n",
       "<p>5 rows × 73 columns</p>\n",
       "</div>"
      ],
      "text/plain": [
       "   temp   atemp  humidity  windspeed  season_1  season_2  season_3  season_4  \\\n",
       "0  9.84  14.395        81        0.0         1         0         0         0   \n",
       "1  9.02  13.635        80        0.0         1         0         0         0   \n",
       "2  9.02  13.635        80        0.0         1         0         0         0   \n",
       "3  9.84  14.395        75        0.0         1         0         0         0   \n",
       "4  9.84  14.395        75        0.0         1         0         0         0   \n",
       "\n",
       "   holiday_0  holiday_1  ...  hour_14  hour_15  hour_16  hour_17  hour_18  \\\n",
       "0          1          0  ...        0        0        0        0        0   \n",
       "1          1          0  ...        0        0        0        0        0   \n",
       "2          1          0  ...        0        0        0        0        0   \n",
       "3          1          0  ...        0        0        0        0        0   \n",
       "4          1          0  ...        0        0        0        0        0   \n",
       "\n",
       "   hour_19  hour_20  hour_21  hour_22  hour_23  \n",
       "0        0        0        0        0        0  \n",
       "1        0        0        0        0        0  \n",
       "2        0        0        0        0        0  \n",
       "3        0        0        0        0        0  \n",
       "4        0        0        0        0        0  \n",
       "\n",
       "[5 rows x 73 columns]"
      ]
     },
     "execution_count": 198,
     "metadata": {},
     "output_type": "execute_result"
    }
   ],
   "source": [
    "# X, y 분리하기\n",
    "X = train.drop(['count'], axis=1)\n",
    "y = train['count']\n",
    "X.head()"
   ]
  },
  {
   "cell_type": "markdown",
   "id": "b5861577-f8a1-4970-ab29-a8956ded0366",
   "metadata": {},
   "source": [
    "## 2.5 LinearRegression 모델 학습하기!"
   ]
  },
  {
   "cell_type": "code",
   "execution_count": 199,
   "id": "71ab66f9-75d2-463a-9910-dbb2e2eaedb5",
   "metadata": {},
   "outputs": [
    {
     "name": "stdout",
     "output_type": "stream",
     "text": [
      "(8708, 73) (2178, 73) (8708,) (2178,)\n"
     ]
    }
   ],
   "source": [
    "X_train, X_test, y_train, y_test = train_test_split(X, y, test_size=0.2)\n",
    "print(X_train.shape, X_test.shape, y_train.shape, y_test.shape)"
   ]
  },
  {
   "cell_type": "code",
   "execution_count": 200,
   "id": "0904cab7-7db1-4530-8630-4ae5d639ce11",
   "metadata": {},
   "outputs": [
    {
     "data": {
      "text/html": [
       "<style>#sk-container-id-4 {color: black;background-color: white;}#sk-container-id-4 pre{padding: 0;}#sk-container-id-4 div.sk-toggleable {background-color: white;}#sk-container-id-4 label.sk-toggleable__label {cursor: pointer;display: block;width: 100%;margin-bottom: 0;padding: 0.3em;box-sizing: border-box;text-align: center;}#sk-container-id-4 label.sk-toggleable__label-arrow:before {content: \"▸\";float: left;margin-right: 0.25em;color: #696969;}#sk-container-id-4 label.sk-toggleable__label-arrow:hover:before {color: black;}#sk-container-id-4 div.sk-estimator:hover label.sk-toggleable__label-arrow:before {color: black;}#sk-container-id-4 div.sk-toggleable__content {max-height: 0;max-width: 0;overflow: hidden;text-align: left;background-color: #f0f8ff;}#sk-container-id-4 div.sk-toggleable__content pre {margin: 0.2em;color: black;border-radius: 0.25em;background-color: #f0f8ff;}#sk-container-id-4 input.sk-toggleable__control:checked~div.sk-toggleable__content {max-height: 200px;max-width: 100%;overflow: auto;}#sk-container-id-4 input.sk-toggleable__control:checked~label.sk-toggleable__label-arrow:before {content: \"▾\";}#sk-container-id-4 div.sk-estimator input.sk-toggleable__control:checked~label.sk-toggleable__label {background-color: #d4ebff;}#sk-container-id-4 div.sk-label input.sk-toggleable__control:checked~label.sk-toggleable__label {background-color: #d4ebff;}#sk-container-id-4 input.sk-hidden--visually {border: 0;clip: rect(1px 1px 1px 1px);clip: rect(1px, 1px, 1px, 1px);height: 1px;margin: -1px;overflow: hidden;padding: 0;position: absolute;width: 1px;}#sk-container-id-4 div.sk-estimator {font-family: monospace;background-color: #f0f8ff;border: 1px dotted black;border-radius: 0.25em;box-sizing: border-box;margin-bottom: 0.5em;}#sk-container-id-4 div.sk-estimator:hover {background-color: #d4ebff;}#sk-container-id-4 div.sk-parallel-item::after {content: \"\";width: 100%;border-bottom: 1px solid gray;flex-grow: 1;}#sk-container-id-4 div.sk-label:hover label.sk-toggleable__label {background-color: #d4ebff;}#sk-container-id-4 div.sk-serial::before {content: \"\";position: absolute;border-left: 1px solid gray;box-sizing: border-box;top: 0;bottom: 0;left: 50%;z-index: 0;}#sk-container-id-4 div.sk-serial {display: flex;flex-direction: column;align-items: center;background-color: white;padding-right: 0.2em;padding-left: 0.2em;position: relative;}#sk-container-id-4 div.sk-item {position: relative;z-index: 1;}#sk-container-id-4 div.sk-parallel {display: flex;align-items: stretch;justify-content: center;background-color: white;position: relative;}#sk-container-id-4 div.sk-item::before, #sk-container-id-4 div.sk-parallel-item::before {content: \"\";position: absolute;border-left: 1px solid gray;box-sizing: border-box;top: 0;bottom: 0;left: 50%;z-index: -1;}#sk-container-id-4 div.sk-parallel-item {display: flex;flex-direction: column;z-index: 1;position: relative;background-color: white;}#sk-container-id-4 div.sk-parallel-item:first-child::after {align-self: flex-end;width: 50%;}#sk-container-id-4 div.sk-parallel-item:last-child::after {align-self: flex-start;width: 50%;}#sk-container-id-4 div.sk-parallel-item:only-child::after {width: 0;}#sk-container-id-4 div.sk-dashed-wrapped {border: 1px dashed gray;margin: 0 0.4em 0.5em 0.4em;box-sizing: border-box;padding-bottom: 0.4em;background-color: white;}#sk-container-id-4 div.sk-label label {font-family: monospace;font-weight: bold;display: inline-block;line-height: 1.2em;}#sk-container-id-4 div.sk-label-container {text-align: center;}#sk-container-id-4 div.sk-container {/* jupyter's `normalize.less` sets `[hidden] { display: none; }` but bootstrap.min.css set `[hidden] { display: none !important; }` so we also need the `!important` here to be able to override the default hidden behavior on the sphinx rendered scikit-learn.org. See: https://github.com/scikit-learn/scikit-learn/issues/21755 */display: inline-block !important;position: relative;}#sk-container-id-4 div.sk-text-repr-fallback {display: none;}</style><div id=\"sk-container-id-4\" class=\"sk-top-container\"><div class=\"sk-text-repr-fallback\"><pre>LinearRegression()</pre><b>In a Jupyter environment, please rerun this cell to show the HTML representation or trust the notebook. <br />On GitHub, the HTML representation is unable to render, please try loading this page with nbviewer.org.</b></div><div class=\"sk-container\" hidden><div class=\"sk-item\"><div class=\"sk-estimator sk-toggleable\"><input class=\"sk-toggleable__control sk-hidden--visually\" id=\"sk-estimator-id-4\" type=\"checkbox\" checked><label for=\"sk-estimator-id-4\" class=\"sk-toggleable__label sk-toggleable__label-arrow\">LinearRegression</label><div class=\"sk-toggleable__content\"><pre>LinearRegression()</pre></div></div></div></div></div>"
      ],
      "text/plain": [
       "LinearRegression()"
      ]
     },
     "execution_count": 200,
     "metadata": {},
     "output_type": "execute_result"
    }
   ],
   "source": [
    "lin_reg = LinearRegression()\n",
    "lin_reg.fit(X_train, y_train)"
   ]
  },
  {
   "cell_type": "markdown",
   "id": "05030c62-37b8-4eeb-b4d3-7da71cd04553",
   "metadata": {},
   "source": [
    "## 2.6 학습된 모델로 X_test에 대한 예측값 출력 및 손실함수값 계산하기!"
   ]
  },
  {
   "cell_type": "code",
   "execution_count": 201,
   "id": "ea05dee9-7308-438c-94de-ca803c2a6baf",
   "metadata": {
    "tags": []
   },
   "outputs": [],
   "source": [
    "y_pred = lin_reg.predict(X_test)"
   ]
  },
  {
   "cell_type": "code",
   "execution_count": 202,
   "id": "dd290f39-3dbe-4695-be8b-7ce1b4aba448",
   "metadata": {
    "tags": []
   },
   "outputs": [],
   "source": [
    "# 이전에 y에 log값을 씌워서 scale이 낮아져 있으므로 다시 exp를 씌워서 실제값으로 바꿔준다\n",
    "y_test = np.expm1(y_test)\n",
    "y_pred = np.expm1(y_pred)"
   ]
  },
  {
   "cell_type": "code",
   "execution_count": 203,
   "id": "3e99b1e9-6be9-48fc-be1c-5b205d1b3652",
   "metadata": {
    "tags": []
   },
   "outputs": [
    {
     "name": "stdout",
     "output_type": "stream",
     "text": [
      "MSE: 8686.839619116252\n"
     ]
    }
   ],
   "source": [
    "mse = mean_squared_error(y_test, y_pred)\n",
    "print('MSE:', mse)"
   ]
  },
  {
   "cell_type": "code",
   "execution_count": 204,
   "id": "3ba1c302-4d98-4b1a-ad0c-631043e922f2",
   "metadata": {},
   "outputs": [
    {
     "name": "stdout",
     "output_type": "stream",
     "text": [
      "RMSE: 93.20321678523898\n"
     ]
    }
   ],
   "source": [
    "rmse = mse ** 0.5\n",
    "print('RMSE:', rmse)"
   ]
  },
  {
   "cell_type": "markdown",
   "id": "20470312-2c5a-444d-994e-958fa3c6bd0f",
   "metadata": {},
   "source": [
    "## 2.7 x축은 temp 또는 humidity로, y축은 count로 예측 결과 시각화하기!"
   ]
  },
  {
   "cell_type": "code",
   "execution_count": 205,
   "id": "84f43dc7-6801-4248-bf6c-b74621ab914f",
   "metadata": {
    "tags": []
   },
   "outputs": [
    {
     "data": {
      "image/png": "[encoded data removed]",
      "text/plain": [
       "<Figure size 640x480 with 1 Axes>"
      ]
     },
     "metadata": {},
     "output_type": "display_data"
    }
   ],
   "source": [
    "plt.scatter(X_test.loc[:, 'temp'], y_test, label=\"true\")\n",
    "plt.scatter(X_test.loc[:, 'temp'], y_pred, label=\"pred\")\n",
    "plt.legend()\n",
    "plt.show()"
   ]
  },
  {
   "cell_type": "code",
   "execution_count": 206,
   "id": "52402060-5052-4911-9116-a6bfa42f4f0c",
   "metadata": {
    "tags": []
   },
   "outputs": [
    {
     "data": {
      "image/png": "[encoded data removed]",
      "text/plain": [
       "<Figure size 640x480 with 1 Axes>"
      ]
     },
     "metadata": {},
     "output_type": "display_data"
    }
   ],
   "source": [
    "plt.scatter(X_test.loc[:, 'humidity'], y_test, label=\"true\")\n",
    "plt.scatter(X_test.loc[:, 'humidity'], y_pred, label=\"pred\")\n",
    "plt.legend()\n",
    "plt.show()"
   ]
  },
  {
   "cell_type": "markdown",
   "id": "59f89f57-e20d-4ab6-9748-67fe202d2cac",
   "metadata": {},
   "source": [
    "시각화 결과 꽤 비슷한 분포를 보이고 있는 것 같다."
   ]
  },
  {
   "cell_type": "markdown",
   "id": "45b64f75-d057-4921-b612-197bc52d7cb2",
   "metadata": {},
   "source": [
    "# 3 회고하기!"
   ]
  },
  {
   "cell_type": "markdown",
   "id": "2b5a1913-e00d-4e51-bc33-c6e8bec5041a",
   "metadata": {},
   "source": [
    "## 3.1 이번 프로젝트에서 어려웠던 점"
   ]
  },
  {
   "cell_type": "markdown",
   "id": "1c4c06af-bb88-4c2c-bba7-8d66ca5019bc",
   "metadata": {},
   "source": [
    "Exploration에서 배운 것 이외의 것들을 찾아보지 않으면 목표 점수를 채울 수가 없던 점이 어려웠다."
   ]
  },
  {
   "cell_type": "markdown",
   "id": "29cf033d-daa7-4cdf-8a3f-0608ab3485aa",
   "metadata": {},
   "source": [
    "## 3.2 프로젝트를 진행하면서 알아낸 점 혹은 아직 모호한 점"
   ]
  },
  {
   "cell_type": "markdown",
   "id": "a41094a6-4b56-47ad-bbcb-0fcea9b86563",
   "metadata": {},
   "source": [
    "알아낸 점은 y값을 함부로 바꾸면 안되는 건 줄 알았는데 학습할 때 log1p를 씌우고 학습이 끝나면 다시 exp1m을 씌우는 방식을 써도 된다는 것이다.  \n",
    "모호한 점은 상관계수가 낮은 특성을 지워도 손실함수값이 낮아지지 않았다는 점이다."
   ]
  },
  {
   "cell_type": "markdown",
   "id": "29f913f6-7e08-4112-a563-4368caddddc2",
   "metadata": {},
   "source": [
    "## 3.3 루브릭 평가 지표를 맞추기 위해 시도한 것들"
   ]
  },
  {
   "cell_type": "markdown",
   "id": "ed0c01dd-cafa-43c5-973f-a02129e5b171",
   "metadata": {},
   "source": [
    "1. 당뇨병 데이터  \n",
    "    직접 학습시키는 코드에서 1회 학습할 때마다 학습률을 서서히 줄여나가는 방식을 시도해봤다.  \n",
    "    처음에는 global minimum이 있는 라인쪽으로 가기 위해 학습률을 크게 주고  \n",
    "    라인쪽에 무사히 빠지고 난 후에는 학습률을 낮춰서 안정적으로 minimum에 빠지지 않을까  \n",
    "    라는 생각으로 기능을 구현했다.  \n",
    "\n",
    "    손실함수값의 변동이 거의 없을 때 break를 하는 기능도 구현해봤다.  \n",
    "    더 이상 손실함수값이 나아지지 않는데도 계속 학습시키면 train 데이터에 너무 집중해서  \n",
    "    test 데이터에는 잘 맞지 않게 되는 overfitting 문제가 발생할 것을 대비한 기능이다.\n",
    "\n",
    "2. 자전거 데이터  \n",
    "    y값을 그래프로 그려봤더니 오른쪽으로 꼬리가 긴 분포여서 혹시 이것을 조정할 수 있지 않을까 싶어서  \n",
    "    구글에 검색해 본 결과 학습하기 전에 log를 씌우고 학습이 끝난 후 exp1m을 씌워서 낮아진 scale을  \n",
    "    다시 실제값에 맞게 되돌려 주면 오히려 더 학습이 잘된다는 사실을 알게 되서 직접 적용시켰다.  \n",
    "    하지만 성능은 그다지 오른 것 같지는 않았다.  \n",
    "    \n",
    "    값의 scale에 따라 가중치가 크게 영향을 받는 현상을 없애기 위해 category 특성에 원핫 인코딩도 적용해봤다.  \n",
    "    그러자 갑자기 특성이 너무 많이 생겨서 자료를 보기가 불편해졌다. 그래도 손실함수값은 크게 낮출 수 있었다."
   ]
  },
  {
   "cell_type": "markdown",
   "id": "f122723a-fa6d-4532-a5b6-547ca300910e",
   "metadata": {},
   "source": [
    "## 3.4 만약에 루브릭 평가 관련 지표를 달성 하지 못했을 때, 이유에 관한 추정"
   ]
  },
  {
   "cell_type": "markdown",
   "id": "b6d86c9b-f1f3-4c93-b0fa-becf5e97361d",
   "metadata": {},
   "source": [
    "루브릭 평가 지표\n",
    "* 당뇨병 데이터 MSE 3000 이하: 내 점수 2183\n",
    "* 자전거 데이터 RMSE 150 이하: 내 점수 94  \n",
    "\n",
    "두 목표 모두 달성했다.  \n",
    "당뇨병 데이터는 학습률을 점점 낮추는 방식이 효과가 좋았고  \n",
    "자전거 데이터는 원핫 인코딩이 효과가 좋았다."
   ]
  },
  {
   "cell_type": "markdown",
   "id": "31d90114-5d65-4cb2-977a-e43e6a0450a2",
   "metadata": {},
   "source": [
    "## 3.5 자기 다짐"
   ]
  },
  {
   "cell_type": "markdown",
   "id": "3f07150d-ff0d-41c2-80da-423bc23a6b08",
   "metadata": {},
   "source": [
    "지표를 맞추는데 욕심을 너무 부려서 시간이 많이 촉박했다.  \n",
    "지표는 우선 커트라인만 딱 맞추고 마크다운을 좀 더 연습해야겠다고 생각했다."
   ]
  }
 ],
 "metadata": {
  "kernelspec": {
   "display_name": "Python 3 (ipykernel)",
   "language": "python",
   "name": "python3"
  },
  "language_info": {
   "codemirror_mode": {
    "name": "ipython",
    "version": 3
   },
   "file_extension": ".py",
   "mimetype": "text/x-python",
   "name": "python",
   "nbconvert_exporter": "python",
   "pygments_lexer": "ipython3",
   "version": "3.9.13"
  }
 },
 "nbformat": 4,
 "nbformat_minor": 5
}
