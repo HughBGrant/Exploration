{
 "cells": [
  {
   "cell_type": "markdown",
   "id": "a8e49d61",
   "metadata": {},
   "source": [
    "# 0. 번역기를 만들어 보자"
   ]
  },
  {
   "cell_type": "markdown",
   "id": "913f88a7",
   "metadata": {},
   "source": [
    "영어를 프랑스어로 바꿔주는 번역기를 만들어 보자."
   ]
  },
  {
   "cell_type": "code",
   "execution_count": 1,
   "id": "f4d04f96",
   "metadata": {},
   "outputs": [],
   "source": [
    "import os, re\n",
    "\n",
    "import numpy as np\n",
    "import pandas as pd\n",
    "import matplotlib.pyplot as plt\n",
    "\n",
    "from tensorflow.keras.preprocessing.text import Tokenizer\n",
    "from tensorflow.keras.preprocessing.sequence import pad_sequences\n",
    "from tensorflow.keras.utils import to_categorical\n",
    "from tensorflow.keras.layers import Input, Embedding, LSTM, Masking, Dense\n",
    "from tensorflow.keras.models import Model\n",
    "from tensorflow.keras.utils import plot_model\n",
    "from sklearn.model_selection import train_test_split\n",
    "\n",
    "from keras.callbacks import EarlyStopping"
   ]
  },
  {
   "cell_type": "markdown",
   "id": "5261329e",
   "metadata": {},
   "source": [
    "# 1. 데이터 불러오기"
   ]
  },
  {
   "cell_type": "markdown",
   "id": "f1a12798",
   "metadata": {},
   "source": [
    "https://www.manythings.org/anki/  \n",
    "이 곳에서 데이터를 다운 받을 수 있다."
   ]
  },
  {
   "cell_type": "code",
   "execution_count": 2,
   "id": "4a51eff9",
   "metadata": {
    "scrolled": false
   },
   "outputs": [
    {
     "name": "stdout",
     "output_type": "stream",
     "text": [
      "전체 샘플의 수 : 197463\n"
     ]
    },
    {
     "data": {
      "text/html": [
       "<div>\n",
       "<style scoped>\n",
       "    .dataframe tbody tr th:only-of-type {\n",
       "        vertical-align: middle;\n",
       "    }\n",
       "\n",
       "    .dataframe tbody tr th {\n",
       "        vertical-align: top;\n",
       "    }\n",
       "\n",
       "    .dataframe thead th {\n",
       "        text-align: right;\n",
       "    }\n",
       "</style>\n",
       "<table border=\"1\" class=\"dataframe\">\n",
       "  <thead>\n",
       "    <tr style=\"text-align: right;\">\n",
       "      <th></th>\n",
       "      <th>eng</th>\n",
       "      <th>fra</th>\n",
       "      <th>cc</th>\n",
       "    </tr>\n",
       "  </thead>\n",
       "  <tbody>\n",
       "    <tr>\n",
       "      <th>129382</th>\n",
       "      <td>I am losing my patience with you.</td>\n",
       "      <td>Je perds patience avec vous.</td>\n",
       "      <td>CC-BY 2.0 (France) Attribution: tatoeba.org #1...</td>\n",
       "    </tr>\n",
       "    <tr>\n",
       "      <th>90794</th>\n",
       "      <td>Tom always tells the truth.</td>\n",
       "      <td>Tom dit toujours la vérité.</td>\n",
       "      <td>CC-BY 2.0 (France) Attribution: tatoeba.org #5...</td>\n",
       "    </tr>\n",
       "    <tr>\n",
       "      <th>16344</th>\n",
       "      <td>Tom looked back.</td>\n",
       "      <td>Tom a regardé en arrière.</td>\n",
       "      <td>CC-BY 2.0 (France) Attribution: tatoeba.org #2...</td>\n",
       "    </tr>\n",
       "    <tr>\n",
       "      <th>184310</th>\n",
       "      <td>We were reading a book and it was a very good ...</td>\n",
       "      <td>Nous lisions un livre qui était très bon.</td>\n",
       "      <td>CC-BY 2.0 (France) Attribution: tatoeba.org #7...</td>\n",
       "    </tr>\n",
       "    <tr>\n",
       "      <th>41977</th>\n",
       "      <td>How did you get hurt?</td>\n",
       "      <td>Comment vous êtes-vous blessés ?</td>\n",
       "      <td>CC-BY 2.0 (France) Attribution: tatoeba.org #1...</td>\n",
       "    </tr>\n",
       "  </tbody>\n",
       "</table>\n",
       "</div>"
      ],
      "text/plain": [
       "                                                      eng  \\\n",
       "129382                  I am losing my patience with you.   \n",
       "90794                         Tom always tells the truth.   \n",
       "16344                                    Tom looked back.   \n",
       "184310  We were reading a book and it was a very good ...   \n",
       "41977                               How did you get hurt?   \n",
       "\n",
       "                                              fra  \\\n",
       "129382               Je perds patience avec vous.   \n",
       "90794                 Tom dit toujours la vérité.   \n",
       "16344                   Tom a regardé en arrière.   \n",
       "184310  Nous lisions un livre qui était très bon.   \n",
       "41977            Comment vous êtes-vous blessés ?   \n",
       "\n",
       "                                                       cc  \n",
       "129382  CC-BY 2.0 (France) Attribution: tatoeba.org #1...  \n",
       "90794   CC-BY 2.0 (France) Attribution: tatoeba.org #5...  \n",
       "16344   CC-BY 2.0 (France) Attribution: tatoeba.org #2...  \n",
       "184310  CC-BY 2.0 (France) Attribution: tatoeba.org #7...  \n",
       "41977   CC-BY 2.0 (France) Attribution: tatoeba.org #1...  "
      ]
     },
     "execution_count": 2,
     "metadata": {},
     "output_type": "execute_result"
    }
   ],
   "source": [
    "file_path = os.getenv('HOME') + '/aiffel/translator_seq2seq/data/fra.txt'\n",
    "data = pd.read_csv(file_path, names=['eng', 'fra', 'cc'], sep='\\t')\n",
    "print('전체 샘플의 수 :',len(data))\n",
    "data.sample(5)"
   ]
  },
  {
   "cell_type": "markdown",
   "id": "c3413405",
   "metadata": {},
   "source": [
    "필요없는 열을 제거하고 데이터를 위에서 33000개만 가져온다."
   ]
  },
  {
   "cell_type": "code",
   "execution_count": 3,
   "id": "24de4d9f",
   "metadata": {
    "scrolled": true
   },
   "outputs": [
    {
     "data": {
      "text/html": [
       "<div>\n",
       "<style scoped>\n",
       "    .dataframe tbody tr th:only-of-type {\n",
       "        vertical-align: middle;\n",
       "    }\n",
       "\n",
       "    .dataframe tbody tr th {\n",
       "        vertical-align: top;\n",
       "    }\n",
       "\n",
       "    .dataframe thead th {\n",
       "        text-align: right;\n",
       "    }\n",
       "</style>\n",
       "<table border=\"1\" class=\"dataframe\">\n",
       "  <thead>\n",
       "    <tr style=\"text-align: right;\">\n",
       "      <th></th>\n",
       "      <th>eng</th>\n",
       "      <th>fra</th>\n",
       "    </tr>\n",
       "  </thead>\n",
       "  <tbody>\n",
       "    <tr>\n",
       "      <th>19878</th>\n",
       "      <td>Keep a cool head.</td>\n",
       "      <td>Gardez la tête froide.</td>\n",
       "    </tr>\n",
       "    <tr>\n",
       "      <th>6731</th>\n",
       "      <td>Can he see me?</td>\n",
       "      <td>Peut-il me voir ?</td>\n",
       "    </tr>\n",
       "    <tr>\n",
       "      <th>13614</th>\n",
       "      <td>Go home quickly.</td>\n",
       "      <td>Rentre vite à la maison.</td>\n",
       "    </tr>\n",
       "    <tr>\n",
       "      <th>5865</th>\n",
       "      <td>Take it easy.</td>\n",
       "      <td>Ne t'en fais pas.</td>\n",
       "    </tr>\n",
       "    <tr>\n",
       "      <th>15929</th>\n",
       "      <td>They were lucky.</td>\n",
       "      <td>Elles eurent de la chance.</td>\n",
       "    </tr>\n",
       "  </tbody>\n",
       "</table>\n",
       "</div>"
      ],
      "text/plain": [
       "                     eng                         fra\n",
       "19878  Keep a cool head.      Gardez la tête froide.\n",
       "6731      Can he see me?           Peut-il me voir ?\n",
       "13614   Go home quickly.    Rentre vite à la maison.\n",
       "5865       Take it easy.           Ne t'en fais pas.\n",
       "15929   They were lucky.  Elles eurent de la chance."
      ]
     },
     "execution_count": 3,
     "metadata": {},
     "output_type": "execute_result"
    }
   ],
   "source": [
    "data = data[['eng', 'fra']][: 33000]\n",
    "data.sample(5)"
   ]
  },
  {
   "cell_type": "markdown",
   "id": "4ea0bb18",
   "metadata": {},
   "source": [
    "# 2. 정제, 정규화, 전처리하기"
   ]
  },
  {
   "cell_type": "markdown",
   "id": "6aee9a36",
   "metadata": {},
   "source": [
    "전처리한 후 토큰화시켜주는 함수를 생성한다."
   ]
  },
  {
   "cell_type": "code",
   "execution_count": 4,
   "id": "e2a0ba50",
   "metadata": {},
   "outputs": [],
   "source": [
    "def pretoken_sentence(sentence): # 토큰화를 하기 전 문장 정제\n",
    "    sentence = re.sub(r\"([?.!,¿])\", r\" \\1 \", sentence) # 구두점(Punctuation)을 단어와 분리\n",
    "    \n",
    "    sentence = sentence.lower() # 소문자로 바꾸기\n",
    "    \n",
    "    sentence = sentence.split() # 띄어쓰기 단위로 토큰을 수행\n",
    "    \n",
    "    return sentence"
   ]
  },
  {
   "cell_type": "code",
   "execution_count": 5,
   "id": "7cbf4f7d",
   "metadata": {},
   "outputs": [
    {
     "data": {
      "text/plain": [
       "['i', 'am', 'happy', '.']"
      ]
     },
     "execution_count": 5,
     "metadata": {},
     "output_type": "execute_result"
    }
   ],
   "source": [
    "pretoken_sentence('   I am    happy.  ')"
   ]
  },
  {
   "cell_type": "markdown",
   "id": "140139d2",
   "metadata": {},
   "source": [
    "전처리가 잘 되는 모습이다. 실제로 적용해보자."
   ]
  },
  {
   "cell_type": "code",
   "execution_count": 6,
   "id": "3baee3c2",
   "metadata": {},
   "outputs": [],
   "source": [
    "eng_tokens = data['eng'].apply(pretoken_sentence)\n",
    "fra_tokens = data['fra'].apply(pretoken_sentence)"
   ]
  },
  {
   "cell_type": "code",
   "execution_count": 7,
   "id": "f54029fb",
   "metadata": {},
   "outputs": [
    {
     "name": "stdout",
     "output_type": "stream",
     "text": [
      "0                            [go, .]\n",
      "1                            [go, .]\n",
      "2                            [go, .]\n",
      "3                            [go, .]\n",
      "4                            [hi, .]\n",
      "                    ...             \n",
      "32995    [we, all, cried, a, lot, .]\n",
      "32996     [we, all, felt, hungry, .]\n",
      "32997     [we, also, found, this, .]\n",
      "32998     [we, are, busy, people, .]\n",
      "32999     [we, are, watching, tv, .]\n",
      "Name: eng, Length: 33000, dtype: object\n",
      "0                                           [va, !]\n",
      "1                                       [marche, .]\n",
      "2                                    [en, route, !]\n",
      "3                                        [bouge, !]\n",
      "4                                        [salut, !]\n",
      "                            ...                    \n",
      "32995    [nous, avons, toutes, beaucoup, pleuré, .]\n",
      "32996                 [nous, avions, tous, faim, .]\n",
      "32997         [nous, avons, aussi, trouvé, ceci, .]\n",
      "32998         [nous, sommes, des, gens, occupés, .]\n",
      "32999          [nous, regardons, la, télévision, .]\n",
      "Name: fra, Length: 33000, dtype: object\n"
     ]
    }
   ],
   "source": [
    "print(eng_tokens)\n",
    "print(fra_tokens)"
   ]
  },
  {
   "cell_type": "markdown",
   "id": "06c167a1",
   "metadata": {},
   "source": [
    "역시나 잘 적용되는 모습."
   ]
  },
  {
   "cell_type": "markdown",
   "id": "b680a307",
   "metadata": {},
   "source": [
    "# 3. 디코더의 문장에 시작 토큰과 종료 토큰을 넣어주기"
   ]
  },
  {
   "cell_type": "markdown",
   "id": "be827a97",
   "metadata": {},
   "source": [
    "토큰의 양 옆에 시작 토큰과 종료 토큰을 넣어준다."
   ]
  },
  {
   "cell_type": "code",
   "execution_count": 8,
   "id": "4781688e",
   "metadata": {},
   "outputs": [
    {
     "name": "stdout",
     "output_type": "stream",
     "text": [
      "전체 샘플의 수 : 33000\n"
     ]
    },
    {
     "data": {
      "text/plain": [
       "12250            [\\t, tom, semble, être, mort, ., \\n]\n",
       "31107    [\\t, c'est, notre, unique, spectacle, ., \\n]\n",
       "30578                         [\\t, j'ai, faim, ., \\n]\n",
       "13925            [\\t, je, suis, très, fatigué, ., \\n]\n",
       "6147                    [\\t, tom, les, a, vus, ., \\n]\n",
       "Name: fra, dtype: object"
      ]
     },
     "execution_count": 8,
     "metadata": {},
     "output_type": "execute_result"
    }
   ],
   "source": [
    "sos_token = '\\t'\n",
    "eos_token = '\\n'\n",
    "fra_tokens = fra_tokens.apply(lambda x: [sos_token] + x + [eos_token])\n",
    "print('전체 샘플의 수 :',len(fra_tokens))\n",
    "fra_tokens.sample(5)"
   ]
  },
  {
   "cell_type": "markdown",
   "id": "23026a7c",
   "metadata": {},
   "source": [
    "디코더의 input token에는 토큰에서 종료 토큰을 빼고 output token에는 토큰에서 시작 토큰을 빼고 다시 넣는다."
   ]
  },
  {
   "cell_type": "code",
   "execution_count": 9,
   "id": "00075027",
   "metadata": {},
   "outputs": [
    {
     "name": "stdout",
     "output_type": "stream",
     "text": [
      "0                                           [\\t, va, !]\n",
      "1                                       [\\t, marche, .]\n",
      "2                                    [\\t, en, route, !]\n",
      "3                                        [\\t, bouge, !]\n",
      "4                                        [\\t, salut, !]\n",
      "                              ...                      \n",
      "32995    [\\t, nous, avons, toutes, beaucoup, pleuré, .]\n",
      "32996                 [\\t, nous, avions, tous, faim, .]\n",
      "32997         [\\t, nous, avons, aussi, trouvé, ceci, .]\n",
      "32998         [\\t, nous, sommes, des, gens, occupés, .]\n",
      "32999          [\\t, nous, regardons, la, télévision, .]\n",
      "Name: fra, Length: 33000, dtype: object\n",
      "0                                           [va, !, \\n]\n",
      "1                                       [marche, ., \\n]\n",
      "2                                    [en, route, !, \\n]\n",
      "3                                        [bouge, !, \\n]\n",
      "4                                        [salut, !, \\n]\n",
      "                              ...                      \n",
      "32995    [nous, avons, toutes, beaucoup, pleuré, ., \\n]\n",
      "32996                 [nous, avions, tous, faim, ., \\n]\n",
      "32997         [nous, avons, aussi, trouvé, ceci, ., \\n]\n",
      "32998         [nous, sommes, des, gens, occupés, ., \\n]\n",
      "32999          [nous, regardons, la, télévision, ., \\n]\n",
      "Name: fra, Length: 33000, dtype: object\n"
     ]
    }
   ],
   "source": [
    "fra_tokens_input = fra_tokens.apply(lambda x: x[: -1])\n",
    "fra_tokens_output = fra_tokens.apply(lambda x: x[1: ])\n",
    "print(fra_tokens_input)\n",
    "print(fra_tokens_output)"
   ]
  },
  {
   "cell_type": "markdown",
   "id": "d992fc3d",
   "metadata": {},
   "source": [
    "# 4. 케라스의 토크나이저로 텍스트를 숫자로 바꿔보기"
   ]
  },
  {
   "cell_type": "markdown",
   "id": "4bca3c43",
   "metadata": {},
   "source": [
    "토큰화는 되어 있지만 훈련을 위해 숫자로 바꿔줘야한다."
   ]
  },
  {
   "cell_type": "code",
   "execution_count": 10,
   "id": "3d4b2401",
   "metadata": {},
   "outputs": [
    {
     "data": {
      "text/plain": [
       "[[25, 1], [25, 1], [25, 1]]"
      ]
     },
     "execution_count": 10,
     "metadata": {},
     "output_type": "execute_result"
    }
   ],
   "source": [
    "eng_tokenizer = Tokenizer()\n",
    "eng_tokenizer.fit_on_texts(eng_tokens)\n",
    "encoder_input = eng_tokenizer.texts_to_sequences(eng_tokens)\n",
    "encoder_input[:3]"
   ]
  },
  {
   "cell_type": "code",
   "execution_count": 11,
   "id": "23bd8872",
   "metadata": {},
   "outputs": [],
   "source": [
    "fra_tokenizer = Tokenizer()\n",
    "fra_tokenizer.fit_on_texts(fra_tokens)\n",
    "decoder_input = fra_tokenizer.texts_to_sequences(fra_tokens_input)\n",
    "decoder_output = fra_tokenizer.texts_to_sequences(fra_tokens_output)"
   ]
  },
  {
   "cell_type": "code",
   "execution_count": 12,
   "id": "59dbb7f3",
   "metadata": {},
   "outputs": [
    {
     "name": "stdout",
     "output_type": "stream",
     "text": [
      "[[1, 62, 7], [1, 346, 3], [1, 25, 504, 7]]\n",
      "[[62, 7, 2], [346, 3, 2], [25, 504, 7, 2]]\n"
     ]
    }
   ],
   "source": [
    "print(decoder_input[: 3])\n",
    "print(decoder_output[: 3])"
   ]
  },
  {
   "cell_type": "markdown",
   "id": "350e92d3",
   "metadata": {},
   "source": [
    "디코더의 인풋데이터의 각 샘플의 첫번 째 값은 1인데 이것은 sos 토큰의 인덱스고  \n",
    "아웃풋데이터의 각 샘플의 마지막 값은 2인데 이것은 eos 토큰의 인덱스다."
   ]
  },
  {
   "cell_type": "code",
   "execution_count": 13,
   "id": "0ba162fa",
   "metadata": {},
   "outputs": [
    {
     "name": "stdout",
     "output_type": "stream",
     "text": [
      "영어 단어장의 크기 : 4812\n",
      "프랑스어 단어장의 크기 : 9983\n"
     ]
    }
   ],
   "source": [
    "eng_vocab_size = len(eng_tokenizer.word_index) + 1\n",
    "fra_vocab_size = len(fra_tokenizer.word_index) + 1\n",
    "print('영어 단어장의 크기 :', eng_vocab_size)\n",
    "print('프랑스어 단어장의 크기 :', fra_vocab_size)"
   ]
  },
  {
   "cell_type": "code",
   "execution_count": 14,
   "id": "a581fb22",
   "metadata": {},
   "outputs": [
    {
     "name": "stdout",
     "output_type": "stream",
     "text": [
      "영어 시퀀스의 최대 길이 8\n",
      "프랑스어 시퀀스의 최대 길이 14\n"
     ]
    }
   ],
   "source": [
    "max_eng_seq_len = max([len(line) for line in encoder_input])\n",
    "max_fra_seq_len = max([len(line) for line in decoder_input])\n",
    "print('영어 시퀀스의 최대 길이', max_eng_seq_len)\n",
    "print('프랑스어 시퀀스의 최대 길이', max_fra_seq_len)"
   ]
  },
  {
   "cell_type": "code",
   "execution_count": 15,
   "id": "f01917c5",
   "metadata": {},
   "outputs": [
    {
     "name": "stdout",
     "output_type": "stream",
     "text": [
      "전체 샘플의 수 : 33000\n",
      "영어 단어장의 크기 : 4812\n",
      "프랑스어 단어장의 크기 : 9983\n",
      "영어 시퀀스의 최대 길이 8\n",
      "프랑스어 시퀀스의 최대 길이 14\n"
     ]
    }
   ],
   "source": [
    "print('전체 샘플의 수 :',len(data))\n",
    "print('영어 단어장의 크기 :', eng_vocab_size)\n",
    "print('프랑스어 단어장의 크기 :', fra_vocab_size)\n",
    "print('영어 시퀀스의 최대 길이', max_eng_seq_len)\n",
    "print('프랑스어 시퀀스의 최대 길이', max_fra_seq_len)"
   ]
  },
  {
   "cell_type": "code",
   "execution_count": 16,
   "id": "304a92aa",
   "metadata": {},
   "outputs": [
    {
     "name": "stdout",
     "output_type": "stream",
     "text": [
      "영어 데이터의 크기(shape) : (33000, 8)\n",
      "프랑스어 입력데이터의 크기(shape) : (33000, 14)\n",
      "프랑스어 출력데이터의 크기(shape) : (33000, 14)\n"
     ]
    }
   ],
   "source": [
    "encoder_input = pad_sequences(encoder_input, maxlen = max_eng_seq_len, padding='post')\n",
    "decoder_input = pad_sequences(decoder_input, maxlen = max_fra_seq_len, padding='post')\n",
    "decoder_output = pad_sequences(decoder_output, maxlen = max_fra_seq_len, padding='post')\n",
    "print('영어 데이터의 크기(shape) :',np.shape(encoder_input))\n",
    "print('프랑스어 입력데이터의 크기(shape) :',np.shape(decoder_input))\n",
    "print('프랑스어 출력데이터의 크기(shape) :',np.shape(decoder_output))"
   ]
  },
  {
   "cell_type": "markdown",
   "id": "fb31a5b7",
   "metadata": {},
   "source": [
    "비슷한 데이터들이 근처에 포진되어 있어서 shuffle을 해야될 것 같다."
   ]
  },
  {
   "cell_type": "code",
   "execution_count": 17,
   "id": "09556db5",
   "metadata": {},
   "outputs": [],
   "source": [
    "shuffle_nums = np.arange(len(encoder_input))\n",
    "np.random.shuffle(shuffle_nums)\n",
    "\n",
    "encoder_input = encoder_input[shuffle_nums]\n",
    "decoder_input = decoder_input[shuffle_nums]\n",
    "decoder_output = decoder_output[shuffle_nums]"
   ]
  },
  {
   "cell_type": "markdown",
   "id": "4cf6c9dd",
   "metadata": {},
   "source": [
    "실제로 shuffle을 한 모델과 안 한 모델의 validation 정확도가 5% 정도 차이가 난다."
   ]
  },
  {
   "cell_type": "code",
   "execution_count": 60,
   "id": "1ee0c2af",
   "metadata": {},
   "outputs": [
    {
     "name": "stdout",
     "output_type": "stream",
     "text": [
      "영어 학습데이터의 크기(shape) : (30000, 8)\n",
      "프랑스어 학습 입력데이터의 크기(shape) : (30000, 14)\n",
      "프랑스어 학습 출력데이터의 크기(shape) : (30000, 14)\n"
     ]
    }
   ],
   "source": [
    "n_of_val = 3000\n",
    "\n",
    "encoder_input_train = encoder_input[: -n_of_val]\n",
    "decoder_input_train = decoder_input[: -n_of_val]\n",
    "decoder_output_train = decoder_output[: -n_of_val]\n",
    "\n",
    "print('영어 학습데이터의 크기(shape) :',np.shape(encoder_input_train))\n",
    "print('프랑스어 학습 입력데이터의 크기(shape) :',np.shape(decoder_input_train))\n",
    "print('프랑스어 학습 출력데이터의 크기(shape) :',np.shape(decoder_output_train))"
   ]
  },
  {
   "cell_type": "code",
   "execution_count": 61,
   "id": "4e76a1ea",
   "metadata": {},
   "outputs": [
    {
     "name": "stdout",
     "output_type": "stream",
     "text": [
      "영어 테스트데이터의 크기(shape) : (3000, 8)\n",
      "프랑스어 테스트 입력데이터의 크기(shape) : (3000, 14)\n",
      "프랑스어 테스트 출력데이터의 크기(shape) : (3000, 14)\n"
     ]
    }
   ],
   "source": [
    "encoder_input_test = encoder_input[-n_of_val: ]\n",
    "decoder_input_test = decoder_input[-n_of_val: ]\n",
    "decoder_output_test = decoder_output[-n_of_val: ]\n",
    "\n",
    "print('영어 테스트데이터의 크기(shape) :',np.shape(encoder_input_test))\n",
    "print('프랑스어 테스트 입력데이터의 크기(shape) :',np.shape(decoder_input_test))\n",
    "print('프랑스어 테스트 출력데이터의 크기(shape) :',np.shape(decoder_output_test))"
   ]
  },
  {
   "cell_type": "markdown",
   "id": "3cc9af40",
   "metadata": {},
   "source": [
    "학습 데이터와 검증 데이터를 30000: 3000으로 나눈다."
   ]
  },
  {
   "cell_type": "markdown",
   "id": "44ff685b",
   "metadata": {},
   "source": [
    "# 5. 임베딩 층(Embedding layer) 사용하기"
   ]
  },
  {
   "cell_type": "markdown",
   "id": "573884a3",
   "metadata": {},
   "source": [
    "임베딩과 lstm 레이어의 차원을 적당히 잡아준다."
   ]
  },
  {
   "cell_type": "code",
   "execution_count": 20,
   "id": "e6355519",
   "metadata": {},
   "outputs": [],
   "source": [
    "hidden_output_dim = 256\n",
    "hidden_units = 256"
   ]
  },
  {
   "cell_type": "code",
   "execution_count": 21,
   "id": "9bf10915",
   "metadata": {},
   "outputs": [],
   "source": [
    "encoder_emb = Embedding(eng_vocab_size, hidden_output_dim)\n",
    "decoder_emb = Embedding(fra_vocab_size, hidden_output_dim)"
   ]
  },
  {
   "cell_type": "markdown",
   "id": "55c6274e",
   "metadata": {},
   "source": [
    "# 6. 모델 구현하기"
   ]
  },
  {
   "cell_type": "code",
   "execution_count": 22,
   "id": "d7c455b6",
   "metadata": {},
   "outputs": [],
   "source": [
    "encoder_inputs = Input(shape=(None, ))\n",
    "enc_emb = encoder_emb(encoder_inputs)\n",
    "encoder_lstm = LSTM(hidden_units, return_state=True)\n",
    "encoder_outputs, *encoder_states = encoder_lstm(enc_emb)"
   ]
  },
  {
   "cell_type": "code",
   "execution_count": 23,
   "id": "9d83ced4",
   "metadata": {},
   "outputs": [],
   "source": [
    "decoder_inputs = Input(shape=(None, ))\n",
    "dec_emb = decoder_emb(decoder_inputs)\n",
    "decoder_lstm = LSTM(hidden_units, return_sequences=True, return_state=True)\n",
    "decoder_outputs, *_ = decoder_lstm(dec_emb, initial_state=encoder_states)\n",
    "\n",
    "decoder_softmax_layer = Dense(fra_vocab_size, activation='softmax')\n",
    "decoder_outputs = decoder_softmax_layer(decoder_outputs)"
   ]
  },
  {
   "cell_type": "code",
   "execution_count": 24,
   "id": "251685c3",
   "metadata": {
    "scrolled": false
   },
   "outputs": [
    {
     "name": "stdout",
     "output_type": "stream",
     "text": [
      "Model: \"model\"\n",
      "__________________________________________________________________________________________________\n",
      "Layer (type)                    Output Shape         Param #     Connected to                     \n",
      "==================================================================================================\n",
      "input_1 (InputLayer)            [(None, None)]       0                                            \n",
      "__________________________________________________________________________________________________\n",
      "input_2 (InputLayer)            [(None, None)]       0                                            \n",
      "__________________________________________________________________________________________________\n",
      "embedding (Embedding)           (None, None, 256)    1231872     input_1[0][0]                    \n",
      "__________________________________________________________________________________________________\n",
      "embedding_1 (Embedding)         (None, None, 256)    2555648     input_2[0][0]                    \n",
      "__________________________________________________________________________________________________\n",
      "lstm (LSTM)                     [(None, 256), (None, 525312      embedding[0][0]                  \n",
      "__________________________________________________________________________________________________\n",
      "lstm_1 (LSTM)                   [(None, None, 256),  525312      embedding_1[0][0]                \n",
      "                                                                 lstm[0][1]                       \n",
      "                                                                 lstm[0][2]                       \n",
      "__________________________________________________________________________________________________\n",
      "dense (Dense)                   (None, None, 9983)   2565631     lstm_1[0][0]                     \n",
      "==================================================================================================\n",
      "Total params: 7,403,775\n",
      "Trainable params: 7,403,775\n",
      "Non-trainable params: 0\n",
      "__________________________________________________________________________________________________\n"
     ]
    }
   ],
   "source": [
    "model = Model([encoder_inputs, decoder_inputs], decoder_outputs)\n",
    "model.compile(optimizer=\"adam\", loss=\"sparse_categorical_crossentropy\", metrics=['accuracy'])\n",
    "model.summary()"
   ]
  },
  {
   "cell_type": "code",
   "execution_count": 25,
   "id": "19247d81",
   "metadata": {
    "scrolled": true
   },
   "outputs": [
    {
     "data": {
      "image/png": "[encoded data removed]",
      "text/plain": [
       "<IPython.core.display.Image object>"
      ]
     },
     "execution_count": 25,
     "metadata": {},
     "output_type": "execute_result"
    }
   ],
   "source": [
    "plot_model(model, show_shapes=True)"
   ]
  },
  {
   "cell_type": "markdown",
   "id": "d8914a59",
   "metadata": {},
   "source": [
    "신경망 레이어가 어떻게 쌓여있는지 아주 쉽게 표현해주는 프린팅 함수."
   ]
  },
  {
   "cell_type": "markdown",
   "id": "660d3664",
   "metadata": {},
   "source": [
    "학습이 더 이상 거의 진행되지 않으면 중단시켜주는 early stop 기능 사용."
   ]
  },
  {
   "cell_type": "code",
   "execution_count": 26,
   "id": "2b560bc6",
   "metadata": {
    "scrolled": false
   },
   "outputs": [
    {
     "name": "stdout",
     "output_type": "stream",
     "text": [
      "Epoch 1/50\n",
      "235/235 [==============================] - 12s 32ms/step - loss: 2.4785 - accuracy: 0.6674 - val_loss: 1.8112 - val_accuracy: 0.7382\n",
      "Epoch 2/50\n",
      "235/235 [==============================] - 7s 29ms/step - loss: 1.6840 - accuracy: 0.7448 - val_loss: 1.6319 - val_accuracy: 0.7472\n",
      "Epoch 3/50\n",
      "235/235 [==============================] - 7s 29ms/step - loss: 1.5137 - accuracy: 0.7566 - val_loss: 1.4901 - val_accuracy: 0.7684\n",
      "Epoch 4/50\n",
      "235/235 [==============================] - 7s 29ms/step - loss: 1.3550 - accuracy: 0.7804 - val_loss: 1.3702 - val_accuracy: 0.7855\n",
      "Epoch 5/50\n",
      "235/235 [==============================] - 7s 29ms/step - loss: 1.2302 - accuracy: 0.7966 - val_loss: 1.2746 - val_accuracy: 0.8013\n",
      "Epoch 6/50\n",
      "235/235 [==============================] - 7s 29ms/step - loss: 1.1141 - accuracy: 0.8123 - val_loss: 1.1926 - val_accuracy: 0.8159\n",
      "Epoch 7/50\n",
      "235/235 [==============================] - 7s 30ms/step - loss: 1.0154 - accuracy: 0.8245 - val_loss: 1.1252 - val_accuracy: 0.8227\n",
      "Epoch 8/50\n",
      "235/235 [==============================] - 7s 29ms/step - loss: 0.9298 - accuracy: 0.8331 - val_loss: 1.0779 - val_accuracy: 0.8285\n",
      "Epoch 9/50\n",
      "235/235 [==============================] - 7s 30ms/step - loss: 0.8532 - accuracy: 0.8414 - val_loss: 1.0334 - val_accuracy: 0.8335\n",
      "Epoch 10/50\n",
      "235/235 [==============================] - 7s 30ms/step - loss: 0.7835 - accuracy: 0.8486 - val_loss: 0.9966 - val_accuracy: 0.8373\n",
      "Epoch 11/50\n",
      "235/235 [==============================] - 7s 30ms/step - loss: 0.7208 - accuracy: 0.8557 - val_loss: 0.9657 - val_accuracy: 0.8410\n",
      "Epoch 12/50\n",
      "235/235 [==============================] - 7s 30ms/step - loss: 0.6626 - accuracy: 0.8629 - val_loss: 0.9411 - val_accuracy: 0.8445\n",
      "Epoch 13/50\n",
      "235/235 [==============================] - 7s 30ms/step - loss: 0.6101 - accuracy: 0.8700 - val_loss: 0.9201 - val_accuracy: 0.8462\n",
      "Epoch 14/50\n",
      "235/235 [==============================] - 7s 30ms/step - loss: 0.5624 - accuracy: 0.8764 - val_loss: 0.9022 - val_accuracy: 0.8505\n",
      "Epoch 15/50\n",
      "235/235 [==============================] - 7s 30ms/step - loss: 0.5171 - accuracy: 0.8833 - val_loss: 0.8854 - val_accuracy: 0.8521\n",
      "Epoch 16/50\n",
      "235/235 [==============================] - 7s 31ms/step - loss: 0.4760 - accuracy: 0.8901 - val_loss: 0.8705 - val_accuracy: 0.8552\n",
      "Epoch 17/50\n",
      "235/235 [==============================] - 7s 31ms/step - loss: 0.4379 - accuracy: 0.8967 - val_loss: 0.8588 - val_accuracy: 0.8569\n",
      "Epoch 18/50\n",
      "235/235 [==============================] - 7s 31ms/step - loss: 0.4028 - accuracy: 0.9036 - val_loss: 0.8470 - val_accuracy: 0.8595\n",
      "Epoch 19/50\n",
      "235/235 [==============================] - 7s 31ms/step - loss: 0.3703 - accuracy: 0.9093 - val_loss: 0.8393 - val_accuracy: 0.8613\n",
      "Epoch 20/50\n",
      "235/235 [==============================] - 7s 31ms/step - loss: 0.3399 - accuracy: 0.9156 - val_loss: 0.8297 - val_accuracy: 0.8631\n",
      "Epoch 21/50\n",
      "235/235 [==============================] - 7s 31ms/step - loss: 0.3123 - accuracy: 0.9207 - val_loss: 0.8285 - val_accuracy: 0.8639\n",
      "Epoch 22/50\n",
      "235/235 [==============================] - 7s 30ms/step - loss: 0.2875 - accuracy: 0.9262 - val_loss: 0.8234 - val_accuracy: 0.8655\n",
      "Epoch 23/50\n",
      "235/235 [==============================] - 7s 30ms/step - loss: 0.2648 - accuracy: 0.9311 - val_loss: 0.8212 - val_accuracy: 0.8660\n",
      "Epoch 24/50\n",
      "235/235 [==============================] - 7s 30ms/step - loss: 0.2438 - accuracy: 0.9351 - val_loss: 0.8204 - val_accuracy: 0.8670\n",
      "Epoch 25/50\n",
      "235/235 [==============================] - 7s 30ms/step - loss: 0.2256 - accuracy: 0.9390 - val_loss: 0.8206 - val_accuracy: 0.8687\n",
      "Epoch 26/50\n",
      "235/235 [==============================] - 7s 30ms/step - loss: 0.2096 - accuracy: 0.9421 - val_loss: 0.8186 - val_accuracy: 0.8683\n",
      "Epoch 27/50\n",
      "235/235 [==============================] - 7s 30ms/step - loss: 0.1953 - accuracy: 0.9446 - val_loss: 0.8196 - val_accuracy: 0.8695\n",
      "Epoch 28/50\n",
      "235/235 [==============================] - 7s 31ms/step - loss: 0.1814 - accuracy: 0.9476 - val_loss: 0.8233 - val_accuracy: 0.8703\n",
      "Epoch 29/50\n",
      "235/235 [==============================] - 7s 31ms/step - loss: 0.1706 - accuracy: 0.9496 - val_loss: 0.8240 - val_accuracy: 0.8707\n",
      "Epoch 30/50\n",
      "235/235 [==============================] - 7s 31ms/step - loss: 0.1598 - accuracy: 0.9513 - val_loss: 0.8301 - val_accuracy: 0.8692\n",
      "Epoch 31/50\n",
      "235/235 [==============================] - 7s 31ms/step - loss: 0.1506 - accuracy: 0.9529 - val_loss: 0.8324 - val_accuracy: 0.8703\n",
      "Epoch 32/50\n",
      "235/235 [==============================] - 7s 30ms/step - loss: 0.1423 - accuracy: 0.9545 - val_loss: 0.8373 - val_accuracy: 0.8716\n",
      "Epoch 33/50\n",
      "235/235 [==============================] - 7s 30ms/step - loss: 0.1347 - accuracy: 0.9557 - val_loss: 0.8440 - val_accuracy: 0.8711\n",
      "Epoch 34/50\n",
      "235/235 [==============================] - 7s 30ms/step - loss: 0.1289 - accuracy: 0.9565 - val_loss: 0.8440 - val_accuracy: 0.8710\n",
      "Epoch 35/50\n",
      "235/235 [==============================] - 7s 30ms/step - loss: 0.1232 - accuracy: 0.9577 - val_loss: 0.8493 - val_accuracy: 0.8707\n",
      "Epoch 36/50\n",
      "235/235 [==============================] - 7s 30ms/step - loss: 0.1184 - accuracy: 0.9583 - val_loss: 0.8539 - val_accuracy: 0.8720\n",
      "Epoch 00036: early stopping\n"
     ]
    }
   ],
   "source": [
    "early_stop = EarlyStopping(monitor='val_loss', verbose=1, patience=10)\n",
    "\n",
    "history = model.fit(x=[encoder_input_train, decoder_input_train], y=decoder_output_train, \\\n",
    "          validation_data = ([encoder_input_test, decoder_input_test], decoder_output_test),\n",
    "          batch_size=128, epochs=50, callbacks=[early_stop])\n"
   ]
  },
  {
   "cell_type": "markdown",
   "id": "f4bc79ac",
   "metadata": {},
   "source": [
    "에포크가 36을 돌파하는 순간 val accuracy 87% 달성하고 멈추었다."
   ]
  },
  {
   "cell_type": "markdown",
   "id": "037e9c2d",
   "metadata": {},
   "source": [
    "에포크마다 학습이 잘 진행되고 있는지 알려주는 함수 생성."
   ]
  },
  {
   "cell_type": "code",
   "execution_count": 27,
   "id": "9e9c033b",
   "metadata": {},
   "outputs": [],
   "source": [
    "def history_plot(history):\n",
    "    y_acc = history.history['accuracy']\n",
    "    y_vacc = history.history['val_accuracy']\n",
    "    \n",
    "    y_loss = history.history['loss']\n",
    "    y_vloss = history.history['val_loss']\n",
    "\n",
    "    epochs_range = range(len(y_acc))\n",
    "\n",
    "    plt.figure(figsize=(10, 5))\n",
    "    plt.subplot(1, 2, 1)\n",
    "    plt.plot(epochs_range, y_acc, marker='.', label=\"Train-set accuracy\")\n",
    "    plt.plot(epochs_range, y_vacc, marker='.', label=\"Validation-set accuracy\")\n",
    "    plt.legend(loc='lower right')\n",
    "    plt.grid()\n",
    "    plt.ylim(0.5, 1) \n",
    "    plt.title('Accurcy graph with batch normalization') \n",
    "    plt.xlabel('epoch')\n",
    "    plt.ylabel('accuracy')\n",
    "\n",
    "    plt.subplot(1, 2, 2)\n",
    "    plt.plot(epochs_range, y_loss, marker='.', label=\"Train-set Loss\")\n",
    "    plt.plot(epochs_range, y_vloss, marker='.', label=\"Validation-set Loss\")\n",
    "    plt.legend(loc='upper right')\n",
    "    plt.grid()\n",
    "    plt.title('Loss graph with batch normalization') \n",
    "    plt.xlabel('epoch')\n",
    "    plt.ylabel('loss')\n",
    "    \n",
    "    plt.show()"
   ]
  },
  {
   "cell_type": "code",
   "execution_count": 28,
   "id": "0bfe32e8",
   "metadata": {},
   "outputs": [
    {
     "data": {
      "image/png": "[encoded data removed]",
      "text/plain": [
       "<Figure size 720x360 with 2 Axes>"
      ]
     },
     "metadata": {
      "needs_background": "light"
     },
     "output_type": "display_data"
    }
   ],
   "source": [
    "history_plot(history)"
   ]
  },
  {
   "cell_type": "markdown",
   "id": "1e5c8458",
   "metadata": {},
   "source": [
    "# 7. 모델 평가하기"
   ]
  },
  {
   "cell_type": "markdown",
   "id": "04b2f5f8",
   "metadata": {},
   "source": [
    "모델을 테스트할 때는 학습할 때랑은 다른 방식으로 인코더와 디코더를 만들어야 한다.  \n",
    "왜냐하면 학습할 때와는 다르게 테스트할 때에는 예측한 값을 바로 뒤 스템의 인풋으로 넣기 때문이다."
   ]
  },
  {
   "cell_type": "code",
   "execution_count": 29,
   "id": "5183f2b2",
   "metadata": {
    "scrolled": true
   },
   "outputs": [
    {
     "name": "stdout",
     "output_type": "stream",
     "text": [
      "Model: \"model_1\"\n",
      "_________________________________________________________________\n",
      "Layer (type)                 Output Shape              Param #   \n",
      "=================================================================\n",
      "input_1 (InputLayer)         [(None, None)]            0         \n",
      "_________________________________________________________________\n",
      "embedding (Embedding)        (None, None, 256)         1231872   \n",
      "_________________________________________________________________\n",
      "lstm (LSTM)                  [(None, 256), (None, 256) 525312    \n",
      "=================================================================\n",
      "Total params: 1,757,184\n",
      "Trainable params: 1,757,184\n",
      "Non-trainable params: 0\n",
      "_________________________________________________________________\n"
     ]
    }
   ],
   "source": [
    "encoder_model = Model(inputs = encoder_inputs, outputs = encoder_states)\n",
    "encoder_model.summary()"
   ]
  },
  {
   "cell_type": "code",
   "execution_count": 36,
   "id": "dac71ccc",
   "metadata": {},
   "outputs": [
    {
     "data": {
      "image/png": "[encoded data removed]",
      "text/plain": [
       "<IPython.core.display.Image object>"
      ]
     },
     "execution_count": 36,
     "metadata": {},
     "output_type": "execute_result"
    }
   ],
   "source": [
    "plot_model(encoder_model, show_shapes=True)"
   ]
  },
  {
   "cell_type": "code",
   "execution_count": 30,
   "id": "ddefb970",
   "metadata": {},
   "outputs": [],
   "source": [
    "decoder_state_input_h = Input(shape=(hidden_units, ))\n",
    "decoder_state_input_c = Input(shape=(hidden_units, ))\n",
    "\n",
    "decoder_states_inputs = [decoder_state_input_h, decoder_state_input_c]\n",
    "\n",
    "decoder_outputs, *decoder_states = decoder_lstm(dec_emb, initial_state = decoder_states_inputs)"
   ]
  },
  {
   "cell_type": "code",
   "execution_count": 31,
   "id": "21031079",
   "metadata": {
    "scrolled": false
   },
   "outputs": [
    {
     "name": "stdout",
     "output_type": "stream",
     "text": [
      "Model: \"model_2\"\n",
      "__________________________________________________________________________________________________\n",
      "Layer (type)                    Output Shape         Param #     Connected to                     \n",
      "==================================================================================================\n",
      "input_2 (InputLayer)            [(None, None)]       0                                            \n",
      "__________________________________________________________________________________________________\n",
      "embedding_1 (Embedding)         (None, None, 256)    2555648     input_2[0][0]                    \n",
      "__________________________________________________________________________________________________\n",
      "input_3 (InputLayer)            [(None, 256)]        0                                            \n",
      "__________________________________________________________________________________________________\n",
      "input_4 (InputLayer)            [(None, 256)]        0                                            \n",
      "__________________________________________________________________________________________________\n",
      "lstm_1 (LSTM)                   [(None, None, 256),  525312      embedding_1[0][0]                \n",
      "                                                                 input_3[0][0]                    \n",
      "                                                                 input_4[0][0]                    \n",
      "__________________________________________________________________________________________________\n",
      "dense (Dense)                   (None, None, 9983)   2565631     lstm_1[1][0]                     \n",
      "==================================================================================================\n",
      "Total params: 5,646,591\n",
      "Trainable params: 5,646,591\n",
      "Non-trainable params: 0\n",
      "__________________________________________________________________________________________________\n"
     ]
    }
   ],
   "source": [
    "decoder_outputs = decoder_softmax_layer(decoder_outputs)\n",
    "decoder_model = Model(inputs=[decoder_inputs] + decoder_states_inputs, outputs=[decoder_outputs] + decoder_states)\n",
    "decoder_model.summary()"
   ]
  },
  {
   "cell_type": "code",
   "execution_count": 37,
   "id": "0bb2bd4d",
   "metadata": {},
   "outputs": [
    {
     "data": {
      "image/png": "[encoded data removed]",
      "text/plain": [
       "<IPython.core.display.Image object>"
      ]
     },
     "execution_count": 37,
     "metadata": {},
     "output_type": "execute_result"
    }
   ],
   "source": [
    "plot_model(decoder_model, show_shapes=True)"
   ]
  },
  {
   "cell_type": "code",
   "execution_count": 32,
   "id": "fae34969",
   "metadata": {},
   "outputs": [],
   "source": [
    "eng2idx = eng_tokenizer.word_index\n",
    "fra2idx = fra_tokenizer.word_index\n",
    "idx2eng = eng_tokenizer.index_word\n",
    "idx2fra = fra_tokenizer.index_word"
   ]
  },
  {
   "cell_type": "markdown",
   "id": "7cd04a73",
   "metadata": {},
   "source": [
    "워드와 인덱스를 변환해주는 딕셔너리 저장."
   ]
  },
  {
   "cell_type": "code",
   "execution_count": 34,
   "id": "f021417d",
   "metadata": {},
   "outputs": [],
   "source": [
    "data_eng_shuffle = data.eng[shuffle_nums].reset_index(drop=True)\n",
    "data_fra_shuffle = data.fra[shuffle_nums].reset_index(drop=True)"
   ]
  },
  {
   "cell_type": "markdown",
   "id": "f6977858",
   "metadata": {},
   "source": [
    "학습할 때 데이터를 shuffle해서 집어넣었기 때문에 번역을 한 후 기존 문장과 비교하려면  \n",
    "기존 문장도 같은 인덱스를 추출해야 한다."
   ]
  },
  {
   "cell_type": "markdown",
   "id": "0187d1e5",
   "metadata": {},
   "source": [
    "번역 함수 생성. 중요한 점은 디코더의 출력값이 다음 스템의 인풋값이 되기 때문에  \n",
    "while 문을 이용해서 수동적으로 번역을 해줘야한다."
   ]
  },
  {
   "cell_type": "code",
   "execution_count": 56,
   "id": "ac3db59e",
   "metadata": {},
   "outputs": [],
   "source": [
    "def decode_sequence(input_seq):\n",
    "    # 입력으로부터 인코더의 상태를 얻음\n",
    "    states_value = encoder_model.predict(input_seq)\n",
    "\n",
    "    # 에 해당하는 원-핫 벡터 생성\n",
    "    target_seq = np.zeros((1,1)) \n",
    "    target_seq[0, 0] = fra2idx[sos_token]\n",
    "    \n",
    "    stop_condition = False\n",
    "    decoded_sentence = \"\"\n",
    "\n",
    "    # stop_condition이 True가 될 때까지 루프 반복\n",
    "    while not stop_condition:\n",
    "        # 이점 시점의 상태 states_value를 현 시점의 초기 상태로 사용\n",
    "        output_tokens, h, c = decoder_model.predict([target_seq] + states_value)\n",
    "        \n",
    "        # 예측 결과를 문자로 변환\n",
    "        sampled_token_index = np.argmax(output_tokens[0, -1, :])\n",
    "        sampled_char = idx2fra[sampled_token_index]\n",
    "\n",
    "        # 현재 시점의 예측 문자를 예측 문장에 추가\n",
    "        decoded_sentence += ' ' + sampled_char\n",
    "\n",
    "        # 에 도달하거나 최대 길이를 넘으면 중단.\n",
    "        if (sampled_char == eos_token):\n",
    "            stop_condition = True\n",
    "\n",
    "        # 현재 시점의 예측 결과를 다음 시점의 입력으로 사용하기 위해 저장     \n",
    "        target_seq = np.zeros((1, 1))\n",
    "        target_seq[0, 0] = sampled_token_index\n",
    "\n",
    "        # 현재 시점의 상태를 다음 시점의 상태로 사용하기 위해 저장\n",
    "        states_value = [h, c]\n",
    "\n",
    "    return decoded_sentence"
   ]
  },
  {
   "cell_type": "code",
   "execution_count": 58,
   "id": "6d5fb2b5",
   "metadata": {
    "scrolled": false
   },
   "outputs": [
    {
     "name": "stdout",
     "output_type": "stream",
     "text": [
      "-----------------------------------\n",
      "입력 문장: I'm so embarrassed.\n",
      "정답 문장: Je suis tellement embarrassée.\n",
      "번역기가 번역한 문장: je suis tellement embarrassé . \n",
      "-----------------------------------\n",
      "입력 문장: I'll go.\n",
      "정답 문장: J'irai.\n",
      "번역기가 번역한 문장: j'irai . \n",
      "-----------------------------------\n",
      "입력 문장: I just need a hug.\n",
      "정답 문장: J'ai juste besoin d'un câlin.\n",
      "번역기가 번역한 문장: j'ai juste besoin d'un câlin . \n",
      "-----------------------------------\n",
      "입력 문장: I'm totally drunk.\n",
      "정답 문장: Je suis complètement saoul.\n",
      "번역기가 번역한 문장: je suis complètement saoul . \n",
      "-----------------------------------\n",
      "입력 문장: I was threatened.\n",
      "정답 문장: J'ai été menacé.\n",
      "번역기가 번역한 문장: on m'a menacé . \n"
     ]
    }
   ],
   "source": [
    "for seq_index in [3,50,100,300,1001]: # 입력 문장의 인덱스 (자유롭게 선택해 보세요)\n",
    "    input_seq = encoder_input[seq_index: seq_index + 1]\n",
    "    decoded_sentence = decode_sequence(input_seq)\n",
    "    print(35 * \"-\")\n",
    "    print('입력 문장:', data_eng_shuffle[seq_index])\n",
    "    print('정답 문장:', data_fra_shuffle[seq_index][: ])\n",
    "    print('번역기가 번역한 문장:', decoded_sentence[1: -1])"
   ]
  },
  {
   "attachments": {
    "Translator_result.png": {
     "image/png": "[encoded data removed]"
    }
   },
   "cell_type": "markdown",
   "id": "1113916c",
   "metadata": {},
   "source": [
    "![Translator_result.png](attachment:Translator_result.png)"
   ]
  },
  {
   "cell_type": "markdown",
   "id": "d2e30b53",
   "metadata": {},
   "source": [
    "번역이 매우 잘 된 모습이다. 기대 이상이었다.\n",
    "\n",
    "하자가 있다면 파파고의 성능이 문제라는 것.  \n",
    "\"I'm so embarrassed.\"의 번역은 \"이게 웬 망인이야?.\" 가 아니라 \"너무 당황스러워요.\"가 맞는 것 같다.  "
   ]
  },
  {
   "cell_type": "markdown",
   "id": "a35125fa",
   "metadata": {},
   "source": [
    "# 8. 회고하기"
   ]
  },
  {
   "cell_type": "markdown",
   "id": "09875014",
   "metadata": {},
   "source": [
    "## 8.1. 이번 프로젝트에서 어려웠던 점"
   ]
  },
  {
   "cell_type": "markdown",
   "id": "0a9b7349",
   "metadata": {},
   "source": [
    "이번에 10번 노드는 페이지의 내용을 다 이해를 못(+안)하고 프로젝트를 들어가서 역대급으로 어려웠다.  \n",
    "또한 val_accuracy가 매우 안나오는 문제가 발생했었는데  \n",
    "첫번째 이유는 시간이 아까운 나머지 batch size를 1024로 줬던 점이고,  \n",
    "두번째 이유는 비슷한 데이터들이 뭉쳐있었기 때문이고,  \n",
    "세번째 이유는 pad_sequences의 padding 하이퍼 파라미터를 'pre'로 줬던 점이다.  \n",
    "특히 두번째 이유를 shuffle로 해결하니 바로 5%가 상승되었다.  \n",
    "이 문제를 해결하기 위해 3시간을 공들여 우재 그루님의 코드와 내 코드를 한 블럭마다 바꿔가며  \n",
    "accuracy를 비교했었다. shuffle을 하면 좋겠다만 생각하고 accuracy가 그래도 별로 차이가 안날 줄 알았는데  \n",
    "차이가 매우 많이 나서 깜짝 놀랐다.  \n",
    "승욱 그루님은 아예 상위 33000개가 아니라 랜덤으로 샘플링하는 방법으로 val_loss값을 내 1.5배 낮게 나오게 하셨다.\n",
    "\n",
    "인코더 디코더 방식의 모델이 학습할 때와 평가할 때 다르게 쌓는 방법도 어려웠다."
   ]
  },
  {
   "cell_type": "markdown",
   "id": "dc0e5712",
   "metadata": {},
   "source": [
    "## 8.2. 프로젝트를 진행하면서 알아낸 점 혹은 아직 모호한 점"
   ]
  },
  {
   "cell_type": "markdown",
   "id": "763aba31",
   "metadata": {},
   "source": [
    "인코더 디코더 방식의 모델을 아직까지는 내가 직접 쌓지는 못할 것 같다.  \n",
    "이 회고를 마치고 다시 10번 노드를 볼 예정이다."
   ]
  },
  {
   "cell_type": "markdown",
   "id": "6c24bbc1",
   "metadata": {},
   "source": [
    "## 8.3. 루브릭 평가 지표를 맞추기 위해 시도한 것들"
   ]
  },
  {
   "cell_type": "markdown",
   "id": "b0e67943",
   "metadata": {},
   "source": [
    "점수를 맞추는 것이 아니라서 딱히 뭔가를 시도한다기 보다는  \n",
    "어떻게 글자 단위 번역기에서 단어 단위 번역기로 바꿀 수 있는지가 관건이었던 것 같다."
   ]
  },
  {
   "cell_type": "markdown",
   "id": "ce7298b9",
   "metadata": {},
   "source": [
    "## 8.4. 만약에 루브릭 평가 관련 지표를 달성 하지 못했을 때, 이유에 관한 추정"
   ]
  },
  {
   "cell_type": "markdown",
   "id": "2d8b1497",
   "metadata": {},
   "source": [
    "인코더 디코더 방식의 모델을 이해하냐 못하냐로 갈릴 것 같다."
   ]
  },
  {
   "cell_type": "markdown",
   "id": "799e8748",
   "metadata": {},
   "source": [
    "## 8.5. 회상 혹은 자기 다짐"
   ]
  },
  {
   "cell_type": "markdown",
   "id": "a57741dc",
   "metadata": {},
   "source": [
    "내가 cv와 nlp중 nlp를 선택하게 해준 노드다.  \n",
    "전처리를 하는데 왠지 모를 개운함을 느꼈다.  \n",
    "역대급으로 힘든 노드였는데 마지막에 잘 번역된 문장을 보니까  \n",
    "마치 어려운 수학 문제를 풀었을 때 처럼 폭발적인 희열감을 느꼈다."
   ]
  }
 ],
 "metadata": {
  "kernelspec": {
   "display_name": "Python 3.9.12 ('base')",
   "language": "python",
   "name": "python3"
  },
  "language_info": {
   "codemirror_mode": {
    "name": "ipython",
    "version": 3
   },
   "file_extension": ".py",
   "mimetype": "text/x-python",
   "name": "python",
   "nbconvert_exporter": "python",
   "pygments_lexer": "ipython3",
   "version": "3.9.12"
  },
  "vscode": {
   "interpreter": {
    "hash": "e76908176805cd1f43d0077959698ad43a5b10a4015d2b23b864ac3da32cb183"
   }
  }
 },
 "nbformat": 4,
 "nbformat_minor": 5
}
