{
 "cells": [
  {
   "cell_type": "markdown",
   "id": "941e5de0-895a-49e0-b4da-90a1bf43c54e",
   "metadata": {},
   "source": [
    "# 1. load_digits 손글씨를 분류해 보기!"
   ]
  },
  {
   "cell_type": "markdown",
   "id": "7645b320-f83c-4ef8-8748-03e6051a9735",
   "metadata": {},
   "source": [
    "## 1.1 필요한 모듈 import하기!"
   ]
  },
  {
   "cell_type": "code",
   "execution_count": 640,
   "id": "137bf0c7-0cf3-48f1-8d93-8b84f59ae935",
   "metadata": {},
   "outputs": [],
   "source": [
    "# 데이터 준비\n",
    "from sklearn.datasets import load_digits # digits 데이터셋을 불러오는 함수\n",
    "\n",
    "# 데이터 분리\n",
    "from sklearn.model_selection import train_test_split # 데이터를 train, test 데이터셋으로 나눠주는 함수\n",
    "\n",
    "# 데이터 학습\n",
    "from sklearn.tree import DecisionTreeClassifier # 의사결정나무 - 분류\n",
    "from sklearn.ensemble import RandomForestClassifier # 랜덤포레스트 - 분류\n",
    "from sklearn import svm # 서포트 벡터 머신\n",
    "from sklearn.linear_model import SGDClassifier # 확률적 경사 하강법 - 분류\n",
    "from sklearn.linear_model import LogisticRegression # 로지스틱 회귀분석\n",
    "\n",
    "# 데이터 평가\n",
    "from sklearn.metrics import classification_report # Confusion Matrix, accuracy 등을 출력해주는 함수"
   ]
  },
  {
   "cell_type": "markdown",
   "id": "d8bacb49-81a3-47d3-8921-d1a82f88c046",
   "metadata": {},
   "source": [
    "## 1.2 데이터 준비하기!"
   ]
  },
  {
   "cell_type": "code",
   "execution_count": 641,
   "id": "bd61e76c-a6d8-4232-b085-60c8bd8b5ce8",
   "metadata": {},
   "outputs": [
    {
     "data": {
      "text/plain": [
       "dict_keys(['data', 'target', 'frame', 'feature_names', 'target_names', 'images', 'DESCR'])"
      ]
     },
     "execution_count": 641,
     "metadata": {},
     "output_type": "execute_result"
    }
   ],
   "source": [
    "digits = load_digits() # digits 데이터셋 불러오기\n",
    "digits.keys() # digits 데이터셋의 속성 종류"
   ]
  },
  {
   "cell_type": "markdown",
   "id": "ce8ac36e-3dc3-40f6-96a2-8a99c137703d",
   "metadata": {},
   "source": [
    "## 1.3 데이터 이해하기!"
   ]
  },
  {
   "cell_type": "code",
   "execution_count": 642,
   "id": "2ff01d23-5ffa-4af4-8f33-78199faeb0d0",
   "metadata": {},
   "outputs": [
    {
     "data": {
      "text/plain": [
       "(1797, 64)"
      ]
     },
     "execution_count": 642,
     "metadata": {},
     "output_type": "execute_result"
    }
   ],
   "source": [
    "digits_data = digits.data # digits의 feature 데이터 저장\n",
    "digits_data.shape"
   ]
  },
  {
   "cell_type": "code",
   "execution_count": 643,
   "id": "b866eb17-cb3c-4ff5-8320-20be7acc45ef",
   "metadata": {},
   "outputs": [
    {
     "data": {
      "text/plain": [
       "(1797,)"
      ]
     },
     "execution_count": 643,
     "metadata": {},
     "output_type": "execute_result"
    }
   ],
   "source": [
    "digits_label = digits.target # digits의 label 데이터 저장\n",
    "digits_label.shape"
   ]
  },
  {
   "cell_type": "code",
   "execution_count": 644,
   "id": "4cd7d936-5a51-4048-a6a3-f3bc1407fdcd",
   "metadata": {},
   "outputs": [
    {
     "data": {
      "text/plain": [
       "array([0, 1, 2, 3, 4, 5, 6, 7, 8, 9])"
      ]
     },
     "execution_count": 644,
     "metadata": {},
     "output_type": "execute_result"
    }
   ],
   "source": [
    "digits.target_names # label 데이터의 카테고리 확인"
   ]
  },
  {
   "cell_type": "code",
   "execution_count": 645,
   "id": "db40fb1a-ec23-4e2e-bae2-862ed8d60554",
   "metadata": {},
   "outputs": [
    {
     "name": "stdout",
     "output_type": "stream",
     "text": [
      ".. _digits_dataset:\n",
      "\n",
      "Optical recognition of handwritten digits dataset\n",
      "--------------------------------------------------\n",
      "\n",
      "**Data Set Characteristics:**\n",
      "\n",
      "    :Number of Instances: 1797\n",
      "    :Number of Attributes: 64\n",
      "    :Attribute Information: 8x8 image of integer pixels in the range 0..16.\n",
      "    :Missing Attribute Values: None\n",
      "    :Creator: E. Alpaydin (alpaydin '@' boun.edu.tr)\n",
      "    :Date: July; 1998\n",
      "\n",
      "This is a copy of the test set of the UCI ML hand-written digits datasets\n",
      "https://archive.ics.uci.edu/ml/datasets/Optical+Recognition+of+Handwritten+Digits\n",
      "\n",
      "The data set contains images of hand-written digits: 10 classes where\n",
      "each class refers to a digit.\n",
      "\n",
      "Preprocessing programs made available by NIST were used to extract\n",
      "normalized bitmaps of handwritten digits from a preprinted form. From a\n",
      "total of 43 people, 30 contributed to the training set and different 13\n",
      "to the test set. 32x32 bitmaps are divided into nonoverlapping blocks of\n",
      "4x4 and the number of on pixels are counted in each block. This generates\n",
      "an input matrix of 8x8 where each element is an integer in the range\n",
      "0..16. This reduces dimensionality and gives invariance to small\n",
      "distortions.\n",
      "\n",
      "For info on NIST preprocessing routines, see M. D. Garris, J. L. Blue, G.\n",
      "T. Candela, D. L. Dimmick, J. Geist, P. J. Grother, S. A. Janet, and C.\n",
      "L. Wilson, NIST Form-Based Handprint Recognition System, NISTIR 5469,\n",
      "1994.\n",
      "\n",
      ".. topic:: References\n",
      "\n",
      "  - C. Kaynak (1995) Methods of Combining Multiple Classifiers and Their\n",
      "    Applications to Handwritten Digit Recognition, MSc Thesis, Institute of\n",
      "    Graduate Studies in Science and Engineering, Bogazici University.\n",
      "  - E. Alpaydin, C. Kaynak (1998) Cascading Classifiers, Kybernetika.\n",
      "  - Ken Tang and Ponnuthurai N. Suganthan and Xi Yao and A. Kai Qin.\n",
      "    Linear dimensionalityreduction using relevance weighted LDA. School of\n",
      "    Electrical and Electronic Engineering Nanyang Technological University.\n",
      "    2005.\n",
      "  - Claudio Gentile. A New Approximate Maximal Margin Classification\n",
      "    Algorithm. NIPS. 2000.\n",
      "\n"
     ]
    }
   ],
   "source": [
    "print(digits.DESCR) # digits 데이터 설명"
   ]
  },
  {
   "cell_type": "markdown",
   "id": "4e7f8da8-e9a9-40c4-ba40-784b0d8ee38e",
   "metadata": {},
   "source": [
    "## 1.4  train, test 데이터 분리하기!"
   ]
  },
  {
   "cell_type": "code",
   "execution_count": 646,
   "id": "38ef5348-4f79-439d-9834-0d60a5cb7684",
   "metadata": {},
   "outputs": [
    {
     "name": "stdout",
     "output_type": "stream",
     "text": [
      "1437 1437 360 360\n"
     ]
    }
   ],
   "source": [
    "# feature와 label 데이터를 train, test 데이터셋으로 분리\n",
    "X_train, X_test, y_train, y_test = train_test_split(digits_data, digits_label, test_size=0.2)\n",
    "print(len(X_train), len(y_train), len(X_test), len(y_test))"
   ]
  },
  {
   "cell_type": "markdown",
   "id": "2e316e0d-e4b8-47b7-ba7d-232a1665bf03",
   "metadata": {},
   "source": [
    "## 1.5 다양한 모델로 학습시켜보기!"
   ]
  },
  {
   "cell_type": "code",
   "execution_count": 647,
   "id": "bcadc4ab-97cf-4b29-8de8-67901eaa3515",
   "metadata": {},
   "outputs": [],
   "source": [
    "DTC = DecisionTreeClassifier(random_state=9) # 의사결정나무\n",
    "\n",
    "DTC.fit(X_train, y_train) # train 데이터셋 학습\n",
    "y_pred_DTC = DTC.predict(X_test) # y 예측"
   ]
  },
  {
   "cell_type": "code",
   "execution_count": 648,
   "id": "4994e618-41e1-4e6d-9e80-178dadd9567c",
   "metadata": {},
   "outputs": [],
   "source": [
    "RFC = RandomForestClassifier(random_state=9) # 랜덤포레스트\n",
    "\n",
    "RFC.fit(X_train, y_train) # train 데이터셋 학습\n",
    "y_pred_RFC = RFC.predict(X_test) # y 예측"
   ]
  },
  {
   "cell_type": "code",
   "execution_count": 649,
   "id": "2e96ffb4-41f2-4b5d-8cea-4ba104efd7e1",
   "metadata": {},
   "outputs": [],
   "source": [
    "SVMC = svm.SVC(random_state=9) # svm\n",
    "\n",
    "SVMC.fit(X_train, y_train) # train 데이터셋 학습\n",
    "y_pred_SVMC = SVMC.predict(X_test) # y 예측"
   ]
  },
  {
   "cell_type": "code",
   "execution_count": 650,
   "id": "6f7fc59c-c805-4621-9496-cb4eaa3da3d6",
   "metadata": {},
   "outputs": [],
   "source": [
    "SGDC = SGDClassifier(random_state=9)\n",
    "\n",
    "SGDC.fit(X_train, y_train) # train 데이터셋 학습\n",
    "y_pred_SGDC = SGDC.predict(X_test) # y 예측"
   ]
  },
  {
   "cell_type": "code",
   "execution_count": 651,
   "id": "0f4dc04a-9f43-42cf-8352-0e87832c1570",
   "metadata": {},
   "outputs": [],
   "source": [
    "LR = LogisticRegression(random_state=9, solver='liblinear') # 로지스틱 회귀분석\n",
    "\n",
    "LR.fit(X_train, y_train) # train 데이터셋 학습\n",
    "y_pred_LR = LR.predict(X_test) # y 예측"
   ]
  },
  {
   "cell_type": "markdown",
   "id": "e416379f-0b90-43ce-91d1-b5979925a71e",
   "metadata": {},
   "source": [
    "## 1.6 모델을 평가해 보기!"
   ]
  },
  {
   "cell_type": "code",
   "execution_count": 652,
   "id": "2956ac1e-1c36-4499-b4b7-629f7a651c6a",
   "metadata": {},
   "outputs": [
    {
     "name": "stdout",
     "output_type": "stream",
     "text": [
      "decision_tree\n",
      "               precision    recall  f1-score   support\n",
      "\n",
      "           0       1.00      0.98      0.99        46\n",
      "           1       0.74      0.91      0.82        35\n",
      "           2       0.94      0.83      0.88        35\n",
      "           3       0.89      0.89      0.89        36\n",
      "           4       0.88      0.86      0.87        35\n",
      "           5       0.95      0.85      0.90        41\n",
      "           6       0.97      0.93      0.95        30\n",
      "           7       0.91      0.82      0.86        38\n",
      "           8       0.79      0.81      0.80        32\n",
      "           9       0.76      0.91      0.83        32\n",
      "\n",
      "    accuracy                           0.88       360\n",
      "   macro avg       0.88      0.88      0.88       360\n",
      "weighted avg       0.89      0.88      0.88       360\n",
      "\n"
     ]
    }
   ],
   "source": [
    "print('decision_tree\\n', classification_report(y_test, y_pred_DTC)) # decision_tree 평가"
   ]
  },
  {
   "cell_type": "code",
   "execution_count": 653,
   "id": "47e44540-e1ca-48b1-86d4-456d0cd36f9a",
   "metadata": {},
   "outputs": [
    {
     "name": "stdout",
     "output_type": "stream",
     "text": [
      "random_forest\n",
      "               precision    recall  f1-score   support\n",
      "\n",
      "           0       0.98      1.00      0.99        46\n",
      "           1       0.95      1.00      0.97        35\n",
      "           2       1.00      1.00      1.00        35\n",
      "           3       1.00      0.94      0.97        36\n",
      "           4       0.97      1.00      0.99        35\n",
      "           5       0.97      0.90      0.94        41\n",
      "           6       0.97      1.00      0.98        30\n",
      "           7       1.00      0.95      0.97        38\n",
      "           8       0.97      0.94      0.95        32\n",
      "           9       0.91      1.00      0.96        32\n",
      "\n",
      "    accuracy                           0.97       360\n",
      "   macro avg       0.97      0.97      0.97       360\n",
      "weighted avg       0.97      0.97      0.97       360\n",
      "\n"
     ]
    }
   ],
   "source": [
    "print('random_forest\\n', classification_report(y_test, y_pred_RFC)) # random_forest 평가"
   ]
  },
  {
   "cell_type": "code",
   "execution_count": 654,
   "id": "9f00cfa6-e87c-46c1-9c5e-742c256b917e",
   "metadata": {},
   "outputs": [
    {
     "name": "stdout",
     "output_type": "stream",
     "text": [
      "support_vector_machine\n",
      "               precision    recall  f1-score   support\n",
      "\n",
      "           0       1.00      1.00      1.00        46\n",
      "           1       0.97      1.00      0.99        35\n",
      "           2       1.00      1.00      1.00        35\n",
      "           3       1.00      1.00      1.00        36\n",
      "           4       1.00      1.00      1.00        35\n",
      "           5       1.00      0.95      0.97        41\n",
      "           6       0.97      1.00      0.98        30\n",
      "           7       1.00      0.97      0.99        38\n",
      "           8       1.00      0.97      0.98        32\n",
      "           9       0.94      1.00      0.97        32\n",
      "\n",
      "    accuracy                           0.99       360\n",
      "   macro avg       0.99      0.99      0.99       360\n",
      "weighted avg       0.99      0.99      0.99       360\n",
      "\n"
     ]
    }
   ],
   "source": [
    "print('support_vector_machine\\n', classification_report(y_test, y_pred_SVMC)) # support_vector_machine 평가"
   ]
  },
  {
   "cell_type": "code",
   "execution_count": 655,
   "id": "383cc848-6b7d-4a29-8997-05c7410bbb84",
   "metadata": {},
   "outputs": [
    {
     "name": "stdout",
     "output_type": "stream",
     "text": [
      "stochastic_gradient_descent\n",
      "               precision    recall  f1-score   support\n",
      "\n",
      "           0       1.00      1.00      1.00        46\n",
      "           1       0.94      0.94      0.94        35\n",
      "           2       0.97      1.00      0.99        35\n",
      "           3       0.92      1.00      0.96        36\n",
      "           4       1.00      1.00      1.00        35\n",
      "           5       1.00      0.85      0.92        41\n",
      "           6       0.97      1.00      0.98        30\n",
      "           7       0.97      0.95      0.96        38\n",
      "           8       0.94      0.91      0.92        32\n",
      "           9       0.91      1.00      0.96        32\n",
      "\n",
      "    accuracy                           0.96       360\n",
      "   macro avg       0.96      0.97      0.96       360\n",
      "weighted avg       0.97      0.96      0.96       360\n",
      "\n"
     ]
    }
   ],
   "source": [
    "print('stochastic_gradient_descent\\n', classification_report(y_test, y_pred_SGDC)) # stochastic_gradient_descent 평가"
   ]
  },
  {
   "cell_type": "code",
   "execution_count": 656,
   "id": "e2a7b672-6b32-4484-b3cf-10b02d02b30b",
   "metadata": {},
   "outputs": [
    {
     "name": "stdout",
     "output_type": "stream",
     "text": [
      "logistic_regression\n",
      "               precision    recall  f1-score   support\n",
      "\n",
      "           0       1.00      1.00      1.00        46\n",
      "           1       0.91      0.91      0.91        35\n",
      "           2       0.97      1.00      0.99        35\n",
      "           3       0.92      1.00      0.96        36\n",
      "           4       1.00      1.00      1.00        35\n",
      "           5       1.00      0.88      0.94        41\n",
      "           6       0.97      1.00      0.98        30\n",
      "           7       0.97      0.95      0.96        38\n",
      "           8       0.90      0.88      0.89        32\n",
      "           9       0.94      1.00      0.97        32\n",
      "\n",
      "    accuracy                           0.96       360\n",
      "   macro avg       0.96      0.96      0.96       360\n",
      "weighted avg       0.96      0.96      0.96       360\n",
      "\n"
     ]
    }
   ],
   "source": [
    "print('logistic_regression\\n', classification_report(y_test, y_pred_LR)) # logistic_regression 평가"
   ]
  },
  {
   "cell_type": "markdown",
   "id": "cdca4e34-65de-4ed9-98e3-776cc0218b2e",
   "metadata": {},
   "source": [
    "label이 균형있게 분포되어있는 데이터이고, 놓치지 말아야 할 label이 딱히 존재하지 않는다.\n",
    "따라서 평가 지표로 Accuracy가 적당해 보인다.\n",
    "\n",
    "5개의 모델 중 Accuracy가 0.98로 가장 높은 SVM 모델의 경우,  \n",
    "360개의 test 데이터 중 98%인 352개 이상을 맞춘 것으로 나왔다."
   ]
  },
  {
   "cell_type": "markdown",
   "id": "20060ab4-1e4b-4d28-b848-8510cd9c00be",
   "metadata": {
    "tags": []
   },
   "source": [
    "## 1.7 회고하기!"
   ]
  },
  {
   "cell_type": "markdown",
   "id": "613c8ea0-6ef8-4c8e-ad66-8d3148dfb129",
   "metadata": {},
   "source": [
    "처음 로지스틱 회귀분석 모델을 만들 때 어떤 parameter도 지정하지 않고 만든 후 train 데이터셋을 fitting 시켰을 때  \n",
    "ConvergenceWarning: lbfgs failed to converge (status=1)  \n",
    "라는 경고 메세지가 출력돼서 당황했었다.  \n",
    "이 경고 메세지는 충분히 학습하기엔 max_iter가 부족하다는 뜻이다.  \n",
    "max_iter를 지정하지 않아서 기본값인 100으로 돌아갔기 때문이다.    \n",
    "해결책은 max_iter를 더 높이거나 solver를 바꾸는 것이다.  \n",
    "max_iter를 1000으로 늘려봐도 경고 메세지가 떠서 5000까지 늘려봤더니 accuracy가 0.96이 나왔다.  \n",
    "이번엔 solver를 한때 로지스틱 회귀분석의 기본 solver였던 liblinear로 바꿔보았다.  \n",
    "max_iter를 따로 지정하지 않았지만 max_iter=5000모델과 마찬가지로 accruacy가 0.96이 나와서\n",
    "최종적으로는 solver만 liblinear로 바꾼 모델을 선택하게 되었다."
   ]
  },
  {
   "cell_type": "markdown",
   "id": "55fe1f09-0542-4c0e-9d2b-36b09dd1de62",
   "metadata": {
    "jp-MarkdownHeadingCollapsed": true,
    "tags": []
   },
   "source": [
    "# 2. load_wine 와인을 분류해 보기!"
   ]
  },
  {
   "cell_type": "markdown",
   "id": "64639039-6c97-4997-b74a-328d245024d5",
   "metadata": {},
   "source": [
    "## 2.1 필요한 모듈 import하기!"
   ]
  },
  {
   "cell_type": "code",
   "execution_count": 657,
   "id": "4b7fb2b4-aa08-474b-9d02-0369148fae5a",
   "metadata": {},
   "outputs": [],
   "source": [
    "# 데이터 준비\n",
    "from sklearn.datasets import load_wine # wine 데이터셋을 불러오는 함수\n",
    "\n",
    "# 데이터 분리\n",
    "# from sklearn.model_selection import train_test_split # 데이터를 train, test 데이터셋으로 나눠주는 함수\n",
    "\n",
    "# 데이터 학습\n",
    "# from sklearn.tree import DecisionTreeClassifier # 의사결정나무 - 분류\n",
    "# from sklearn.ensemble import RandomForestClassifier # 랜덤포레스트 - 분류\n",
    "# from sklearn import svm # 서포트 벡터 머신\n",
    "# from sklearn.linear_model import SGDClassifier # 확률적 경사 하강법 - 분류\n",
    "# from sklearn.linear_model import LogisticRegression # 로지스틱 회귀분석\n",
    "\n",
    "# 데이터 평가\n",
    "# from sklearn.metrics import classification_report # Confusion Matrix, accuracy 등을 출력해주는 함수"
   ]
  },
  {
   "cell_type": "markdown",
   "id": "04084762-0b82-4279-acad-a150249d07b6",
   "metadata": {},
   "source": [
    "## 2.2 데이터 준비하기!"
   ]
  },
  {
   "cell_type": "code",
   "execution_count": 658,
   "id": "41c9666d-78f8-4a98-80a3-7e735ae49050",
   "metadata": {},
   "outputs": [
    {
     "data": {
      "text/plain": [
       "dict_keys(['data', 'target', 'frame', 'target_names', 'DESCR', 'feature_names'])"
      ]
     },
     "execution_count": 658,
     "metadata": {},
     "output_type": "execute_result"
    }
   ],
   "source": [
    "wine = load_wine() # wine 데이터셋 불러오기\n",
    "wine.keys() # wine 데이터셋의 속성 종류"
   ]
  },
  {
   "cell_type": "markdown",
   "id": "2f354e0b-4339-41ad-9bb4-f0d2be2ea4e9",
   "metadata": {},
   "source": [
    "## 2.3 데이터 이해하기!"
   ]
  },
  {
   "cell_type": "code",
   "execution_count": 659,
   "id": "5a84809f-4e3b-4785-9c19-fd04aa1477ce",
   "metadata": {},
   "outputs": [
    {
     "data": {
      "text/plain": [
       "(178, 13)"
      ]
     },
     "execution_count": 659,
     "metadata": {},
     "output_type": "execute_result"
    }
   ],
   "source": [
    "wine_data = wine.data # wine의 feature 데이터 저장\n",
    "wine_data.shape"
   ]
  },
  {
   "cell_type": "code",
   "execution_count": 660,
   "id": "12a809b4-7924-4db3-a4e2-f29f9e3de739",
   "metadata": {},
   "outputs": [
    {
     "data": {
      "text/plain": [
       "(178,)"
      ]
     },
     "execution_count": 660,
     "metadata": {},
     "output_type": "execute_result"
    }
   ],
   "source": [
    "wine_label = wine.target # wine의 label 데이터 저장\n",
    "wine_label.shape"
   ]
  },
  {
   "cell_type": "code",
   "execution_count": 661,
   "id": "e3b5bd5a-19e7-4e86-bbb8-f4f6da52c5c0",
   "metadata": {},
   "outputs": [
    {
     "data": {
      "text/plain": [
       "array(['class_0', 'class_1', 'class_2'], dtype='<U7')"
      ]
     },
     "execution_count": 661,
     "metadata": {},
     "output_type": "execute_result"
    }
   ],
   "source": [
    "wine.target_names # label 데이터의 카테고리 확인"
   ]
  },
  {
   "cell_type": "code",
   "execution_count": 662,
   "id": "055bfba8-1153-4cb5-9de6-e594606011ee",
   "metadata": {},
   "outputs": [
    {
     "name": "stdout",
     "output_type": "stream",
     "text": [
      ".. _wine_dataset:\n",
      "\n",
      "Wine recognition dataset\n",
      "------------------------\n",
      "\n",
      "**Data Set Characteristics:**\n",
      "\n",
      "    :Number of Instances: 178 (50 in each of three classes)\n",
      "    :Number of Attributes: 13 numeric, predictive attributes and the class\n",
      "    :Attribute Information:\n",
      " \t\t- Alcohol\n",
      " \t\t- Malic acid\n",
      " \t\t- Ash\n",
      "\t\t- Alcalinity of ash  \n",
      " \t\t- Magnesium\n",
      "\t\t- Total phenols\n",
      " \t\t- Flavanoids\n",
      " \t\t- Nonflavanoid phenols\n",
      " \t\t- Proanthocyanins\n",
      "\t\t- Color intensity\n",
      " \t\t- Hue\n",
      " \t\t- OD280/OD315 of diluted wines\n",
      " \t\t- Proline\n",
      "\n",
      "    - class:\n",
      "            - class_0\n",
      "            - class_1\n",
      "            - class_2\n",
      "\t\t\n",
      "    :Summary Statistics:\n",
      "    \n",
      "    ============================= ==== ===== ======= =====\n",
      "                                   Min   Max   Mean     SD\n",
      "    ============================= ==== ===== ======= =====\n",
      "    Alcohol:                      11.0  14.8    13.0   0.8\n",
      "    Malic Acid:                   0.74  5.80    2.34  1.12\n",
      "    Ash:                          1.36  3.23    2.36  0.27\n",
      "    Alcalinity of Ash:            10.6  30.0    19.5   3.3\n",
      "    Magnesium:                    70.0 162.0    99.7  14.3\n",
      "    Total Phenols:                0.98  3.88    2.29  0.63\n",
      "    Flavanoids:                   0.34  5.08    2.03  1.00\n",
      "    Nonflavanoid Phenols:         0.13  0.66    0.36  0.12\n",
      "    Proanthocyanins:              0.41  3.58    1.59  0.57\n",
      "    Colour Intensity:              1.3  13.0     5.1   2.3\n",
      "    Hue:                          0.48  1.71    0.96  0.23\n",
      "    OD280/OD315 of diluted wines: 1.27  4.00    2.61  0.71\n",
      "    Proline:                       278  1680     746   315\n",
      "    ============================= ==== ===== ======= =====\n",
      "\n",
      "    :Missing Attribute Values: None\n",
      "    :Class Distribution: class_0 (59), class_1 (71), class_2 (48)\n",
      "    :Creator: R.A. Fisher\n",
      "    :Donor: Michael Marshall (MARSHALL%PLU@io.arc.nasa.gov)\n",
      "    :Date: July, 1988\n",
      "\n",
      "This is a copy of UCI ML Wine recognition datasets.\n",
      "https://archive.ics.uci.edu/ml/machine-learning-databases/wine/wine.data\n",
      "\n",
      "The data is the results of a chemical analysis of wines grown in the same\n",
      "region in Italy by three different cultivators. There are thirteen different\n",
      "measurements taken for different constituents found in the three types of\n",
      "wine.\n",
      "\n",
      "Original Owners: \n",
      "\n",
      "Forina, M. et al, PARVUS - \n",
      "An Extendible Package for Data Exploration, Classification and Correlation. \n",
      "Institute of Pharmaceutical and Food Analysis and Technologies,\n",
      "Via Brigata Salerno, 16147 Genoa, Italy.\n",
      "\n",
      "Citation:\n",
      "\n",
      "Lichman, M. (2013). UCI Machine Learning Repository\n",
      "[https://archive.ics.uci.edu/ml]. Irvine, CA: University of California,\n",
      "School of Information and Computer Science. \n",
      "\n",
      ".. topic:: References\n",
      "\n",
      "  (1) S. Aeberhard, D. Coomans and O. de Vel, \n",
      "  Comparison of Classifiers in High Dimensional Settings, \n",
      "  Tech. Rep. no. 92-02, (1992), Dept. of Computer Science and Dept. of  \n",
      "  Mathematics and Statistics, James Cook University of North Queensland. \n",
      "  (Also submitted to Technometrics). \n",
      "\n",
      "  The data was used with many others for comparing various \n",
      "  classifiers. The classes are separable, though only RDA \n",
      "  has achieved 100% correct classification. \n",
      "  (RDA : 100%, QDA 99.4%, LDA 98.9%, 1NN 96.1% (z-transformed data)) \n",
      "  (All results using the leave-one-out technique) \n",
      "\n",
      "  (2) S. Aeberhard, D. Coomans and O. de Vel, \n",
      "  \"THE CLASSIFICATION PERFORMANCE OF RDA\" \n",
      "  Tech. Rep. no. 92-01, (1992), Dept. of Computer Science and Dept. of \n",
      "  Mathematics and Statistics, James Cook University of North Queensland. \n",
      "  (Also submitted to Journal of Chemometrics).\n",
      "\n"
     ]
    }
   ],
   "source": [
    "print(wine.DESCR) # wine 데이터 설명"
   ]
  },
  {
   "cell_type": "markdown",
   "id": "a4f3010a-c071-4618-94c1-c145680b42ce",
   "metadata": {},
   "source": [
    "## 2.4  train, test 데이터 분리하기!"
   ]
  },
  {
   "cell_type": "code",
   "execution_count": 663,
   "id": "17ab8d76-8bbf-4d6d-b910-1c7fb4e553e6",
   "metadata": {},
   "outputs": [
    {
     "name": "stdout",
     "output_type": "stream",
     "text": [
      "142 142 36 36\n"
     ]
    }
   ],
   "source": [
    "# feature와 label 데이터를 train, test 데이터셋으로 분리\n",
    "X_train, X_test, y_train, y_test = train_test_split(wine_data, wine_label, test_size=0.2)\n",
    "print(len(X_train), len(y_train), len(X_test), len(y_test))"
   ]
  },
  {
   "cell_type": "markdown",
   "id": "18561f5a-6036-4c02-a830-0b42eb2b2dbd",
   "metadata": {},
   "source": [
    "## 2.5 스케일링하기!"
   ]
  },
  {
   "cell_type": "code",
   "execution_count": 664,
   "id": "1259aa2b-1cd0-48f7-a4a1-d3f881acc872",
   "metadata": {},
   "outputs": [],
   "source": [
    "from sklearn.preprocessing import StandardScaler\n",
    "\n",
    "scaler = StandardScaler() # 표준화 스케일러\n",
    "\n",
    "X_train = scaler.fit_transform(X_train) # X_train 데이터를 fit과 동시에 transform\n",
    "X_test = scaler.transform(X_test) # X_test 데이터를 transform"
   ]
  },
  {
   "cell_type": "markdown",
   "id": "be8375c9-cbd8-4c96-bd70-e04751fd053a",
   "metadata": {},
   "source": [
    "## 2.6 다양한 모델로 학습시켜보기!"
   ]
  },
  {
   "cell_type": "code",
   "execution_count": 665,
   "id": "936ce35e-2370-439e-8e0a-faf93470ead9",
   "metadata": {},
   "outputs": [],
   "source": [
    "DTC = DecisionTreeClassifier(random_state=9) # 의사결정나무\n",
    "\n",
    "DTC.fit(X_train, y_train) # train 데이터셋 학습\n",
    "y_pred_DTC = DTC.predict(X_test) # y 예측"
   ]
  },
  {
   "cell_type": "code",
   "execution_count": 666,
   "id": "9bf51822-666c-41f3-9fa4-a56e90122b9c",
   "metadata": {},
   "outputs": [],
   "source": [
    "RFC = RandomForestClassifier(random_state=9) # 랜덤포레스트\n",
    "\n",
    "RFC.fit(X_train, y_train) # train 데이터셋 학습\n",
    "y_pred_RFC = RFC.predict(X_test) # y 예측"
   ]
  },
  {
   "cell_type": "code",
   "execution_count": 667,
   "id": "6413f4d6-a0fa-466e-aa4f-2e0f72a17a39",
   "metadata": {},
   "outputs": [],
   "source": [
    "SVMC = svm.SVC(random_state=9) # svm\n",
    "\n",
    "SVMC.fit(X_train, y_train) # train 데이터셋 학습\n",
    "y_pred_SVMC = SVMC.predict(X_test) # y 예측"
   ]
  },
  {
   "cell_type": "code",
   "execution_count": 668,
   "id": "e314097e-f96b-431e-8cdd-d39358b48f9c",
   "metadata": {},
   "outputs": [],
   "source": [
    "SGDC = SGDClassifier(random_state=9)\n",
    "\n",
    "SGDC.fit(X_train, y_train) # train 데이터셋 학습\n",
    "y_pred_SGDC = SGDC.predict(X_test) # y 예측"
   ]
  },
  {
   "cell_type": "code",
   "execution_count": 669,
   "id": "f1319e75-7207-48c7-a9ee-4b5b968dd435",
   "metadata": {},
   "outputs": [],
   "source": [
    "LR = LogisticRegression(random_state=9) # 로지스틱 회귀분석\n",
    "\n",
    "LR.fit(X_train, y_train) # train 데이터셋 학습\n",
    "y_pred_LR = LR.predict(X_test) # y 예측"
   ]
  },
  {
   "cell_type": "markdown",
   "id": "271cb841-39ee-4990-b7d9-3630155d7a6f",
   "metadata": {},
   "source": [
    "## 2.7 모델을 평가해 보기!"
   ]
  },
  {
   "cell_type": "code",
   "execution_count": 670,
   "id": "92df88f2-03b3-4fa0-b729-a5b513f280a0",
   "metadata": {},
   "outputs": [
    {
     "name": "stdout",
     "output_type": "stream",
     "text": [
      "decision_tree\n",
      "               precision    recall  f1-score   support\n",
      "\n",
      "           0       1.00      0.92      0.96        13\n",
      "           1       0.92      0.85      0.88        13\n",
      "           2       0.83      1.00      0.91        10\n",
      "\n",
      "    accuracy                           0.92        36\n",
      "   macro avg       0.92      0.92      0.92        36\n",
      "weighted avg       0.92      0.92      0.92        36\n",
      "\n"
     ]
    }
   ],
   "source": [
    "print('decision_tree\\n', classification_report(y_test, y_pred_DTC)) # decision_tree 평가"
   ]
  },
  {
   "cell_type": "code",
   "execution_count": 671,
   "id": "9dfd80de-64ea-4d94-a1af-1d6a5a4b107e",
   "metadata": {},
   "outputs": [
    {
     "name": "stdout",
     "output_type": "stream",
     "text": [
      "random_forest\n",
      "               precision    recall  f1-score   support\n",
      "\n",
      "           0       1.00      1.00      1.00        13\n",
      "           1       1.00      1.00      1.00        13\n",
      "           2       1.00      1.00      1.00        10\n",
      "\n",
      "    accuracy                           1.00        36\n",
      "   macro avg       1.00      1.00      1.00        36\n",
      "weighted avg       1.00      1.00      1.00        36\n",
      "\n"
     ]
    }
   ],
   "source": [
    "print('random_forest\\n', classification_report(y_test, y_pred_RFC)) # random_forest 평가"
   ]
  },
  {
   "cell_type": "code",
   "execution_count": 672,
   "id": "601ac8fd-4301-48b5-b55e-0b15b11d6392",
   "metadata": {},
   "outputs": [
    {
     "name": "stdout",
     "output_type": "stream",
     "text": [
      "support_vector_machine\n",
      "               precision    recall  f1-score   support\n",
      "\n",
      "           0       1.00      1.00      1.00        13\n",
      "           1       1.00      1.00      1.00        13\n",
      "           2       1.00      1.00      1.00        10\n",
      "\n",
      "    accuracy                           1.00        36\n",
      "   macro avg       1.00      1.00      1.00        36\n",
      "weighted avg       1.00      1.00      1.00        36\n",
      "\n"
     ]
    }
   ],
   "source": [
    "print('support_vector_machine\\n', classification_report(y_test, y_pred_SVMC)) # support_vector_machine 평가"
   ]
  },
  {
   "cell_type": "code",
   "execution_count": 673,
   "id": "96f092a8-484f-44be-9321-9c6fc22ccb10",
   "metadata": {},
   "outputs": [
    {
     "name": "stdout",
     "output_type": "stream",
     "text": [
      "stochastic_gradient_descent\n",
      "               precision    recall  f1-score   support\n",
      "\n",
      "           0       1.00      1.00      1.00        13\n",
      "           1       1.00      0.85      0.92        13\n",
      "           2       0.83      1.00      0.91        10\n",
      "\n",
      "    accuracy                           0.94        36\n",
      "   macro avg       0.94      0.95      0.94        36\n",
      "weighted avg       0.95      0.94      0.94        36\n",
      "\n"
     ]
    }
   ],
   "source": [
    "print('stochastic_gradient_descent\\n', classification_report(y_test, y_pred_SGDC)) # stochastic_gradient_descent 평가"
   ]
  },
  {
   "cell_type": "code",
   "execution_count": 674,
   "id": "e4abe666-f8a8-452e-93a2-d742126e03d0",
   "metadata": {},
   "outputs": [
    {
     "name": "stdout",
     "output_type": "stream",
     "text": [
      "logistic_regression\n",
      "               precision    recall  f1-score   support\n",
      "\n",
      "           0       1.00      1.00      1.00        13\n",
      "           1       1.00      1.00      1.00        13\n",
      "           2       1.00      1.00      1.00        10\n",
      "\n",
      "    accuracy                           1.00        36\n",
      "   macro avg       1.00      1.00      1.00        36\n",
      "weighted avg       1.00      1.00      1.00        36\n",
      "\n"
     ]
    }
   ],
   "source": [
    "print('logistic_regression\\n', classification_report(y_test, y_pred_LR)) # logistic_regression 평가"
   ]
  },
  {
   "cell_type": "markdown",
   "id": "3df1af8d-10c9-4ca5-a86e-0b52185599ad",
   "metadata": {},
   "source": [
    "1장의 digits 데이터와 마찬가지로 label이 균형있게 분포되어있는 데이터이고, 놓치지 말아야 할 label이 존재하지 않기 때문에 평가 지표로 Accuracy가 적당해 보인다.\n",
    "\n",
    "5개의 모델 중 Accuracy가 1.00으로 가장 높은 random forest 모델의 경우,  \n",
    "36개의 test 데이터 중 36개 전부를 맞춘 것으로 나왔다."
   ]
  },
  {
   "cell_type": "markdown",
   "id": "e10adaf9-54cd-447d-b65d-67bdafeba0e1",
   "metadata": {},
   "source": [
    "## 2.8 회고하기!"
   ]
  },
  {
   "cell_type": "markdown",
   "id": "9f3c8302-2f82-42a6-ac71-4a12d964ffde",
   "metadata": {},
   "source": [
    "SVM 모델과 SGD 모델의 classification report를 출력할 때 가끔씩  \n",
    "UndefinedMetricWarning: Precision and F-score are ill-defined and being set to 0.0 in labels with no predicted samples.  \n",
    "라는 경고 메세지가 출력됐다.  \n",
    "이 메세지는 precision나 f1 score의 분수가 0이이서 정의하기 어렵기 때문에 임의로 0.0으로 표기한다는 뜻이다.  \n",
    "분수가 0이 된 이유는 모델이 잘못돼 어떤 특정 클래스로는 예측을 하나도 안한 나머지 분모에 합연산으로 들어가는 TP와 FP가 둘 다 0이 됐기 때문이다.  \n",
    "아주 간단한 해결책은 scaling를 하는 것이다. scaler를 사용하면 1장에서 발생한 경고 메세지도 해결된다.  \n",
    "여기서 중요한 점은 X_test 데이터셋을 fitting시키면 안된다는 점이다.  \n",
    "참고: https://yeko90.tistory.com/105"
   ]
  },
  {
   "cell_type": "markdown",
   "id": "2f295197-e51e-473f-be22-c76c64234503",
   "metadata": {
    "tags": []
   },
   "source": [
    "# 3. load_breast_cancer 와인을 분류해 보기!"
   ]
  },
  {
   "cell_type": "markdown",
   "id": "2ec7aefb-a7bf-477c-a497-0486dcb7f191",
   "metadata": {},
   "source": [
    "## 3.1 필요한 모듈 import하기!"
   ]
  },
  {
   "cell_type": "code",
   "execution_count": 694,
   "id": "a5f7a042-dcec-42bc-8b5a-bd9a32baa7ff",
   "metadata": {},
   "outputs": [],
   "source": [
    "# 데이터 준비\n",
    "from sklearn.datasets import load_breast_cancer # breast_cancer 데이터셋을 불러오는 함수\n",
    "\n",
    "# 데이터 분리\n",
    "# from sklearn.model_selection import train_test_split # 데이터를 train, test 데이터셋으로 나눠주는 함수\n",
    "\n",
    "# 데이터 학습\n",
    "# from sklearn.tree import DecisionTreeClassifier # 의사결정나무 - 분류\n",
    "# from sklearn.ensemble import RandomForestClassifier # 랜덤포레스트 - 분류\n",
    "# from sklearn import svm # 서포트 벡터 머신\n",
    "# from sklearn.linear_model import SGDClassifier # 확률적 경사 하강법 - 분류\n",
    "# from sklearn.linear_model import LogisticRegression # 로지스틱 회귀분석\n",
    "\n",
    "# 데이터 평가\n",
    "# from sklearn.metrics import classification_report # Confusion Matrix, accuracy 등을 출력해주는 함수"
   ]
  },
  {
   "cell_type": "markdown",
   "id": "58d6d967-c500-4f4e-a6e1-6bbf11cc8bb4",
   "metadata": {},
   "source": [
    "## 3.2 데이터 준비하기!"
   ]
  },
  {
   "cell_type": "code",
   "execution_count": 695,
   "id": "3ba57d8e-d7f7-4904-a11d-7f5e70fd0594",
   "metadata": {},
   "outputs": [
    {
     "data": {
      "text/plain": [
       "dict_keys(['data', 'target', 'frame', 'target_names', 'DESCR', 'feature_names', 'filename', 'data_module'])"
      ]
     },
     "execution_count": 695,
     "metadata": {},
     "output_type": "execute_result"
    }
   ],
   "source": [
    "breast_cancer = load_breast_cancer() # breast_cancer 데이터셋 불러오기\n",
    "breast_cancer.keys() # breast_cancer 데이터셋의 속성 종류"
   ]
  },
  {
   "cell_type": "markdown",
   "id": "ed94d2b3-000f-4654-9569-9eb1aa0ce297",
   "metadata": {},
   "source": [
    "## 3.3 데이터 이해하기!"
   ]
  },
  {
   "cell_type": "code",
   "execution_count": 696,
   "id": "5a4742f7-17cb-4f53-a757-eb7cee34fa4c",
   "metadata": {},
   "outputs": [
    {
     "data": {
      "text/plain": [
       "(569, 30)"
      ]
     },
     "execution_count": 696,
     "metadata": {},
     "output_type": "execute_result"
    }
   ],
   "source": [
    "breast_cancer_data = breast_cancer.data # breast_cancer의 feature 데이터 저장\n",
    "breast_cancer_data.shape"
   ]
  },
  {
   "cell_type": "code",
   "execution_count": 697,
   "id": "57e6c78b-6eae-466e-8e67-4ce14d43a546",
   "metadata": {},
   "outputs": [
    {
     "data": {
      "text/plain": [
       "(569,)"
      ]
     },
     "execution_count": 697,
     "metadata": {},
     "output_type": "execute_result"
    }
   ],
   "source": [
    "breast_cancer_label = breast_cancer.target # breast_cancer의 label 데이터 저장\n",
    "breast_cancer_label.shape"
   ]
  },
  {
   "cell_type": "code",
   "execution_count": 698,
   "id": "5ef35fab-a9e2-4b68-9587-63e01d5a72e5",
   "metadata": {},
   "outputs": [
    {
     "data": {
      "text/plain": [
       "array(['malignant', 'benign'], dtype='<U9')"
      ]
     },
     "execution_count": 698,
     "metadata": {},
     "output_type": "execute_result"
    }
   ],
   "source": [
    "breast_cancer.target_names # label 데이터의 카테고리 확인"
   ]
  },
  {
   "cell_type": "code",
   "execution_count": 699,
   "id": "d326bfb1-0d81-4a0a-94a2-cdcffdb5147d",
   "metadata": {},
   "outputs": [
    {
     "name": "stdout",
     "output_type": "stream",
     "text": [
      ".. _breast_cancer_dataset:\n",
      "\n",
      "Breast cancer wisconsin (diagnostic) dataset\n",
      "--------------------------------------------\n",
      "\n",
      "**Data Set Characteristics:**\n",
      "\n",
      "    :Number of Instances: 569\n",
      "\n",
      "    :Number of Attributes: 30 numeric, predictive attributes and the class\n",
      "\n",
      "    :Attribute Information:\n",
      "        - radius (mean of distances from center to points on the perimeter)\n",
      "        - texture (standard deviation of gray-scale values)\n",
      "        - perimeter\n",
      "        - area\n",
      "        - smoothness (local variation in radius lengths)\n",
      "        - compactness (perimeter^2 / area - 1.0)\n",
      "        - concavity (severity of concave portions of the contour)\n",
      "        - concave points (number of concave portions of the contour)\n",
      "        - symmetry\n",
      "        - fractal dimension (\"coastline approximation\" - 1)\n",
      "\n",
      "        The mean, standard error, and \"worst\" or largest (mean of the three\n",
      "        worst/largest values) of these features were computed for each image,\n",
      "        resulting in 30 features.  For instance, field 0 is Mean Radius, field\n",
      "        10 is Radius SE, field 20 is Worst Radius.\n",
      "\n",
      "        - class:\n",
      "                - WDBC-Malignant\n",
      "                - WDBC-Benign\n",
      "\n",
      "    :Summary Statistics:\n",
      "\n",
      "    ===================================== ====== ======\n",
      "                                           Min    Max\n",
      "    ===================================== ====== ======\n",
      "    radius (mean):                        6.981  28.11\n",
      "    texture (mean):                       9.71   39.28\n",
      "    perimeter (mean):                     43.79  188.5\n",
      "    area (mean):                          143.5  2501.0\n",
      "    smoothness (mean):                    0.053  0.163\n",
      "    compactness (mean):                   0.019  0.345\n",
      "    concavity (mean):                     0.0    0.427\n",
      "    concave points (mean):                0.0    0.201\n",
      "    symmetry (mean):                      0.106  0.304\n",
      "    fractal dimension (mean):             0.05   0.097\n",
      "    radius (standard error):              0.112  2.873\n",
      "    texture (standard error):             0.36   4.885\n",
      "    perimeter (standard error):           0.757  21.98\n",
      "    area (standard error):                6.802  542.2\n",
      "    smoothness (standard error):          0.002  0.031\n",
      "    compactness (standard error):         0.002  0.135\n",
      "    concavity (standard error):           0.0    0.396\n",
      "    concave points (standard error):      0.0    0.053\n",
      "    symmetry (standard error):            0.008  0.079\n",
      "    fractal dimension (standard error):   0.001  0.03\n",
      "    radius (worst):                       7.93   36.04\n",
      "    texture (worst):                      12.02  49.54\n",
      "    perimeter (worst):                    50.41  251.2\n",
      "    area (worst):                         185.2  4254.0\n",
      "    smoothness (worst):                   0.071  0.223\n",
      "    compactness (worst):                  0.027  1.058\n",
      "    concavity (worst):                    0.0    1.252\n",
      "    concave points (worst):               0.0    0.291\n",
      "    symmetry (worst):                     0.156  0.664\n",
      "    fractal dimension (worst):            0.055  0.208\n",
      "    ===================================== ====== ======\n",
      "\n",
      "    :Missing Attribute Values: None\n",
      "\n",
      "    :Class Distribution: 212 - Malignant, 357 - Benign\n",
      "\n",
      "    :Creator:  Dr. William H. Wolberg, W. Nick Street, Olvi L. Mangasarian\n",
      "\n",
      "    :Donor: Nick Street\n",
      "\n",
      "    :Date: November, 1995\n",
      "\n",
      "This is a copy of UCI ML Breast Cancer Wisconsin (Diagnostic) datasets.\n",
      "https://goo.gl/U2Uwz2\n",
      "\n",
      "Features are computed from a digitized image of a fine needle\n",
      "aspirate (FNA) of a breast mass.  They describe\n",
      "characteristics of the cell nuclei present in the image.\n",
      "\n",
      "Separating plane described above was obtained using\n",
      "Multisurface Method-Tree (MSM-T) [K. P. Bennett, \"Decision Tree\n",
      "Construction Via Linear Programming.\" Proceedings of the 4th\n",
      "Midwest Artificial Intelligence and Cognitive Science Society,\n",
      "pp. 97-101, 1992], a classification method which uses linear\n",
      "programming to construct a decision tree.  Relevant features\n",
      "were selected using an exhaustive search in the space of 1-4\n",
      "features and 1-3 separating planes.\n",
      "\n",
      "The actual linear program used to obtain the separating plane\n",
      "in the 3-dimensional space is that described in:\n",
      "[K. P. Bennett and O. L. Mangasarian: \"Robust Linear\n",
      "Programming Discrimination of Two Linearly Inseparable Sets\",\n",
      "Optimization Methods and Software 1, 1992, 23-34].\n",
      "\n",
      "This database is also available through the UW CS ftp server:\n",
      "\n",
      "ftp ftp.cs.wisc.edu\n",
      "cd math-prog/cpo-dataset/machine-learn/WDBC/\n",
      "\n",
      ".. topic:: References\n",
      "\n",
      "   - W.N. Street, W.H. Wolberg and O.L. Mangasarian. Nuclear feature extraction \n",
      "     for breast tumor diagnosis. IS&T/SPIE 1993 International Symposium on \n",
      "     Electronic Imaging: Science and Technology, volume 1905, pages 861-870,\n",
      "     San Jose, CA, 1993.\n",
      "   - O.L. Mangasarian, W.N. Street and W.H. Wolberg. Breast cancer diagnosis and \n",
      "     prognosis via linear programming. Operations Research, 43(4), pages 570-577, \n",
      "     July-August 1995.\n",
      "   - W.H. Wolberg, W.N. Street, and O.L. Mangasarian. Machine learning techniques\n",
      "     to diagnose breast cancer from fine-needle aspirates. Cancer Letters 77 (1994) \n",
      "     163-171.\n"
     ]
    }
   ],
   "source": [
    "print(breast_cancer.DESCR) # breast_cancer 데이터 설명"
   ]
  },
  {
   "cell_type": "markdown",
   "id": "e666e77e-b264-4f63-ad6a-177d5993fbf6",
   "metadata": {},
   "source": [
    "## 3.4  train, test 데이터 분리하기!"
   ]
  },
  {
   "cell_type": "code",
   "execution_count": 700,
   "id": "d6c99cb2-849c-4318-9253-ed7d05d3df3a",
   "metadata": {},
   "outputs": [
    {
     "name": "stdout",
     "output_type": "stream",
     "text": [
      "455 455 114 114\n"
     ]
    }
   ],
   "source": [
    "# feature와 label 데이터를 train, test 데이터셋으로 분리\n",
    "X_train, X_test, y_train, y_test = train_test_split(breast_cancer_data, breast_cancer_label, test_size=0.2)\n",
    "print(len(X_train), len(y_train), len(X_test), len(y_test))"
   ]
  },
  {
   "cell_type": "markdown",
   "id": "c1098798-370f-4e7b-8e34-c74ebd2d3fa2",
   "metadata": {},
   "source": [
    "## 3.5 스케일링하기!"
   ]
  },
  {
   "cell_type": "code",
   "execution_count": 701,
   "id": "0b60a1a4-c0ac-417d-af35-8814462b5ec6",
   "metadata": {},
   "outputs": [],
   "source": [
    "from sklearn.preprocessing import StandardScaler\n",
    "\n",
    "scaler = StandardScaler() # 표준화 스케일러\n",
    "\n",
    "X_train = scaler.fit_transform(X_train) # X_train 데이터를 fit과 동시에 transform\n",
    "X_test = scaler.transform(X_test) # X_test 데이터를 transform"
   ]
  },
  {
   "cell_type": "markdown",
   "id": "3f21c7de-1f7b-4116-a51a-2fc057adcb06",
   "metadata": {},
   "source": [
    "## 3.6 다양한 모델로 학습시켜보기!"
   ]
  },
  {
   "cell_type": "code",
   "execution_count": 702,
   "id": "2cbcc7d7-6ca5-4248-9b60-d033a35663cc",
   "metadata": {},
   "outputs": [],
   "source": [
    "DTC = DecisionTreeClassifier(random_state=9) # 의사결정나무\n",
    "\n",
    "DTC.fit(X_train, y_train) # train 데이터셋 학습\n",
    "y_pred_DTC = DTC.predict(X_test) # y 예측"
   ]
  },
  {
   "cell_type": "code",
   "execution_count": 703,
   "id": "25913328-0c21-4d8b-b5b3-66c258ad43e4",
   "metadata": {},
   "outputs": [],
   "source": [
    "RFC = RandomForestClassifier(random_state=9) # 랜덤포레스트\n",
    "\n",
    "RFC.fit(X_train, y_train) # train 데이터셋 학습\n",
    "y_pred_RFC = RFC.predict(X_test) # y 예측"
   ]
  },
  {
   "cell_type": "code",
   "execution_count": 704,
   "id": "22656a1f-cdd0-45df-b3d4-25f73fb59029",
   "metadata": {},
   "outputs": [],
   "source": [
    "SVMC = svm.SVC(random_state=9) # svm\n",
    "\n",
    "SVMC.fit(X_train, y_train) # train 데이터셋 학습\n",
    "y_pred_SVMC = SVMC.predict(X_test) # y 예측"
   ]
  },
  {
   "cell_type": "code",
   "execution_count": 705,
   "id": "85bc02d8-573c-43bb-b5ff-3445fd1eacad",
   "metadata": {},
   "outputs": [],
   "source": [
    "SGDC = SGDClassifier(random_state=9)\n",
    "\n",
    "SGDC.fit(X_train, y_train) # train 데이터셋 학습\n",
    "y_pred_SGDC = SGDC.predict(X_test) # y 예측"
   ]
  },
  {
   "cell_type": "code",
   "execution_count": 706,
   "id": "f6ab21ae-6349-4d21-a1bb-53cda2c50a75",
   "metadata": {},
   "outputs": [],
   "source": [
    "LR = LogisticRegression(random_state=9) # 로지스틱 회귀분석\n",
    "\n",
    "LR.fit(X_train, y_train) # train 데이터셋 학습\n",
    "y_pred_LR = LR.predict(X_test) # y 예측"
   ]
  },
  {
   "cell_type": "markdown",
   "id": "e02a99c0-6f61-46d0-baa7-af0acd75ba3b",
   "metadata": {},
   "source": [
    "## 3.7 모델을 평가해 보기!"
   ]
  },
  {
   "cell_type": "code",
   "execution_count": 707,
   "id": "8c2ffac9-c58c-4a5a-8757-65da3c79d394",
   "metadata": {},
   "outputs": [
    {
     "name": "stdout",
     "output_type": "stream",
     "text": [
      "decision_tree\n",
      "               precision    recall  f1-score   support\n",
      "\n",
      "           0       0.89      0.95      0.92        41\n",
      "           1       0.97      0.93      0.95        73\n",
      "\n",
      "    accuracy                           0.94       114\n",
      "   macro avg       0.93      0.94      0.93       114\n",
      "weighted avg       0.94      0.94      0.94       114\n",
      "\n"
     ]
    }
   ],
   "source": [
    "print('decision_tree\\n', classification_report(y_test, y_pred_DTC)) # decision_tree 평가"
   ]
  },
  {
   "cell_type": "code",
   "execution_count": 708,
   "id": "976ac832-25de-4475-ae9d-ce830c062b18",
   "metadata": {},
   "outputs": [
    {
     "name": "stdout",
     "output_type": "stream",
     "text": [
      "random_forest\n",
      "               precision    recall  f1-score   support\n",
      "\n",
      "           0       0.93      0.95      0.94        41\n",
      "           1       0.97      0.96      0.97        73\n",
      "\n",
      "    accuracy                           0.96       114\n",
      "   macro avg       0.95      0.96      0.95       114\n",
      "weighted avg       0.96      0.96      0.96       114\n",
      "\n"
     ]
    }
   ],
   "source": [
    "print('random_forest\\n', classification_report(y_test, y_pred_RFC)) # random_forest 평가"
   ]
  },
  {
   "cell_type": "code",
   "execution_count": 709,
   "id": "11db5dcd-d937-4e5d-8f92-757340600bee",
   "metadata": {},
   "outputs": [
    {
     "name": "stdout",
     "output_type": "stream",
     "text": [
      "support_vector_machine\n",
      "               precision    recall  f1-score   support\n",
      "\n",
      "           0       0.98      0.98      0.98        41\n",
      "           1       0.99      0.99      0.99        73\n",
      "\n",
      "    accuracy                           0.98       114\n",
      "   macro avg       0.98      0.98      0.98       114\n",
      "weighted avg       0.98      0.98      0.98       114\n",
      "\n"
     ]
    }
   ],
   "source": [
    "print('support_vector_machine\\n', classification_report(y_test, y_pred_SVMC)) # support_vector_machine 평가"
   ]
  },
  {
   "cell_type": "code",
   "execution_count": 710,
   "id": "5dde441f-b63e-407c-9eb8-9f8f19369bf3",
   "metadata": {},
   "outputs": [
    {
     "name": "stdout",
     "output_type": "stream",
     "text": [
      "stochastic_gradient_descent\n",
      "               precision    recall  f1-score   support\n",
      "\n",
      "           0       0.95      0.95      0.95        41\n",
      "           1       0.97      0.97      0.97        73\n",
      "\n",
      "    accuracy                           0.96       114\n",
      "   macro avg       0.96      0.96      0.96       114\n",
      "weighted avg       0.96      0.96      0.96       114\n",
      "\n"
     ]
    }
   ],
   "source": [
    "print('stochastic_gradient_descent\\n', classification_report(y_test, y_pred_SGDC)) # stochastic_gradient_descent 평가"
   ]
  },
  {
   "cell_type": "code",
   "execution_count": 711,
   "id": "43b8e80c-961f-4ee7-80d2-d1f3b01bb304",
   "metadata": {},
   "outputs": [
    {
     "name": "stdout",
     "output_type": "stream",
     "text": [
      "logistic_regression\n",
      "               precision    recall  f1-score   support\n",
      "\n",
      "           0       1.00      0.93      0.96        41\n",
      "           1       0.96      1.00      0.98        73\n",
      "\n",
      "    accuracy                           0.97       114\n",
      "   macro avg       0.98      0.96      0.97       114\n",
      "weighted avg       0.97      0.97      0.97       114\n",
      "\n"
     ]
    }
   ],
   "source": [
    "print('logistic_regression\\n', classification_report(y_test, y_pred_LR)) # logistic_regression 평가"
   ]
  },
  {
   "cell_type": "markdown",
   "id": "a5742bfb-9a33-415f-bc3f-4ecc10bbf534",
   "metadata": {},
   "source": [
    "label이 꽤 균형있게 분포되어있는 데이터이지만, 놓치지 말아야 할 label이 존재한다.  \n",
    "유방암의 positive(malignant==암)를 놓치면 안되므로 평가 지표로 Recall이 적당해 보인다.\n",
    "\n",
    "5개의 모델 중 Recall이 0.98로 가장 높은 SVM 모델의 경우,  \n",
    "114개의 test 데이터 중 98%인 111개 이상을 맞춘 것으로 나왔다."
   ]
  },
  {
   "cell_type": "markdown",
   "id": "5233c9a1-8e02-45ae-bd0f-fd2addeefba7",
   "metadata": {},
   "source": [
    "## 3.8 회고하기!"
   ]
  },
  {
   "cell_type": "markdown",
   "id": "f8c484ca-6955-460f-aa06-afe47a86ea57",
   "metadata": {},
   "source": [
    "2장 wine 데이터와 마찬가지로 scaling만 해줘도 오류나 경고 메세지가 뜨지 않았고,  \n",
    "모든 모델의 성능이 준수하게 나온 것을 알 수 있다.  \n",
    "scaling은 전처리 과정 중 하나이므로 전처리가 얼마나 중요한지 깨달았다.  \n",
    "또한 Accuracy 지표와는 다르게 Recall 지표는 어떤 클래스를 양성으로 놓냐에 따라서 값이 달라져서 헷갈리기도 했지만  \n",
    "target_names를 다시 들여다보고 0이 암이라는 사실을 알아챘다."
   ]
  },
  {
   "cell_type": "code",
   "execution_count": null,
   "id": "e45aac06-5139-4b2e-ba5f-05457e3fe45f",
   "metadata": {},
   "outputs": [],
   "source": []
  }
 ],
 "metadata": {
  "kernelspec": {
   "display_name": "Python 3 (ipykernel)",
   "language": "python",
   "name": "python3"
  },
  "language_info": {
   "codemirror_mode": {
    "name": "ipython",
    "version": 3
   },
   "file_extension": ".py",
   "mimetype": "text/x-python",
   "name": "python",
   "nbconvert_exporter": "python",
   "pygments_lexer": "ipython3",
   "version": "3.9.12"
  }
 },
 "nbformat": 4,
 "nbformat_minor": 5
}
